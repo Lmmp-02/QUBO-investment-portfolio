{
  "nbformat": 4,
  "nbformat_minor": 0,
  "metadata": {
    "colab": {
      "provenance": []
    },
    "kernelspec": {
      "name": "python3",
      "display_name": "Python 3"
    },
    "language_info": {
      "name": "python"
    }
  },
  "cells": [
    {
      "cell_type": "markdown",
      "source": [
        "# Implementación del Problema de Optimización de Carteras con Computador Cuántico Adiabático\n",
        "\n",
        "Este cuaderno describe la implementación de un problema de optimización de carteras de inversiones utilizando un computador cuántico adiabático. El enfoque adoptado es el del \"Minimum Volatility Portfolio\", utilizando variables binarias para la selección de activos. El objetivo principal es minimizar el riesgo total de la cartera, modelado por la fórmula:\n",
        "\n",
        "$$\\min \\sum_{i,j} x_i \\cdot w_{ij} \\cdot x_j$$\n",
        "\n",
        "donde $x_i$ representa la inclusión (1) o no (0) del activo $i$ en la cartera, y $w_{ij}$ es el término de covarianza entre los activos $i$ y $j$.\n",
        "\n",
        "Además, se establece una restricción sobre el retorno esperado de la cartera, asegurando que sea al menos igual a un umbral predefinido. Esto se modela con una variable slack y se expresa como:\n",
        "\n",
        "$$R \\leq \\sum_{i} x_i \\cdot r_i$$\n",
        "\n",
        "donde $r_i$ es el retorno esperado del activo $i$.\n",
        "\n",
        "Finalmente, como condición adicional, se determina que solo se quiere invertir en la mitad de las empresas disponibles. Esto se traduce en la restricción:\n",
        "\n",
        "$$\\sum_{i} x_i = \\frac{N}{2}$$\n",
        "\n",
        "donde $N$ es el número total de activos disponibles.\n",
        "\n"
      ],
      "metadata": {
        "id": "BQICE2tvsb64"
      }
    },
    {
      "cell_type": "code",
      "source": [
        "!pip install -r \"requirements_unix.txt\" > /dev/null 2>&1 # Para redirigir la salida estándar y la salida de error a /dev/null"
      ],
      "metadata": {
        "id": "-T6hjtCtsWWK"
      },
      "execution_count": 4,
      "outputs": []
    },
    {
      "cell_type": "code",
      "source": [
        "%matplotlib widget\n",
        "from IPython.display import display, HTML\n",
        "display(HTML(\"<style>.container{width:100% !important;}</style>\"))\n",
        "import random\n",
        "from IPython.display import display, HTML\n",
        "from dadk.Optimizer import *\n",
        "from dadk.SolverFactory import *\n",
        "from dadk.Solution_SolutionList import *\n",
        "from dadk.BinPol import *\n",
        "from random import uniform\n",
        "from tabulate import tabulate\n",
        "from numpy import argmax\n",
        "import numpy as np\n",
        "from dadk.QUBOSolverCPU import *\n",
        "import pandas as pd\n",
        "import numpy as np"
      ],
      "metadata": {
        "colab": {
          "base_uri": "https://localhost:8080/",
          "height": 17
        },
        "id": "vJmFwAT-pJSa",
        "outputId": "1a4943c0-61fc-44eb-b585-3f85578532d3"
      },
      "execution_count": 5,
      "outputs": [
        {
          "output_type": "display_data",
          "data": {
            "text/plain": [
              "<IPython.core.display.HTML object>"
            ],
            "text/html": [
              "<style>.container{width:100% !important;}</style>"
            ]
          },
          "metadata": {}
        }
      ]
    },
    {
      "cell_type": "code",
      "source": [
        "# Establecer una semilla para la reproducibilidad\n",
        "np.random.seed(0)\n",
        "\n",
        "# Crear un DataFrame con valores aleatorios y ajustamos para tener diferentes rangos (precios de cierre de las acciones)\n",
        "data = {\n",
        "    'EmpresaA': np.random.randint(80, 120, size=10),  # Precios moderadamente altos\n",
        "    'EmpresaB': np.random.randint(50, 90, size=10),   # Precios moderados\n",
        "    'EmpresaC': np.random.randint(20, 60, size=10),   # Precios bajos\n",
        "    'EmpresaD': np.random.randint(100, 140, size=10)  # Precios altos\n",
        "}\n",
        "\n",
        "# Convertir el diccionario en un DataFrame de pandas\n",
        "prices = pd.DataFrame(data, index=pd.date_range(start='2024-04-20', periods=10, freq='D'))\n",
        "prices.to_csv('Dataset_Acciones_pequenio.csv', index=False)\n",
        "\n",
        "# Mostrar el DataFrame\n",
        "print(prices.head())\n"
      ],
      "metadata": {
        "colab": {
          "base_uri": "https://localhost:8080/"
        },
        "id": "k0p-6VUgNgbJ",
        "outputId": "30c4b1ad-e21d-4afc-ac73-c492ac9fb618"
      },
      "execution_count": 6,
      "outputs": [
        {
          "output_type": "stream",
          "name": "stdout",
          "text": [
            "            EmpresaA  EmpresaB  EmpresaC  EmpresaD\n",
            "2024-04-20        80        74        45       135\n",
            "2024-04-21        83        74        33       124\n",
            "2024-04-22        83        62        28       129\n",
            "2024-04-23       119        51        29       119\n",
            "2024-04-24        89        88        40       119\n"
          ]
        }
      ]
    },
    {
      "cell_type": "code",
      "source": [
        "# Cargar los datos del dataset\n",
        "#df = pd.read_csv('dataset_precios_acciones_DEMO.csv')\n",
        "\n",
        "# Eliminar la primera fila porque no es un valor numérico\n",
        "#prices = df.filter(like='Cierre')\n",
        "\n",
        "# Calcular los retornos diarios y la matriz de covarianza\n",
        "# La función pct_change() calcula el cambio porcentual entre filas consecutivas, días en este caso\n",
        "returns = prices.pct_change().dropna()\n",
        "cov_matrix = returns.cov().values\n",
        "\n",
        "\n",
        "# Obtener cantidad de activos N basado en las columnas seleccionadas\n",
        "n_assets = len(prices.columns)\n",
        "asset_names = prices.columns.tolist()\n",
        "\n",
        "# Función para construir el modelo QUBO\n",
        "def build_qubo(cov_matrix, n_assets, factor_penalty):\n",
        "    var_shape_set = VarShapeSet(BitArrayShape('x', (n_assets,)))\n",
        "    BinPol.freeze_var_shape_set(var_shape_set)\n",
        "\n",
        "    H_cuad = BinPol()\n",
        "    # Construir H_cuad utilizando la matriz de covarianza\n",
        "    for i in range(n_assets):\n",
        "        for j in range(n_assets):\n",
        "            w_ij = cov_matrix[i, j]\n",
        "            H_cuad.add_term(w_ij, ('x', i), ('x', j))\n",
        "            #print(w_ij)\n",
        "\n",
        "    # Construir H_half para representar la restricción\n",
        "    H_half = BinPol()\n",
        "\n",
        "    for i in range(n_assets):\n",
        "        H_half.add_term(1, ('x', i))\n",
        "    H_half.add_term(-n_assets / 2, ())\n",
        "    #H_half.add_term(-factor_penalty * (n_assets / 2), ())\n",
        "    H_half.power(2)\n",
        "    #H_half.multiply_by_scalar(factor_penalty)\n",
        "    #H_half = H_half*factor_penalty\n",
        "\n",
        "    # Combinar los términos para formar el QUBO\n",
        "    QUBO = H_cuad + H_half\n",
        "\n",
        "    return QUBO, H_half\n",
        "\n",
        "\n",
        "# Coeficiente de penalización para la restricción H_half\n",
        "factor_penalty = 0  # Porque el dataset es muy pequeño\n",
        "QUBO, H_half = build_qubo(cov_matrix, n_assets, factor_penalty)\n",
        "\n",
        "# Configurar y ejecutar el solucionador QUBO\n",
        "solver = QUBOSolverCPU(\n",
        "    number_iterations=50000,\n",
        "    number_runs=10,\n",
        "    scaling_bit_precision=16,\n",
        "    auto_tuning=AutoTuning.AUTO_SCALING_AND_SAMPLING\n",
        ")\n",
        "\n",
        "solution_list = solver.minimize(QUBO)\n",
        "print(solution_list.solver_times)\n"
      ],
      "metadata": {
        "colab": {
          "base_uri": "https://localhost:8080/"
        },
        "id": "c5n0NX05xhgI",
        "outputId": "cea365c6-005a-4502-c629-82c84fac8612"
      },
      "execution_count": 7,
      "outputs": [
        {
          "output_type": "stream",
          "name": "stdout",
          "text": [
            "\n",
            "********************************************************************************\n",
            "Scaling qubo, temperature_start, temperature_end and offset_increase_rate\n",
            "  factor:                        10978.00000\n",
            "********************************************************************************\n",
            "\n",
            "\n",
            "********************************************************************************\n",
            "Effective values (including scaling factor)\n",
            "  temperature_start:               29460.000\n",
            "  temperature_end:                   118.700\n",
            "  offset_increase_rate:             1120.000\n",
            "  duration:                            0.002 sec\n",
            "********************************************************************************\n",
            "\n",
            "+--------------+----------------------------+----------------------------+----------------+\n",
            "| time         | from                       | to                         | duration       |\n",
            "|--------------+----------------------------+----------------------------+----------------|\n",
            "| anneal       | 2024-05-05 22:20:22.264103 | 2024-05-05 22:20:22.336465 | 0:00:00.072362 |\n",
            "| cpu          | 2024-05-05 22:20:22.262934 | 2024-05-05 22:20:22.264052 | 0:00:00.001118 |\n",
            "| elapsed      | 2024-05-05 22:20:22.260099 | 2024-05-05 22:20:22.336735 | 0:00:00.076636 |\n",
            "| execution    | 2024-05-05 22:20:22.262908 | 2024-05-05 22:20:22.336552 | 0:00:00.073644 |\n",
            "| prepare_qubo | 2024-05-05 22:20:22.262550 | 2024-05-05 22:20:22.262833 | 0:00:00.000283 |\n",
            "| solve        | 2024-05-05 22:20:22.262918 | 2024-05-05 22:20:22.336527 | 0:00:00.073609 |\n",
            "| tuning       | 2024-05-05 22:20:22.260125 | 2024-05-05 22:20:22.262491 | 0:00:00.002366 |\n",
            "+--------------+----------------------------+----------------------------+----------------+\n"
          ]
        }
      ]
    },
    {
      "cell_type": "code",
      "source": [
        "# Función para preparar y presentar el resultado\n",
        "def prep_result(solution_list, H_half, silent=False):\n",
        "    solution = solution_list.min_solution\n",
        "    constraint_penalty = H_half.compute(solution.configuration)\n",
        "    if not silent:\n",
        "        print(f'Valor QUBO: {constraint_penalty}')\n",
        "    return constraint_penalty, solution\n",
        "\n",
        "# Función para reportar la solución\n",
        "def report(constraint_penalty, solution, asset_names, silent=False):\n",
        "    if not silent:\n",
        "        if constraint_penalty < 0.1:\n",
        "            print('Portfolio elegido:')\n",
        "            selected_assets = [asset_names[i] for i, bit in enumerate(solution.configuration) if bit > 0.5] # Si es 1 se incluye en el portfolio y si es 0 no, por eso se pone el 0.5\n",
        "            print(selected_assets)\n",
        "        else:\n",
        "            print(\"Solución inválida :(\")\n",
        "\n",
        "# Utilizar las funciones de resultado y reporte\n",
        "constraint_penalty, solution = prep_result(solution_list, QUBO)\n",
        "report(constraint_penalty, solution, asset_names)"
      ],
      "metadata": {
        "id": "g4Tkvzi0IfKm",
        "colab": {
          "base_uri": "https://localhost:8080/"
        },
        "outputId": "abd68717-2e3c-4109-e0c2-b06a5bc1dff0"
      },
      "execution_count": 8,
      "outputs": [
        {
          "output_type": "stream",
          "name": "stdout",
          "text": [
            "Valor QUBO: 0.049128903525670786\n",
            "Portfolio elegido:\n",
            "['EmpresaA', 'EmpresaD']\n"
          ]
        }
      ]
    },
    {
      "cell_type": "code",
      "source": [
        "# Datos de los precios de acciones por empresa\n",
        "empresaA = [80, 83, 83, 119, 89]\n",
        "empresaB = [59, 50, 60, 73, 52]\n",
        "empresaC = [29, 29, 43, 23, 46]\n",
        "empresaD = [135, 119, 107, 108, 113]\n",
        "\n",
        "# Calculando la media y la desviación estándar para cada empresa\n",
        "media_A = np.mean(empresaA)\n",
        "desviacion_A = np.std(empresaA)\n",
        "media_B = np.mean(empresaB)\n",
        "desviacion_B = np.std(empresaB)\n",
        "media_C = np.mean(empresaC)\n",
        "desviacion_C = np.std(empresaC)\n",
        "media_D = np.mean(empresaD)\n",
        "desviacion_D = np.std(empresaD)\n",
        "\n",
        "print(f\"Empresa A: media = {media_A}, desviación estándar = {desviacion_A}\")\n",
        "print(f\"Empresa B: media = {media_B}, desviación estándar = {desviacion_B}\")\n",
        "print(f\"Empresa C: media = {media_C}, desviación estándar = {desviacion_C}\")\n",
        "print(f\"Empresa D: media = {media_D}, desviación estándar = {desviacion_D}\")"
      ],
      "metadata": {
        "id": "PERUjZrhW3DM",
        "colab": {
          "base_uri": "https://localhost:8080/"
        },
        "outputId": "fcbb72d4-60a9-4af3-8f85-52f9b0523627"
      },
      "execution_count": 16,
      "outputs": [
        {
          "output_type": "stream",
          "name": "stdout",
          "text": [
            "Empresa A: media = 90.8, desviación estándar = 14.4\n",
            "Empresa B: media = 58.8, desviación estándar = 8.084553172563094\n",
            "Empresa C: media = 34.0, desviación estándar = 8.899438184514796\n",
            "Empresa D: media = 116.4, desviación estándar = 10.229369482035539\n"
          ]
        }
      ]
    },
    {
      "cell_type": "markdown",
      "source": [
        "Como podemos observar, la empresa D ofrece el rendimiento más alto"
      ],
      "metadata": {
        "id": "Ht_3Oq7-UIxr"
      }
    }
  ]
}