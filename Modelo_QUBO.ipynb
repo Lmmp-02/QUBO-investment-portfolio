{
  "nbformat": 4,
  "nbformat_minor": 0,
  "metadata": {
    "colab": {
      "provenance": []
    },
    "kernelspec": {
      "name": "python3",
      "display_name": "Python 3"
    },
    "language_info": {
      "name": "python"
    }
  },
  "cells": [
    {
      "cell_type": "markdown",
      "source": [
        "# Implementación del Problema de Optimización de Carteras con Computador Cuántico Adiabático\n",
        "\n",
        "Este cuaderno describe la implementación de un problema de optimización de carteras de inversiones utilizando un computador cuántico adiabático. El enfoque adoptado es el del \"Minimum Volatility Portfolio\", utilizando variables binarias para la selección de activos. El objetivo principal es minimizar el riesgo total de la cartera, modelado por la fórmula:\n",
        "\n",
        "$$\\min \\sum_{i,j} x_i \\cdot w_{ij} \\cdot x_j$$\n",
        "\n",
        "donde $x_i$ representa la inclusión (1) o no (0) del activo $i$ en la cartera, y $w_{ij}$ es el término de covarianza entre los activos $i$ y $j$.\n",
        "\n",
        "Además, se establece una restricción sobre el retorno esperado de la cartera, asegurando que sea al menos igual a un umbral predefinido. Esto se modela con una variable slack y se expresa como:\n",
        "\n",
        "$$R \\leq \\sum_{i} x_i \\cdot r_i$$\n",
        "\n",
        "donde $r_i$ es el retorno esperado del activo $i$.\n",
        "\n",
        "Finalmente, como condición adicional, se determina que solo se quiere invertir en la mitad de las empresas disponibles. Esto se traduce en la restricción:\n",
        "\n",
        "$$\\sum_{i} x_i = \\frac{N}{2}$$\n",
        "\n",
        "donde $N$ es el número total de activos disponibles.\n",
        "\n"
      ],
      "metadata": {
        "id": "BQICE2tvsb64"
      }
    },
    {
      "cell_type": "code",
      "source": [
        "!pip install -r \"requirements_unix.txt\" > /dev/null 2>&1 # Para redirigir la salida estándar y la salida de error a /dev/null"
      ],
      "metadata": {
        "id": "-T6hjtCtsWWK"
      },
      "execution_count": 1,
      "outputs": []
    },
    {
      "cell_type": "code",
      "source": [
        "%matplotlib widget\n",
        "from IPython.display import display, HTML\n",
        "display(HTML(\"<style>.container{width:100% !important;}</style>\"))\n",
        "import random\n",
        "from IPython.display import display, HTML\n",
        "from dadk.Optimizer import *\n",
        "from dadk.SolverFactory import *\n",
        "from dadk.Solution_SolutionList import *\n",
        "from dadk.BinPol import *\n",
        "from random import uniform\n",
        "from tabulate import tabulate\n",
        "from numpy import argmax\n",
        "import numpy as np\n",
        "from dadk.QUBOSolverCPU import *\n",
        "import pandas as pd\n",
        "import numpy as np"
      ],
      "metadata": {
        "colab": {
          "base_uri": "https://localhost:8080/",
          "height": 17
        },
        "id": "vJmFwAT-pJSa",
        "outputId": "2cde797b-bf47-484a-9074-98ac5f7ed617"
      },
      "execution_count": 2,
      "outputs": [
        {
          "output_type": "display_data",
          "data": {
            "text/plain": [
              "<IPython.core.display.HTML object>"
            ],
            "text/html": [
              "<style>.container{width:100% !important;}</style>"
            ]
          },
          "metadata": {}
        }
      ]
    },
    {
      "cell_type": "code",
      "source": [
        "# Establecer una semilla para la reproducibilidad\n",
        "np.random.seed(0)\n",
        "\n",
        "# Crear un DataFrame con valores aleatorios y ajustamos para tener diferentes rangos (precios de cierre de las acciones)\n",
        "data = {\n",
        "    'EmpresaA': np.random.randint(80, 120, size=10),  # Precios moderadamente altos\n",
        "    'EmpresaB': np.random.randint(50, 90, size=10),   # Precios moderados\n",
        "    'EmpresaC': np.random.randint(20, 60, size=10),   # Precios bajos\n",
        "    'EmpresaD': np.random.randint(100, 140, size=10)  # Precios altos\n",
        "}\n",
        "\n",
        "# Convertir el diccionario en un DataFrame de pandas\n",
        "acciones = pd.DataFrame(data, index=pd.date_range(start='2024-04-20', periods=10, freq='D'))\n",
        "acciones.to_csv('Dataset_Acciones_pequenio.csv', index=False)\n",
        "\n",
        "# Mostrar el DataFrame\n",
        "print(acciones.head())\n"
      ],
      "metadata": {
        "colab": {
          "base_uri": "https://localhost:8080/"
        },
        "id": "k0p-6VUgNgbJ",
        "outputId": "30c4b1ad-e21d-4afc-ac73-c492ac9fb618"
      },
      "execution_count": null,
      "outputs": [
        {
          "output_type": "stream",
          "name": "stdout",
          "text": [
            "            EmpresaA  EmpresaB  EmpresaC  EmpresaD\n",
            "2024-04-20        80        74        45       135\n",
            "2024-04-21        83        74        33       124\n",
            "2024-04-22        83        62        28       129\n",
            "2024-04-23       119        51        29       119\n",
            "2024-04-24        89        88        40       119\n"
          ]
        }
      ]
    },
    {
      "cell_type": "code",
      "source": [
        "# Cargar los datos del dataset\n",
        "acciones = pd.read_csv('Dataset_Acciones_pequenio.csv')\n",
        "\n",
        "# Calcular los retornos diarios y la matriz de covarianza\n",
        "# La función pct_change() calcula el cambio porcentual entre filas consecutivas, días en este caso\n",
        "retornos = acciones.pct_change().dropna()\n",
        "cov_matrix = retornos.cov().values\n",
        "\n",
        "# Calcular los retornos esperados como la media de los retornos diarios (para la variable slack)\n",
        "restornos_esperados = retornos.mean().values\n",
        "\n",
        "# Obtener cantidad de activos N basado en las columnas seleccionadas\n",
        "n_assets = len(acciones.columns)\n",
        "asset_names = acciones.columns.tolist()\n",
        "\n",
        "# Establecer un umbral de retorno esperado mínimo para la cartera\n",
        "retorno_minimo = 0.02  # 2% por ejemplo\n",
        "\n",
        "# Función para construir el modelo QUBO\n",
        "def build_qubo(cov_matrix, n_assets, factor_penalty):\n",
        "    var_shape_set = VarShapeSet(BitArrayShape('x', (n_assets,)))\n",
        "    BinPol.freeze_var_shape_set(var_shape_set)\n",
        "\n",
        "    H_cuad = BinPol()\n",
        "    # Construir H_cuad utilizando la matriz de covarianza\n",
        "    for i in range(n_assets):\n",
        "        for j in range(n_assets):\n",
        "            w_ij = cov_matrix[i, j]\n",
        "            H_cuad.add_term(w_ij, ('x', i), ('x', j))\n",
        "\n",
        "    # Construir H_half para representar la restricción\n",
        "    H_half = BinPol()\n",
        "\n",
        "    for i in range(n_assets):\n",
        "        H_half.add_term(1, ('x', i))\n",
        "    H_half.add_term(-n_assets / 2, ())\n",
        "    H_half.power(2)\n",
        "\n",
        "    # Combinar los términos para formar el QUBO\n",
        "    QUBO = H_cuad + H_half\n",
        "\n",
        "    return QUBO, H_half\n",
        "\n",
        "\n",
        "# Coeficiente de penalización para la restricción H_half\n",
        "factor_penalty = 0  # Porque el dataset es muy pequeño\n",
        "QUBO, H_half = build_qubo(cov_matrix, n_assets, factor_penalty)\n",
        "\n",
        "# Configurar y ejecutar el solucionador QUBO\n",
        "solver = QUBOSolverCPU(\n",
        "    number_iterations=50000,\n",
        "    number_runs=10,\n",
        "    scaling_bit_precision=16,\n",
        "    auto_tuning=AutoTuning.AUTO_SCALING_AND_SAMPLING\n",
        ")\n",
        "\n",
        "solution_list = solver.minimize(QUBO)\n",
        "print(solution_list.solver_times)\n"
      ],
      "metadata": {
        "colab": {
          "base_uri": "https://localhost:8080/"
        },
        "id": "c5n0NX05xhgI",
        "outputId": "0d62c94e-ebf4-4d75-9064-16965c5ed1b1"
      },
      "execution_count": 3,
      "outputs": [
        {
          "output_type": "stream",
          "name": "stdout",
          "text": [
            "\n",
            "********************************************************************************\n",
            "Scaling qubo, temperature_start, temperature_end and offset_increase_rate\n",
            "  factor:                        10978.00000\n",
            "********************************************************************************\n",
            "\n",
            "\n",
            "********************************************************************************\n",
            "Effective values (including scaling factor)\n",
            "  temperature_start:               29000.000\n",
            "  temperature_end:                   116.900\n",
            "  offset_increase_rate:             1102.000\n",
            "  duration:                            0.002 sec\n",
            "********************************************************************************\n",
            "\n",
            "+--------------+----------------------------+----------------------------+----------------+\n",
            "| time         | from                       | to                         | duration       |\n",
            "|--------------+----------------------------+----------------------------+----------------|\n",
            "| anneal       | 2024-05-07 18:31:01.371248 | 2024-05-07 18:31:01.443943 | 0:00:00.072695 |\n",
            "| cpu          | 2024-05-07 18:31:01.370213 | 2024-05-07 18:31:01.371208 | 0:00:00.000995 |\n",
            "| elapsed      | 2024-05-07 18:31:01.367464 | 2024-05-07 18:31:01.444082 | 0:00:00.076618 |\n",
            "| execution    | 2024-05-07 18:31:01.370188 | 2024-05-07 18:31:01.444007 | 0:00:00.073819 |\n",
            "| prepare_qubo | 2024-05-07 18:31:01.369901 | 2024-05-07 18:31:01.370127 | 0:00:00.000226 |\n",
            "| solve        | 2024-05-07 18:31:01.370200 | 2024-05-07 18:31:01.443991 | 0:00:00.073791 |\n",
            "| tuning       | 2024-05-07 18:31:01.367489 | 2024-05-07 18:31:01.369857 | 0:00:00.002368 |\n",
            "+--------------+----------------------------+----------------------------+----------------+\n"
          ]
        }
      ]
    },
    {
      "cell_type": "code",
      "source": [
        "# Función para preparar y presentar el resultado\n",
        "def prep_result(solution_list, H_half, silent=False):\n",
        "    solution = solution_list.min_solution\n",
        "    constraint_penalty = H_half.compute(solution.configuration)\n",
        "    if not silent:\n",
        "        print(f'Valor QUBO: {constraint_penalty}')\n",
        "    return constraint_penalty, solution\n",
        "\n",
        "# Función para reportar la solución\n",
        "def report(constraint_penalty, solution, asset_names, silent=False):\n",
        "    if not silent:\n",
        "        if constraint_penalty < 0.1:\n",
        "            print('Portfolio elegido:')\n",
        "            selected_assets = [asset_names[i] for i, bit in enumerate(solution.configuration) if bit > 0.5] # Si es 1 se incluye en el portfolio y si es 0 no, por eso se pone el 0.5\n",
        "            print(selected_assets)\n",
        "        else:\n",
        "            print(\"Solución inválida :(\")\n",
        "\n",
        "# Utilizar las funciones de resultado y reporte\n",
        "constraint_penalty, solution = prep_result(solution_list, QUBO)\n",
        "report(constraint_penalty, solution, asset_names)"
      ],
      "metadata": {
        "id": "g4Tkvzi0IfKm",
        "colab": {
          "base_uri": "https://localhost:8080/"
        },
        "outputId": "7e0119b0-d638-4b11-a7d3-b5906bcf21c1"
      },
      "execution_count": 4,
      "outputs": [
        {
          "output_type": "stream",
          "name": "stdout",
          "text": [
            "Valor QUBO: 0.049128903525670786\n",
            "Portfolio elegido:\n",
            "['EmpresaA', 'EmpresaD']\n"
          ]
        }
      ]
    },
    {
      "cell_type": "code",
      "source": [
        "# Función para calcular la media y la desviación estándar de cada empresa\n",
        "def calcular_metricas(df):\n",
        "    metricas = pd.DataFrame(index=df.columns, columns=['Media', '  Desviación Estándar'])\n",
        "    for column in df.columns:\n",
        "        metricas.loc[column, 'Media'] = df[column].mean()\n",
        "        metricas.loc[column, '  Desviación Estándar'] = df[column].std()\n",
        "    return metricas\n",
        "\n",
        "# Mostrar estadísticas de cada empresa\n",
        "estadisticas = calcular_metricas(acciones)\n",
        "print(estadisticas)"
      ],
      "metadata": {
        "colab": {
          "base_uri": "https://localhost:8080/"
        },
        "id": "_d6j_kYK7Rxs",
        "outputId": "0ed3e1cc-f7c9-4db5-8957-2f5f8748facd"
      },
      "execution_count": 6,
      "outputs": [
        {
          "output_type": "stream",
          "name": "stdout",
          "text": [
            "          Media   Desviación Estándar\n",
            "EmpresaA   95.9             13.963842\n",
            "EmpresaB   73.9             12.077987\n",
            "EmpresaC   32.9              7.489993\n",
            "EmpresaD  122.1             12.031902\n"
          ]
        }
      ]
    },
    {
      "cell_type": "markdown",
      "source": [
        "Tras analizar el rendimiento de las distintas empresas así como la volatilidad de los precios de sus acciones, representados por la media y la desviación estándar respectivamente, se obtiene que las mejores empresas para invertir son la EmpresaD y la EmpresaA puesto que presentan un equilibrio favorable entre el potencial de rendimiento y el nivel de riesgo asociado.\n",
        "\n",
        "La EmpresaD, con una media de 122.1 y una desviación estándar de 12.03, ofrece el mayor rendimiento de todas las opciones evaluadas, lo que indica una fuerte capacidad de generación de valor, manteniendo al mismo tiempo una volatilidad moderada que mitiga el riesgo de inversión.\n",
        "\n",
        "Por su parte, la EmpresaA, aunque exhibe una desviación estándar ligeramente mayor de 13.96, también muestra un rendimiento robusto con una media de 95.9. Esta combinación sugiere que, a pesar de una mayor variabilidad en el precio de sus acciones, la EmpresaA sigue siendo una opción atractiva debido a su alta capacidad de retorno. Por lo tanto, seleccionar estas dos empresas para la inversión proporciona una diversificación estratégica que busca maximizar los beneficios ajustados por riesgo, aprovechando tanto la estabilidad relativa como el alto potencial de crecimiento."
      ],
      "metadata": {
        "id": "Ht_3Oq7-UIxr"
      }
    }
  ]
}