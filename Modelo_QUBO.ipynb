{
  "nbformat": 4,
  "nbformat_minor": 0,
  "metadata": {
    "colab": {
      "provenance": []
    },
    "kernelspec": {
      "name": "python3",
      "display_name": "Python 3"
    },
    "language_info": {
      "name": "python"
    }
  },
  "cells": [
    {
      "cell_type": "markdown",
      "source": [
        "# Implementación del Problema de Optimización de Carteras con Computador Cuántico Adiabático\n",
        "\n",
        "Este cuaderno describe la implementación de un problema de optimización de carteras de inversiones utilizando un computador cuántico adiabático. El enfoque adoptado es el del \"Minimum Volatility Portfolio\", utilizando variables binarias para la selección de activos. El objetivo principal es minimizar el riesgo total de la cartera, modelado por la fórmula:\n",
        "\n",
        "$$\\min \\sum_{i,j} x_i \\cdot w_{ij} \\cdot x_j$$\n",
        "\n",
        "donde $x_i$ representa la inclusión (1) o no (0) del activo $i$ en la cartera, y $w_{ij}$ es el término de covarianza entre los activos $i$ y $j$.\n",
        "\n",
        "Además, se establece una restricción sobre el retorno esperado de la cartera, asegurando que sea al menos igual a un umbral predefinido. Esto se modela con una variable slack y se expresa como:\n",
        "\n",
        "$$R \\leq \\sum_{i} x_i \\cdot r_i$$\n",
        "\n",
        "donde $r_i$ es el retorno esperado del activo $i$.\n",
        "\n",
        "Finalmente, como condición adicional, se determina que solo se quiere invertir en la mitad de las empresas disponibles. Esto se traduce en la restricción:\n",
        "\n",
        "$$\\sum_{i} x_i = \\frac{N}{2}$$\n",
        "\n",
        "donde $N$ es el número total de activos disponibles.\n",
        "\n"
      ],
      "metadata": {
        "id": "BQICE2tvsb64"
      }
    },
    {
      "cell_type": "code",
      "source": [
        "!pip install -r \"requirements_unix.txt\" #> /dev/null 2>&1  Para redirigir la salida estándar y la salida de error a /dev/null"
      ],
      "metadata": {
        "id": "-T6hjtCtsWWK",
        "colab": {
          "base_uri": "https://localhost:8080/"
        },
        "outputId": "ab15a58a-198e-44b9-a45b-f32a3b133a01"
      },
      "execution_count": null,
      "outputs": [
        {
          "output_type": "stream",
          "name": "stdout",
          "text": [
            "Processing ./dadk_light_3.10.tar.bz2\n",
            "  Preparing metadata (setup.py) ... \u001b[?25l\u001b[?25hdone\n",
            "Requirement already satisfied: matplotlib==3.8.2 in /usr/local/lib/python3.10/dist-packages (from -r requirements_unix.txt (line 3)) (3.8.2)\n",
            "Requirement already satisfied: networkx==3.2.1 in /usr/local/lib/python3.10/dist-packages (from -r requirements_unix.txt (line 4)) (3.2.1)\n",
            "Requirement already satisfied: openpyxl==3.1.2 in /usr/local/lib/python3.10/dist-packages (from -r requirements_unix.txt (line 5)) (3.1.2)\n",
            "Requirement already satisfied: pandas==2.1.4 in /usr/local/lib/python3.10/dist-packages (from -r requirements_unix.txt (line 6)) (2.1.4)\n",
            "Requirement already satisfied: plotly==5.18.0 in /usr/local/lib/python3.10/dist-packages (from -r requirements_unix.txt (line 7)) (5.18.0)\n",
            "Requirement already satisfied: scikit-learn==1.3.2 in /usr/local/lib/python3.10/dist-packages (from -r requirements_unix.txt (line 8)) (1.3.2)\n",
            "Requirement already satisfied: scipy==1.11.4 in /usr/local/lib/python3.10/dist-packages (from -r requirements_unix.txt (line 9)) (1.11.4)\n",
            "Requirement already satisfied: seaborn==0.13.0 in /usr/local/lib/python3.10/dist-packages (from -r requirements_unix.txt (line 10)) (0.13.0)\n",
            "Requirement already satisfied: contourpy>=1.0.1 in /usr/local/lib/python3.10/dist-packages (from matplotlib==3.8.2->-r requirements_unix.txt (line 3)) (1.2.1)\n",
            "Requirement already satisfied: cycler>=0.10 in /usr/local/lib/python3.10/dist-packages (from matplotlib==3.8.2->-r requirements_unix.txt (line 3)) (0.12.1)\n",
            "Requirement already satisfied: fonttools>=4.22.0 in /usr/local/lib/python3.10/dist-packages (from matplotlib==3.8.2->-r requirements_unix.txt (line 3)) (4.51.0)\n",
            "Requirement already satisfied: kiwisolver>=1.3.1 in /usr/local/lib/python3.10/dist-packages (from matplotlib==3.8.2->-r requirements_unix.txt (line 3)) (1.4.5)\n",
            "Requirement already satisfied: numpy<2,>=1.21 in /usr/local/lib/python3.10/dist-packages (from matplotlib==3.8.2->-r requirements_unix.txt (line 3)) (1.25.2)\n",
            "Requirement already satisfied: packaging>=20.0 in /usr/local/lib/python3.10/dist-packages (from matplotlib==3.8.2->-r requirements_unix.txt (line 3)) (24.0)\n",
            "Requirement already satisfied: pillow>=8 in /usr/local/lib/python3.10/dist-packages (from matplotlib==3.8.2->-r requirements_unix.txt (line 3)) (9.4.0)\n",
            "Requirement already satisfied: pyparsing>=2.3.1 in /usr/local/lib/python3.10/dist-packages (from matplotlib==3.8.2->-r requirements_unix.txt (line 3)) (3.1.2)\n",
            "Requirement already satisfied: python-dateutil>=2.7 in /usr/local/lib/python3.10/dist-packages (from matplotlib==3.8.2->-r requirements_unix.txt (line 3)) (2.8.2)\n",
            "Requirement already satisfied: et-xmlfile in /usr/local/lib/python3.10/dist-packages (from openpyxl==3.1.2->-r requirements_unix.txt (line 5)) (1.1.0)\n",
            "Requirement already satisfied: pytz>=2020.1 in /usr/local/lib/python3.10/dist-packages (from pandas==2.1.4->-r requirements_unix.txt (line 6)) (2023.4)\n",
            "Requirement already satisfied: tzdata>=2022.1 in /usr/local/lib/python3.10/dist-packages (from pandas==2.1.4->-r requirements_unix.txt (line 6)) (2024.1)\n",
            "Requirement already satisfied: tenacity>=6.2.0 in /usr/local/lib/python3.10/dist-packages (from plotly==5.18.0->-r requirements_unix.txt (line 7)) (8.3.0)\n",
            "Requirement already satisfied: joblib>=1.1.1 in /usr/local/lib/python3.10/dist-packages (from scikit-learn==1.3.2->-r requirements_unix.txt (line 8)) (1.4.2)\n",
            "Requirement already satisfied: threadpoolctl>=2.0.0 in /usr/local/lib/python3.10/dist-packages (from scikit-learn==1.3.2->-r requirements_unix.txt (line 8)) (3.5.0)\n",
            "Requirement already satisfied: MarkupSafe in /usr/local/lib/python3.10/dist-packages (from dadk==2023.12.10->-r requirements_unix.txt (line 11)) (2.1.5)\n",
            "Requirement already satisfied: XlsxWriter in /usr/local/lib/python3.10/dist-packages (from dadk==2023.12.10->-r requirements_unix.txt (line 11)) (3.2.0)\n",
            "Requirement already satisfied: auth0-python in /usr/local/lib/python3.10/dist-packages (from dadk==2023.12.10->-r requirements_unix.txt (line 11)) (4.7.1)\n",
            "Requirement already satisfied: azure-storage-blob in /usr/local/lib/python3.10/dist-packages (from dadk==2023.12.10->-r requirements_unix.txt (line 11)) (12.20.0)\n",
            "Requirement already satisfied: bqplot in /usr/local/lib/python3.10/dist-packages (from dadk==2023.12.10->-r requirements_unix.txt (line 11)) (0.12.43)\n",
            "Requirement already satisfied: colorama in /usr/local/lib/python3.10/dist-packages (from dadk==2023.12.10->-r requirements_unix.txt (line 11)) (0.4.6)\n",
            "Requirement already satisfied: future in /usr/local/lib/python3.10/dist-packages (from dadk==2023.12.10->-r requirements_unix.txt (line 11)) (0.18.3)\n",
            "Requirement already satisfied: h5py in /usr/local/lib/python3.10/dist-packages (from dadk==2023.12.10->-r requirements_unix.txt (line 11)) (3.9.0)\n",
            "Requirement already satisfied: htmlentities in /usr/local/lib/python3.10/dist-packages (from dadk==2023.12.10->-r requirements_unix.txt (line 11)) (0.3.0)\n",
            "Requirement already satisfied: imageio in /usr/local/lib/python3.10/dist-packages (from dadk==2023.12.10->-r requirements_unix.txt (line 11)) (2.31.6)\n",
            "Requirement already satisfied: ipyevents in /usr/local/lib/python3.10/dist-packages (from dadk==2023.12.10->-r requirements_unix.txt (line 11)) (2.0.2)\n",
            "Requirement already satisfied: ipympl in /usr/local/lib/python3.10/dist-packages (from dadk==2023.12.10->-r requirements_unix.txt (line 11)) (0.9.4)\n",
            "Requirement already satisfied: ipytree in /usr/local/lib/python3.10/dist-packages (from dadk==2023.12.10->-r requirements_unix.txt (line 11)) (0.2.2)\n",
            "Requirement already satisfied: ipywidgets in /usr/local/lib/python3.10/dist-packages (from dadk==2023.12.10->-r requirements_unix.txt (line 11)) (7.7.1)\n",
            "Requirement already satisfied: JSON_minify in /usr/local/lib/python3.10/dist-packages (from dadk==2023.12.10->-r requirements_unix.txt (line 11)) (0.3.0)\n",
            "Requirement already satisfied: k3d in /usr/local/lib/python3.10/dist-packages (from dadk==2023.12.10->-r requirements_unix.txt (line 11)) (2.16.1)\n",
            "Requirement already satisfied: keyboard in /usr/local/lib/python3.10/dist-packages (from dadk==2023.12.10->-r requirements_unix.txt (line 11)) (0.13.5)\n",
            "Requirement already satisfied: lark-parser in /usr/local/lib/python3.10/dist-packages (from dadk==2023.12.10->-r requirements_unix.txt (line 11)) (0.12.0)\n",
            "Requirement already satisfied: multiprocess in /usr/local/lib/python3.10/dist-packages (from dadk==2023.12.10->-r requirements_unix.txt (line 11)) (0.70.16)\n",
            "Requirement already satisfied: numba in /usr/local/lib/python3.10/dist-packages (from dadk==2023.12.10->-r requirements_unix.txt (line 11)) (0.58.1)\n",
            "Requirement already satisfied: optuna in /usr/local/lib/python3.10/dist-packages (from dadk==2023.12.10->-r requirements_unix.txt (line 11)) (3.6.1)\n",
            "Requirement already satisfied: pyjwt in /usr/local/lib/python3.10/dist-packages (from dadk==2023.12.10->-r requirements_unix.txt (line 11)) (2.8.0)\n",
            "Requirement already satisfied: pyyaml in /usr/local/lib/python3.10/dist-packages (from dadk==2023.12.10->-r requirements_unix.txt (line 11)) (6.0.1)\n",
            "Requirement already satisfied: requests in /usr/local/lib/python3.10/dist-packages (from dadk==2023.12.10->-r requirements_unix.txt (line 11)) (2.31.0)\n",
            "Requirement already satisfied: tabulate in /usr/local/lib/python3.10/dist-packages (from dadk==2023.12.10->-r requirements_unix.txt (line 11)) (0.9.0)\n",
            "Requirement already satisfied: termcolor in /usr/local/lib/python3.10/dist-packages (from dadk==2023.12.10->-r requirements_unix.txt (line 11)) (2.4.0)\n",
            "Requirement already satisfied: six>=1.5 in /usr/local/lib/python3.10/dist-packages (from python-dateutil>=2.7->matplotlib==3.8.2->-r requirements_unix.txt (line 3)) (1.16.0)\n",
            "Requirement already satisfied: aiohttp<4.0.0,>=3.8.5 in /usr/local/lib/python3.10/dist-packages (from auth0-python->dadk==2023.12.10->-r requirements_unix.txt (line 11)) (3.9.5)\n",
            "Requirement already satisfied: cryptography<43.0.0,>=42.0.4 in /usr/local/lib/python3.10/dist-packages (from auth0-python->dadk==2023.12.10->-r requirements_unix.txt (line 11)) (42.0.7)\n",
            "Requirement already satisfied: urllib3<3.0.0,>=2.0.7 in /usr/local/lib/python3.10/dist-packages (from auth0-python->dadk==2023.12.10->-r requirements_unix.txt (line 11)) (2.0.7)\n",
            "Requirement already satisfied: charset-normalizer<4,>=2 in /usr/local/lib/python3.10/dist-packages (from requests->dadk==2023.12.10->-r requirements_unix.txt (line 11)) (3.3.2)\n",
            "Requirement already satisfied: idna<4,>=2.5 in /usr/local/lib/python3.10/dist-packages (from requests->dadk==2023.12.10->-r requirements_unix.txt (line 11)) (3.7)\n",
            "Requirement already satisfied: certifi>=2017.4.17 in /usr/local/lib/python3.10/dist-packages (from requests->dadk==2023.12.10->-r requirements_unix.txt (line 11)) (2024.2.2)\n",
            "Requirement already satisfied: azure-core>=1.28.0 in /usr/local/lib/python3.10/dist-packages (from azure-storage-blob->dadk==2023.12.10->-r requirements_unix.txt (line 11)) (1.30.1)\n",
            "Requirement already satisfied: typing-extensions>=4.6.0 in /usr/local/lib/python3.10/dist-packages (from azure-storage-blob->dadk==2023.12.10->-r requirements_unix.txt (line 11)) (4.11.0)\n",
            "Requirement already satisfied: isodate>=0.6.1 in /usr/local/lib/python3.10/dist-packages (from azure-storage-blob->dadk==2023.12.10->-r requirements_unix.txt (line 11)) (0.6.1)\n",
            "Requirement already satisfied: traitlets>=4.3.0 in /usr/local/lib/python3.10/dist-packages (from bqplot->dadk==2023.12.10->-r requirements_unix.txt (line 11)) (5.7.1)\n",
            "Requirement already satisfied: traittypes>=0.0.6 in /usr/local/lib/python3.10/dist-packages (from bqplot->dadk==2023.12.10->-r requirements_unix.txt (line 11)) (0.2.1)\n",
            "Requirement already satisfied: ipykernel>=4.5.1 in /usr/local/lib/python3.10/dist-packages (from ipywidgets->dadk==2023.12.10->-r requirements_unix.txt (line 11)) (5.5.6)\n",
            "Requirement already satisfied: ipython-genutils~=0.2.0 in /usr/local/lib/python3.10/dist-packages (from ipywidgets->dadk==2023.12.10->-r requirements_unix.txt (line 11)) (0.2.0)\n",
            "Requirement already satisfied: widgetsnbextension~=3.6.0 in /usr/local/lib/python3.10/dist-packages (from ipywidgets->dadk==2023.12.10->-r requirements_unix.txt (line 11)) (3.6.6)\n",
            "Requirement already satisfied: ipython>=4.0.0 in /usr/local/lib/python3.10/dist-packages (from ipywidgets->dadk==2023.12.10->-r requirements_unix.txt (line 11)) (7.34.0)\n",
            "Requirement already satisfied: jupyterlab-widgets>=1.0.0 in /usr/local/lib/python3.10/dist-packages (from ipywidgets->dadk==2023.12.10->-r requirements_unix.txt (line 11)) (3.0.10)\n",
            "Requirement already satisfied: msgpack in /usr/local/lib/python3.10/dist-packages (from k3d->dadk==2023.12.10->-r requirements_unix.txt (line 11)) (1.0.8)\n",
            "Requirement already satisfied: dill>=0.3.8 in /usr/local/lib/python3.10/dist-packages (from multiprocess->dadk==2023.12.10->-r requirements_unix.txt (line 11)) (0.3.8)\n",
            "Requirement already satisfied: llvmlite<0.42,>=0.41.0dev0 in /usr/local/lib/python3.10/dist-packages (from numba->dadk==2023.12.10->-r requirements_unix.txt (line 11)) (0.41.1)\n",
            "Requirement already satisfied: alembic>=1.5.0 in /usr/local/lib/python3.10/dist-packages (from optuna->dadk==2023.12.10->-r requirements_unix.txt (line 11)) (1.13.1)\n",
            "Requirement already satisfied: colorlog in /usr/local/lib/python3.10/dist-packages (from optuna->dadk==2023.12.10->-r requirements_unix.txt (line 11)) (6.8.2)\n",
            "Requirement already satisfied: sqlalchemy>=1.3.0 in /usr/local/lib/python3.10/dist-packages (from optuna->dadk==2023.12.10->-r requirements_unix.txt (line 11)) (2.0.30)\n",
            "Requirement already satisfied: tqdm in /usr/local/lib/python3.10/dist-packages (from optuna->dadk==2023.12.10->-r requirements_unix.txt (line 11)) (4.66.4)\n",
            "Requirement already satisfied: aiosignal>=1.1.2 in /usr/local/lib/python3.10/dist-packages (from aiohttp<4.0.0,>=3.8.5->auth0-python->dadk==2023.12.10->-r requirements_unix.txt (line 11)) (1.3.1)\n",
            "Requirement already satisfied: attrs>=17.3.0 in /usr/local/lib/python3.10/dist-packages (from aiohttp<4.0.0,>=3.8.5->auth0-python->dadk==2023.12.10->-r requirements_unix.txt (line 11)) (23.2.0)\n",
            "Requirement already satisfied: frozenlist>=1.1.1 in /usr/local/lib/python3.10/dist-packages (from aiohttp<4.0.0,>=3.8.5->auth0-python->dadk==2023.12.10->-r requirements_unix.txt (line 11)) (1.4.1)\n",
            "Requirement already satisfied: multidict<7.0,>=4.5 in /usr/local/lib/python3.10/dist-packages (from aiohttp<4.0.0,>=3.8.5->auth0-python->dadk==2023.12.10->-r requirements_unix.txt (line 11)) (6.0.5)\n",
            "Requirement already satisfied: yarl<2.0,>=1.0 in /usr/local/lib/python3.10/dist-packages (from aiohttp<4.0.0,>=3.8.5->auth0-python->dadk==2023.12.10->-r requirements_unix.txt (line 11)) (1.9.4)\n",
            "Requirement already satisfied: async-timeout<5.0,>=4.0 in /usr/local/lib/python3.10/dist-packages (from aiohttp<4.0.0,>=3.8.5->auth0-python->dadk==2023.12.10->-r requirements_unix.txt (line 11)) (4.0.3)\n",
            "Requirement already satisfied: Mako in /usr/local/lib/python3.10/dist-packages (from alembic>=1.5.0->optuna->dadk==2023.12.10->-r requirements_unix.txt (line 11)) (1.3.5)\n",
            "Requirement already satisfied: cffi>=1.12 in /usr/local/lib/python3.10/dist-packages (from cryptography<43.0.0,>=42.0.4->auth0-python->dadk==2023.12.10->-r requirements_unix.txt (line 11)) (1.16.0)\n",
            "Requirement already satisfied: jupyter-client in /usr/local/lib/python3.10/dist-packages (from ipykernel>=4.5.1->ipywidgets->dadk==2023.12.10->-r requirements_unix.txt (line 11)) (6.1.12)\n",
            "Requirement already satisfied: tornado>=4.2 in /usr/local/lib/python3.10/dist-packages (from ipykernel>=4.5.1->ipywidgets->dadk==2023.12.10->-r requirements_unix.txt (line 11)) (6.3.3)\n",
            "Requirement already satisfied: setuptools>=18.5 in /usr/local/lib/python3.10/dist-packages (from ipython>=4.0.0->ipywidgets->dadk==2023.12.10->-r requirements_unix.txt (line 11)) (67.7.2)\n",
            "Requirement already satisfied: jedi>=0.16 in /usr/local/lib/python3.10/dist-packages (from ipython>=4.0.0->ipywidgets->dadk==2023.12.10->-r requirements_unix.txt (line 11)) (0.19.1)\n",
            "Requirement already satisfied: decorator in /usr/local/lib/python3.10/dist-packages (from ipython>=4.0.0->ipywidgets->dadk==2023.12.10->-r requirements_unix.txt (line 11)) (4.4.2)\n",
            "Requirement already satisfied: pickleshare in /usr/local/lib/python3.10/dist-packages (from ipython>=4.0.0->ipywidgets->dadk==2023.12.10->-r requirements_unix.txt (line 11)) (0.7.5)\n",
            "Requirement already satisfied: prompt-toolkit!=3.0.0,!=3.0.1,<3.1.0,>=2.0.0 in /usr/local/lib/python3.10/dist-packages (from ipython>=4.0.0->ipywidgets->dadk==2023.12.10->-r requirements_unix.txt (line 11)) (3.0.43)\n",
            "Requirement already satisfied: pygments in /usr/local/lib/python3.10/dist-packages (from ipython>=4.0.0->ipywidgets->dadk==2023.12.10->-r requirements_unix.txt (line 11)) (2.16.1)\n",
            "Requirement already satisfied: backcall in /usr/local/lib/python3.10/dist-packages (from ipython>=4.0.0->ipywidgets->dadk==2023.12.10->-r requirements_unix.txt (line 11)) (0.2.0)\n",
            "Requirement already satisfied: matplotlib-inline in /usr/local/lib/python3.10/dist-packages (from ipython>=4.0.0->ipywidgets->dadk==2023.12.10->-r requirements_unix.txt (line 11)) (0.1.7)\n",
            "Requirement already satisfied: pexpect>4.3 in /usr/local/lib/python3.10/dist-packages (from ipython>=4.0.0->ipywidgets->dadk==2023.12.10->-r requirements_unix.txt (line 11)) (4.9.0)\n",
            "Requirement already satisfied: greenlet!=0.4.17 in /usr/local/lib/python3.10/dist-packages (from sqlalchemy>=1.3.0->optuna->dadk==2023.12.10->-r requirements_unix.txt (line 11)) (3.0.3)\n",
            "Requirement already satisfied: notebook>=4.4.1 in /usr/local/lib/python3.10/dist-packages (from widgetsnbextension~=3.6.0->ipywidgets->dadk==2023.12.10->-r requirements_unix.txt (line 11)) (6.5.5)\n",
            "Requirement already satisfied: pycparser in /usr/local/lib/python3.10/dist-packages (from cffi>=1.12->cryptography<43.0.0,>=42.0.4->auth0-python->dadk==2023.12.10->-r requirements_unix.txt (line 11)) (2.22)\n",
            "Requirement already satisfied: parso<0.9.0,>=0.8.3 in /usr/local/lib/python3.10/dist-packages (from jedi>=0.16->ipython>=4.0.0->ipywidgets->dadk==2023.12.10->-r requirements_unix.txt (line 11)) (0.8.4)\n",
            "Requirement already satisfied: jinja2 in /usr/local/lib/python3.10/dist-packages (from notebook>=4.4.1->widgetsnbextension~=3.6.0->ipywidgets->dadk==2023.12.10->-r requirements_unix.txt (line 11)) (3.1.4)\n",
            "Requirement already satisfied: pyzmq<25,>=17 in /usr/local/lib/python3.10/dist-packages (from notebook>=4.4.1->widgetsnbextension~=3.6.0->ipywidgets->dadk==2023.12.10->-r requirements_unix.txt (line 11)) (24.0.1)\n",
            "Requirement already satisfied: argon2-cffi in /usr/local/lib/python3.10/dist-packages (from notebook>=4.4.1->widgetsnbextension~=3.6.0->ipywidgets->dadk==2023.12.10->-r requirements_unix.txt (line 11)) (23.1.0)\n",
            "Requirement already satisfied: jupyter-core>=4.6.1 in /usr/local/lib/python3.10/dist-packages (from notebook>=4.4.1->widgetsnbextension~=3.6.0->ipywidgets->dadk==2023.12.10->-r requirements_unix.txt (line 11)) (5.7.2)\n",
            "Requirement already satisfied: nbformat in /usr/local/lib/python3.10/dist-packages (from notebook>=4.4.1->widgetsnbextension~=3.6.0->ipywidgets->dadk==2023.12.10->-r requirements_unix.txt (line 11)) (5.10.4)\n",
            "Requirement already satisfied: nbconvert>=5 in /usr/local/lib/python3.10/dist-packages (from notebook>=4.4.1->widgetsnbextension~=3.6.0->ipywidgets->dadk==2023.12.10->-r requirements_unix.txt (line 11)) (6.5.4)\n",
            "Requirement already satisfied: nest-asyncio>=1.5 in /usr/local/lib/python3.10/dist-packages (from notebook>=4.4.1->widgetsnbextension~=3.6.0->ipywidgets->dadk==2023.12.10->-r requirements_unix.txt (line 11)) (1.6.0)\n",
            "Requirement already satisfied: Send2Trash>=1.8.0 in /usr/local/lib/python3.10/dist-packages (from notebook>=4.4.1->widgetsnbextension~=3.6.0->ipywidgets->dadk==2023.12.10->-r requirements_unix.txt (line 11)) (1.8.3)\n",
            "Requirement already satisfied: terminado>=0.8.3 in /usr/local/lib/python3.10/dist-packages (from notebook>=4.4.1->widgetsnbextension~=3.6.0->ipywidgets->dadk==2023.12.10->-r requirements_unix.txt (line 11)) (0.18.1)\n",
            "Requirement already satisfied: prometheus-client in /usr/local/lib/python3.10/dist-packages (from notebook>=4.4.1->widgetsnbextension~=3.6.0->ipywidgets->dadk==2023.12.10->-r requirements_unix.txt (line 11)) (0.20.0)\n",
            "Requirement already satisfied: nbclassic>=0.4.7 in /usr/local/lib/python3.10/dist-packages (from notebook>=4.4.1->widgetsnbextension~=3.6.0->ipywidgets->dadk==2023.12.10->-r requirements_unix.txt (line 11)) (1.0.0)\n",
            "Requirement already satisfied: ptyprocess>=0.5 in /usr/local/lib/python3.10/dist-packages (from pexpect>4.3->ipython>=4.0.0->ipywidgets->dadk==2023.12.10->-r requirements_unix.txt (line 11)) (0.7.0)\n",
            "Requirement already satisfied: wcwidth in /usr/local/lib/python3.10/dist-packages (from prompt-toolkit!=3.0.0,!=3.0.1,<3.1.0,>=2.0.0->ipython>=4.0.0->ipywidgets->dadk==2023.12.10->-r requirements_unix.txt (line 11)) (0.2.13)\n",
            "Requirement already satisfied: platformdirs>=2.5 in /usr/local/lib/python3.10/dist-packages (from jupyter-core>=4.6.1->notebook>=4.4.1->widgetsnbextension~=3.6.0->ipywidgets->dadk==2023.12.10->-r requirements_unix.txt (line 11)) (4.2.2)\n",
            "Requirement already satisfied: jupyter-server>=1.8 in /usr/local/lib/python3.10/dist-packages (from nbclassic>=0.4.7->notebook>=4.4.1->widgetsnbextension~=3.6.0->ipywidgets->dadk==2023.12.10->-r requirements_unix.txt (line 11)) (1.24.0)\n",
            "Requirement already satisfied: notebook-shim>=0.2.3 in /usr/local/lib/python3.10/dist-packages (from nbclassic>=0.4.7->notebook>=4.4.1->widgetsnbextension~=3.6.0->ipywidgets->dadk==2023.12.10->-r requirements_unix.txt (line 11)) (0.2.4)\n",
            "Requirement already satisfied: lxml in /usr/local/lib/python3.10/dist-packages (from nbconvert>=5->notebook>=4.4.1->widgetsnbextension~=3.6.0->ipywidgets->dadk==2023.12.10->-r requirements_unix.txt (line 11)) (4.9.4)\n",
            "Requirement already satisfied: beautifulsoup4 in /usr/local/lib/python3.10/dist-packages (from nbconvert>=5->notebook>=4.4.1->widgetsnbextension~=3.6.0->ipywidgets->dadk==2023.12.10->-r requirements_unix.txt (line 11)) (4.12.3)\n",
            "Requirement already satisfied: bleach in /usr/local/lib/python3.10/dist-packages (from nbconvert>=5->notebook>=4.4.1->widgetsnbextension~=3.6.0->ipywidgets->dadk==2023.12.10->-r requirements_unix.txt (line 11)) (6.1.0)\n",
            "Requirement already satisfied: defusedxml in /usr/local/lib/python3.10/dist-packages (from nbconvert>=5->notebook>=4.4.1->widgetsnbextension~=3.6.0->ipywidgets->dadk==2023.12.10->-r requirements_unix.txt (line 11)) (0.7.1)\n",
            "Requirement already satisfied: entrypoints>=0.2.2 in /usr/local/lib/python3.10/dist-packages (from nbconvert>=5->notebook>=4.4.1->widgetsnbextension~=3.6.0->ipywidgets->dadk==2023.12.10->-r requirements_unix.txt (line 11)) (0.4)\n",
            "Requirement already satisfied: jupyterlab-pygments in /usr/local/lib/python3.10/dist-packages (from nbconvert>=5->notebook>=4.4.1->widgetsnbextension~=3.6.0->ipywidgets->dadk==2023.12.10->-r requirements_unix.txt (line 11)) (0.3.0)\n",
            "Requirement already satisfied: mistune<2,>=0.8.1 in /usr/local/lib/python3.10/dist-packages (from nbconvert>=5->notebook>=4.4.1->widgetsnbextension~=3.6.0->ipywidgets->dadk==2023.12.10->-r requirements_unix.txt (line 11)) (0.8.4)\n",
            "Requirement already satisfied: nbclient>=0.5.0 in /usr/local/lib/python3.10/dist-packages (from nbconvert>=5->notebook>=4.4.1->widgetsnbextension~=3.6.0->ipywidgets->dadk==2023.12.10->-r requirements_unix.txt (line 11)) (0.10.0)\n",
            "Requirement already satisfied: pandocfilters>=1.4.1 in /usr/local/lib/python3.10/dist-packages (from nbconvert>=5->notebook>=4.4.1->widgetsnbextension~=3.6.0->ipywidgets->dadk==2023.12.10->-r requirements_unix.txt (line 11)) (1.5.1)\n",
            "Requirement already satisfied: tinycss2 in /usr/local/lib/python3.10/dist-packages (from nbconvert>=5->notebook>=4.4.1->widgetsnbextension~=3.6.0->ipywidgets->dadk==2023.12.10->-r requirements_unix.txt (line 11)) (1.3.0)\n",
            "Requirement already satisfied: fastjsonschema>=2.15 in /usr/local/lib/python3.10/dist-packages (from nbformat->notebook>=4.4.1->widgetsnbextension~=3.6.0->ipywidgets->dadk==2023.12.10->-r requirements_unix.txt (line 11)) (2.19.1)\n",
            "Requirement already satisfied: jsonschema>=2.6 in /usr/local/lib/python3.10/dist-packages (from nbformat->notebook>=4.4.1->widgetsnbextension~=3.6.0->ipywidgets->dadk==2023.12.10->-r requirements_unix.txt (line 11)) (4.19.2)\n",
            "Requirement already satisfied: argon2-cffi-bindings in /usr/local/lib/python3.10/dist-packages (from argon2-cffi->notebook>=4.4.1->widgetsnbextension~=3.6.0->ipywidgets->dadk==2023.12.10->-r requirements_unix.txt (line 11)) (21.2.0)\n",
            "Requirement already satisfied: jsonschema-specifications>=2023.03.6 in /usr/local/lib/python3.10/dist-packages (from jsonschema>=2.6->nbformat->notebook>=4.4.1->widgetsnbextension~=3.6.0->ipywidgets->dadk==2023.12.10->-r requirements_unix.txt (line 11)) (2023.12.1)\n",
            "Requirement already satisfied: referencing>=0.28.4 in /usr/local/lib/python3.10/dist-packages (from jsonschema>=2.6->nbformat->notebook>=4.4.1->widgetsnbextension~=3.6.0->ipywidgets->dadk==2023.12.10->-r requirements_unix.txt (line 11)) (0.35.1)\n",
            "Requirement already satisfied: rpds-py>=0.7.1 in /usr/local/lib/python3.10/dist-packages (from jsonschema>=2.6->nbformat->notebook>=4.4.1->widgetsnbextension~=3.6.0->ipywidgets->dadk==2023.12.10->-r requirements_unix.txt (line 11)) (0.18.1)\n",
            "Requirement already satisfied: anyio<4,>=3.1.0 in /usr/local/lib/python3.10/dist-packages (from jupyter-server>=1.8->nbclassic>=0.4.7->notebook>=4.4.1->widgetsnbextension~=3.6.0->ipywidgets->dadk==2023.12.10->-r requirements_unix.txt (line 11)) (3.7.1)\n",
            "Requirement already satisfied: websocket-client in /usr/local/lib/python3.10/dist-packages (from jupyter-server>=1.8->nbclassic>=0.4.7->notebook>=4.4.1->widgetsnbextension~=3.6.0->ipywidgets->dadk==2023.12.10->-r requirements_unix.txt (line 11)) (1.8.0)\n",
            "Requirement already satisfied: soupsieve>1.2 in /usr/local/lib/python3.10/dist-packages (from beautifulsoup4->nbconvert>=5->notebook>=4.4.1->widgetsnbextension~=3.6.0->ipywidgets->dadk==2023.12.10->-r requirements_unix.txt (line 11)) (2.5)\n",
            "Requirement already satisfied: webencodings in /usr/local/lib/python3.10/dist-packages (from bleach->nbconvert>=5->notebook>=4.4.1->widgetsnbextension~=3.6.0->ipywidgets->dadk==2023.12.10->-r requirements_unix.txt (line 11)) (0.5.1)\n",
            "Requirement already satisfied: sniffio>=1.1 in /usr/local/lib/python3.10/dist-packages (from anyio<4,>=3.1.0->jupyter-server>=1.8->nbclassic>=0.4.7->notebook>=4.4.1->widgetsnbextension~=3.6.0->ipywidgets->dadk==2023.12.10->-r requirements_unix.txt (line 11)) (1.3.1)\n",
            "Requirement already satisfied: exceptiongroup in /usr/local/lib/python3.10/dist-packages (from anyio<4,>=3.1.0->jupyter-server>=1.8->nbclassic>=0.4.7->notebook>=4.4.1->widgetsnbextension~=3.6.0->ipywidgets->dadk==2023.12.10->-r requirements_unix.txt (line 11)) (1.2.1)\n",
            "Building wheels for collected packages: dadk\n",
            "  Building wheel for dadk (setup.py) ... \u001b[?25l\u001b[?25hdone\n",
            "  Created wheel for dadk: filename=dadk-2023.12.10-py3-none-any.whl size=4995459 sha256=3e164da6cc818309654bbea95a9054daec6df122e42a1c5fb03a488490973bca\n",
            "  Stored in directory: /tmp/pip-ephem-wheel-cache-wl1g717n/wheels/78/36/68/08dcbec0b48f137a33fc3ac474d3838f74984d2dda7e3178dd\n",
            "Successfully built dadk\n",
            "Installing collected packages: dadk\n",
            "  Attempting uninstall: dadk\n",
            "    Found existing installation: dadk 2023.12.10\n",
            "    Uninstalling dadk-2023.12.10:\n",
            "      Successfully uninstalled dadk-2023.12.10\n",
            "Successfully installed dadk-2023.12.10\n"
          ]
        }
      ]
    },
    {
      "cell_type": "code",
      "source": [
        "%matplotlib widget\n",
        "from IPython.display import display, HTML\n",
        "display(HTML(\"<style>.container{width:100% !important;}</style>\"))\n",
        "import random\n",
        "from IPython.display import display, HTML\n",
        "from dadk.Optimizer import *\n",
        "from dadk.SolverFactory import *\n",
        "from dadk.Solution_SolutionList import *\n",
        "from dadk.BinPol import *\n",
        "from random import uniform\n",
        "from tabulate import tabulate\n",
        "from numpy import argmax\n",
        "import numpy as np\n",
        "from dadk.QUBOSolverCPU import *\n",
        "import pandas as pd\n",
        "import numpy as np"
      ],
      "metadata": {
        "colab": {
          "base_uri": "https://localhost:8080/",
          "height": 17
        },
        "id": "vJmFwAT-pJSa",
        "outputId": "c14cc186-77c6-4f4b-94aa-b403dc6fdb31"
      },
      "execution_count": null,
      "outputs": [
        {
          "output_type": "display_data",
          "data": {
            "text/plain": [
              "<IPython.core.display.HTML object>"
            ],
            "text/html": [
              "<style>.container{width:100% !important;}</style>"
            ]
          },
          "metadata": {}
        }
      ]
    },
    {
      "cell_type": "code",
      "source": [
        "# Establecer una semilla para la reproducibilidad\n",
        "np.random.seed(0)\n",
        "\n",
        "# Crear un DataFrame con valores aleatorios y ajustamos para tener diferentes rangos (precios de cierre de las acciones)\n",
        "data = {\n",
        "    'EmpresaA': np.random.randint(80, 120, size=10),  # Precios moderadamente altos\n",
        "    'EmpresaB': np.random.randint(50, 90, size=10),   # Precios moderados\n",
        "    'EmpresaC': np.random.randint(20, 60, size=10),   # Precios bajos\n",
        "    'EmpresaD': np.random.randint(100, 140, size=10)  # Precios altos\n",
        "}\n",
        "\n",
        "# Convertir el diccionario en un DataFrame de pandas\n",
        "acciones = pd.DataFrame(data, index=pd.date_range(start='2024-04-20', periods=10, freq='D'))\n",
        "acciones.to_csv('Dataset_Acciones_pequenio.csv', index=False)\n",
        "\n",
        "# Mostrar el DataFrame\n",
        "print(acciones.head())\n"
      ],
      "metadata": {
        "colab": {
          "base_uri": "https://localhost:8080/"
        },
        "id": "k0p-6VUgNgbJ",
        "outputId": "3dd6b5a6-5345-4c4b-bec8-f8c5670fd3ad"
      },
      "execution_count": null,
      "outputs": [
        {
          "output_type": "stream",
          "name": "stdout",
          "text": [
            "            EmpresaA  EmpresaB  EmpresaC  EmpresaD\n",
            "2024-04-20        80        74        45       135\n",
            "2024-04-21        83        74        33       124\n",
            "2024-04-22        83        62        28       129\n",
            "2024-04-23       119        51        29       119\n",
            "2024-04-24        89        88        40       119\n"
          ]
        }
      ]
    },
    {
      "cell_type": "code",
      "source": [
        "# Cargar los datos del dataset\n",
        "acciones = pd.read_csv('Dataset_Acciones_Pequenio.csv')\n",
        "\n",
        "# Calcular los retornos diarios y la matriz de covarianza\n",
        "# La función pct_change() calcula el cambio porcentual entre filas consecutivas, días en este caso\n",
        "retornos = acciones.pct_change().dropna()\n",
        "cov_matrix = retornos.cov().values\n",
        "\n",
        "# Calcular los retornos esperados como la media de los retornos diarios (para la variable slack)\n",
        "retornos_esperados = retornos.mean().values\n",
        "\n",
        "# Obtener cantidad de activos N basado en las columnas seleccionadas\n",
        "n_assets = len(acciones.columns)\n",
        "asset_names = acciones.columns.tolist()\n",
        "\n",
        "# Establecer un umbral de retorno esperado mínimo para la cartera (para la variable slack)\n",
        "retorno_minimo = 0.02  # 2%\n",
        "\n",
        "# Función para calcular el valor de stop para la variable slack\n",
        "def calculate_slack_stop(retornos, retorno_min_esperado):\n",
        "    # Calcular la suma máxima de los retornos (max sum(a_i v_i))\n",
        "    max_returns_sum = sum(sorted(retornos, reverse=True)[:len(retornos) // 2])\n",
        "    # Calcular el valor de stop para S\n",
        "    slack_stop = max_returns_sum - retorno_min_esperado\n",
        "    return slack_stop\n",
        "\n",
        "# Función para construir el modelo QUBO\n",
        "def build_qubo(cov_matrix, n_assets, factor_penalty, retornos, retorno_min_esperado):\n",
        "    var_problema = BitArrayShape('x', (n_assets,))\n",
        "\n",
        "    # Calcular el valor de stop para la variable slack\n",
        "    slack_stop = calculate_slack_stop(retornos, retorno_min_esperado)\n",
        "\n",
        "    # Crear la variable slack\n",
        "    my_var_slack = VarSlack(name='slack_variable',start=0,step=1,stop=slack_stop, slack_type=SlackType.binary)\n",
        "\n",
        "    var_shape_set = VarShapeSet(var_problema, my_var_slack)\n",
        "    BinPol.freeze_var_shape_set(var_shape_set)\n",
        "\n",
        "    H_cuad = BinPol()\n",
        "\n",
        "    # Construir H_cuad utilizando la matriz de covarianza\n",
        "    for i in range(n_assets):\n",
        "        for j in range(n_assets):\n",
        "            w_ij = cov_matrix[i, j]\n",
        "            H_cuad.add_term(w_ij, ('x', i), ('x', j))\n",
        "\n",
        "    # Construir H_half para representar la restricción\n",
        "    H_half = BinPol()\n",
        "\n",
        "    for i in range(n_assets):\n",
        "        H_half.add_term(1, ('x', i))\n",
        "\n",
        "    H_half.add_slack_variable('slack_variable', factor=-1)\n",
        "\n",
        "    H_half.add_term(retorno_min_esperado, ())\n",
        "\n",
        "    H_half.add_term(-n_assets / 2, ())\n",
        "    H_half.power(2)\n",
        "\n",
        "    # Combinar los términos para formar el QUBO\n",
        "    QUBO = H_cuad + H_half*factor_penalty\n",
        "\n",
        "    return QUBO, H_half\n",
        "\n",
        "\n",
        "# Coeficiente de penalización para la restricción H_half\n",
        "factor_penalty = 7\n",
        "QUBO, H_half = build_qubo(cov_matrix, n_assets, factor_penalty, retornos_esperados, retorno_minimo)\n",
        "\n",
        "# Configurar y ejecutar el solucionador QUBO\n",
        "solver = QUBOSolverCPU(\n",
        "    number_iterations=50000,\n",
        "    number_runs=10, # Número de ejecuciones en paralelo\n",
        "    scaling_bit_precision=16,\n",
        "    auto_tuning=AutoTuning.AUTO_SCALING_AND_SAMPLING\n",
        ")\n",
        "\n",
        "solution_list = solver.minimize(QUBO)\n",
        "print(solution_list.min_solution.configuration)\n",
        "print()\n",
        "print(solution_list.solver_times)"
      ],
      "metadata": {
        "colab": {
          "base_uri": "https://localhost:8080/"
        },
        "id": "67VwUL3rmYdY",
        "outputId": "26264976-5cee-479c-aea5-3d64cb0db336"
      },
      "execution_count": null,
      "outputs": [
        {
          "output_type": "stream",
          "name": "stdout",
          "text": [
            "\n",
            "********************************************************************************\n",
            "Scaling qubo, temperature_start, temperature_end and offset_increase_rate\n",
            "  factor:                         1582.00000\n",
            "********************************************************************************\n",
            "\n",
            "\n",
            "********************************************************************************\n",
            "Effective values (including scaling factor)\n",
            "  temperature_start:               29220.000\n",
            "  temperature_end:                   117.700\n",
            "  offset_increase_rate:             1111.000\n",
            "  duration:                            0.002 sec\n",
            "********************************************************************************\n",
            "\n",
            "[1, 0, 0, 1]\n",
            "\n",
            "+--------------+----------------------------+----------------------------+----------------+\n",
            "| time         | from                       | to                         | duration       |\n",
            "|--------------+----------------------------+----------------------------+----------------|\n",
            "| anneal       | 2024-05-21 21:06:07.342452 | 2024-05-21 21:06:07.422944 | 0:00:00.080492 |\n",
            "| cpu          | 2024-05-21 21:06:07.340984 | 2024-05-21 21:06:07.342404 | 0:00:00.001420 |\n",
            "| elapsed      | 2024-05-21 21:06:07.338777 | 2024-05-21 21:06:07.423100 | 0:00:00.084323 |\n",
            "| execution    | 2024-05-21 21:06:07.340962 | 2024-05-21 21:06:07.423024 | 0:00:00.082062 |\n",
            "| prepare_qubo | 2024-05-21 21:06:07.340730 | 2024-05-21 21:06:07.340923 | 0:00:00.000193 |\n",
            "| solve        | 2024-05-21 21:06:07.340972 | 2024-05-21 21:06:07.423006 | 0:00:00.082034 |\n",
            "| tuning       | 2024-05-21 21:06:07.338798 | 2024-05-21 21:06:07.340682 | 0:00:00.001884 |\n",
            "+--------------+----------------------------+----------------------------+----------------+\n"
          ]
        }
      ]
    },
    {
      "cell_type": "code",
      "source": [
        "# Función para preparar y presentar el resultado\n",
        "def prep_result(solution_list, H_half, silent=False):\n",
        "    solution = solution_list.min_solution # La mejor solución\n",
        "    constraint_penalty = H_half.compute(solution.configuration)\n",
        "    if not silent:\n",
        "        print(f'Valor QUBO: {constraint_penalty}')\n",
        "        print(solution.configuration)\n",
        "    return constraint_penalty, solution\n",
        "\n",
        "# Función para reportar la solución\n",
        "def report(constraint_penalty, solution, asset_names, silent=False):\n",
        "    if not silent:\n",
        "        if constraint_penalty == 0.0: # Es cero en las soluciones válidas\n",
        "            print('Portfolio elegido:')\n",
        "            selected_assets = [asset_names[i] for i, bit in enumerate(solution.configuration) if bit > 0.5] # Si es 1 se incluye en el portfolio y si es 0 no, por eso se pone el 0.5\n",
        "            print(selected_assets)\n",
        "        else:\n",
        "            print(\"Solución inválida :(\")\n",
        "\n",
        "# Utilizar las funciones de resultado y reporte\n",
        "constraint_penalty, solution = prep_result(solution_list, H_half)\n",
        "report(constraint_penalty, solution, asset_names)"
      ],
      "metadata": {
        "id": "g4Tkvzi0IfKm",
        "colab": {
          "base_uri": "https://localhost:8080/"
        },
        "outputId": "49cd47c3-c0b3-491b-c075-8d2b4f0a6385"
      },
      "execution_count": null,
      "outputs": [
        {
          "output_type": "stream",
          "name": "stdout",
          "text": [
            "Valor QUBO: 0.00039999999999995595\n",
            "[1, 0, 0, 1]\n",
            "Solución inválida :(\n"
          ]
        }
      ]
    },
    {
      "cell_type": "code",
      "source": [
        "# Función para calcular la media y la desviación estándar de cada empresa\n",
        "def calcular_metricas(df):\n",
        "    metricas = pd.DataFrame(index=df.columns, columns=['Media', '  Desviación Estándar'])\n",
        "    for column in df.columns:\n",
        "        metricas.loc[column, 'Media'] = df[column].mean()\n",
        "        metricas.loc[column, '  Desviación Estándar'] = df[column].std()\n",
        "    return metricas\n",
        "\n",
        "# Mostrar estadísticas de cada empresa\n",
        "estadisticas = calcular_metricas(acciones)\n",
        "print(estadisticas)"
      ],
      "metadata": {
        "id": "_d6j_kYK7Rxs",
        "colab": {
          "base_uri": "https://localhost:8080/"
        },
        "outputId": "755e468f-518a-4923-eb42-ce8a7fcbd9c2"
      },
      "execution_count": null,
      "outputs": [
        {
          "output_type": "stream",
          "name": "stdout",
          "text": [
            "          Media   Desviación Estándar\n",
            "EmpresaA   95.9             13.963842\n",
            "EmpresaB   73.9             12.077987\n",
            "EmpresaC   32.9              7.489993\n",
            "EmpresaD  122.1             12.031902\n"
          ]
        }
      ]
    },
    {
      "cell_type": "markdown",
      "source": [
        "Tras analizar el rendimiento de las distintas empresas así como la volatilidad de los precios de sus acciones, representados por la media y la desviación estándar respectivamente, se obtiene que las mejores empresas para invertir son la EmpresaD y la EmpresaA puesto que presentan un equilibrio favorable entre el potencial de rendimiento y el nivel de riesgo asociado.\n",
        "\n",
        "La EmpresaD, con una media de 122.1 y una desviación estándar de 12.03, ofrece el mayor rendimiento de todas las opciones evaluadas, lo que indica una fuerte capacidad de generación de valor, manteniendo al mismo tiempo una volatilidad moderada que mitiga el riesgo de inversión.\n",
        "\n",
        "Por su parte, la EmpresaA, aunque exhibe una desviación estándar ligeramente mayor de 13.96, también muestra un rendimiento robusto con una media de 95.9. Esta combinación sugiere que, a pesar de una mayor variabilidad en el precio de sus acciones, la EmpresaA sigue siendo una opción atractiva debido a su alta capacidad de retorno. Por lo tanto, seleccionar estas dos empresas para la inversión proporciona una diversificación estratégica que busca maximizar los beneficios ajustados por riesgo, aprovechando tanto la estabilidad relativa como el alto potencial de crecimiento."
      ],
      "metadata": {
        "id": "Ht_3Oq7-UIxr"
      }
    }
  ]
}