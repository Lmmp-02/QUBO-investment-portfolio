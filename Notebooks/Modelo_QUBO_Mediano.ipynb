{
  "nbformat": 4,
  "nbformat_minor": 0,
  "metadata": {
    "colab": {
      "provenance": []
    },
    "kernelspec": {
      "name": "python3",
      "display_name": "Python 3"
    },
    "language_info": {
      "name": "python"
    }
  },
  "cells": [
    {
      "cell_type": "markdown",
      "source": [
        "# Implementación del Problema de Optimización de Carteras con Computador Cuántico Adiabático con variables enteras\n",
        "\n",
        "Este cuaderno describe la implementación de un problema de optimización de carteras de inversiones utilizando un computador cuántico adiabático. El enfoque adoptado es el del \"Minimum Volatility Portfolio\", utilizando variables binarias para la selección de activos. El objetivo principal es minimizar el riesgo total de la cartera, modelado por la fórmula:\n",
        "\n",
        "$$\\min \\sum_{i,j} x_i \\cdot w_{ij} \\cdot x_j$$\n",
        "\n",
        "donde $x_i$ representa la inclusión (1) o no (0) del activo $i$ en la cartera, y $w_{ij}$ es el término de covarianza entre los activos $i$ y $j$.\n",
        "\n",
        "Además, se establece una restricción sobre el retorno esperado de la cartera, asegurando que sea al menos igual a un umbral predefinido. Esto se modela con una variable slack y se expresa como:\n",
        "\n",
        "$$R \\leq \\sum_{i} x_i \\cdot r_i$$\n",
        "\n",
        "donde $r_i$ es el retorno esperado del activo $i$.\n",
        "\n",
        "Finalmente, como condición adicional, se establece un presupuesto que se debe gastar en su totalidad. Esto se traduce en la restricción:\n",
        "\n",
        "$$\\sum_{i} x_i \\cdot c_i = P$$\n",
        "\n",
        "donde $c_i$ es el costo del activo $i$ y $P$ es el presupuesto total disponible para la inversión.\n"
      ],
      "metadata": {
        "id": "egt6dq0giLkd"
      }
    },
    {
      "cell_type": "code",
      "execution_count": 1,
      "metadata": {
        "colab": {
          "base_uri": "https://localhost:8080/"
        },
        "id": "4lj5-Pa5xdaI",
        "outputId": "a0854f68-abbc-45eb-d734-eb2c9423ff30"
      },
      "outputs": [
        {
          "output_type": "stream",
          "name": "stdout",
          "text": [
            "Processing ./dadk_light_3.10.tar.bz2\n",
            "  Preparing metadata (setup.py) ... \u001b[?25l\u001b[?25hdone\n",
            "Requirement already satisfied: matplotlib==3.8.2 in /usr/local/lib/python3.10/dist-packages (from -r requirements_unix.txt (line 3)) (3.8.2)\n",
            "Requirement already satisfied: networkx==3.2.1 in /usr/local/lib/python3.10/dist-packages (from -r requirements_unix.txt (line 4)) (3.2.1)\n",
            "Requirement already satisfied: openpyxl==3.1.2 in /usr/local/lib/python3.10/dist-packages (from -r requirements_unix.txt (line 5)) (3.1.2)\n",
            "Requirement already satisfied: pandas==2.1.4 in /usr/local/lib/python3.10/dist-packages (from -r requirements_unix.txt (line 6)) (2.1.4)\n",
            "Requirement already satisfied: plotly==5.18.0 in /usr/local/lib/python3.10/dist-packages (from -r requirements_unix.txt (line 7)) (5.18.0)\n",
            "Requirement already satisfied: scikit-learn==1.3.2 in /usr/local/lib/python3.10/dist-packages (from -r requirements_unix.txt (line 8)) (1.3.2)\n",
            "Requirement already satisfied: scipy==1.11.4 in /usr/local/lib/python3.10/dist-packages (from -r requirements_unix.txt (line 9)) (1.11.4)\n",
            "Requirement already satisfied: seaborn==0.13.0 in /usr/local/lib/python3.10/dist-packages (from -r requirements_unix.txt (line 10)) (0.13.0)\n",
            "Requirement already satisfied: contourpy>=1.0.1 in /usr/local/lib/python3.10/dist-packages (from matplotlib==3.8.2->-r requirements_unix.txt (line 3)) (1.2.1)\n",
            "Requirement already satisfied: cycler>=0.10 in /usr/local/lib/python3.10/dist-packages (from matplotlib==3.8.2->-r requirements_unix.txt (line 3)) (0.12.1)\n",
            "Requirement already satisfied: fonttools>=4.22.0 in /usr/local/lib/python3.10/dist-packages (from matplotlib==3.8.2->-r requirements_unix.txt (line 3)) (4.53.0)\n",
            "Requirement already satisfied: kiwisolver>=1.3.1 in /usr/local/lib/python3.10/dist-packages (from matplotlib==3.8.2->-r requirements_unix.txt (line 3)) (1.4.5)\n",
            "Requirement already satisfied: numpy<2,>=1.21 in /usr/local/lib/python3.10/dist-packages (from matplotlib==3.8.2->-r requirements_unix.txt (line 3)) (1.25.2)\n",
            "Requirement already satisfied: packaging>=20.0 in /usr/local/lib/python3.10/dist-packages (from matplotlib==3.8.2->-r requirements_unix.txt (line 3)) (24.1)\n",
            "Requirement already satisfied: pillow>=8 in /usr/local/lib/python3.10/dist-packages (from matplotlib==3.8.2->-r requirements_unix.txt (line 3)) (9.4.0)\n",
            "Requirement already satisfied: pyparsing>=2.3.1 in /usr/local/lib/python3.10/dist-packages (from matplotlib==3.8.2->-r requirements_unix.txt (line 3)) (3.1.2)\n",
            "Requirement already satisfied: python-dateutil>=2.7 in /usr/local/lib/python3.10/dist-packages (from matplotlib==3.8.2->-r requirements_unix.txt (line 3)) (2.8.2)\n",
            "Requirement already satisfied: et-xmlfile in /usr/local/lib/python3.10/dist-packages (from openpyxl==3.1.2->-r requirements_unix.txt (line 5)) (1.1.0)\n",
            "Requirement already satisfied: pytz>=2020.1 in /usr/local/lib/python3.10/dist-packages (from pandas==2.1.4->-r requirements_unix.txt (line 6)) (2023.4)\n",
            "Requirement already satisfied: tzdata>=2022.1 in /usr/local/lib/python3.10/dist-packages (from pandas==2.1.4->-r requirements_unix.txt (line 6)) (2024.1)\n",
            "Requirement already satisfied: tenacity>=6.2.0 in /usr/local/lib/python3.10/dist-packages (from plotly==5.18.0->-r requirements_unix.txt (line 7)) (8.4.1)\n",
            "Requirement already satisfied: joblib>=1.1.1 in /usr/local/lib/python3.10/dist-packages (from scikit-learn==1.3.2->-r requirements_unix.txt (line 8)) (1.4.2)\n",
            "Requirement already satisfied: threadpoolctl>=2.0.0 in /usr/local/lib/python3.10/dist-packages (from scikit-learn==1.3.2->-r requirements_unix.txt (line 8)) (3.5.0)\n",
            "Requirement already satisfied: MarkupSafe in /usr/local/lib/python3.10/dist-packages (from dadk==2023.12.10->-r requirements_unix.txt (line 11)) (2.1.5)\n",
            "Requirement already satisfied: XlsxWriter in /usr/local/lib/python3.10/dist-packages (from dadk==2023.12.10->-r requirements_unix.txt (line 11)) (3.2.0)\n",
            "Requirement already satisfied: auth0-python in /usr/local/lib/python3.10/dist-packages (from dadk==2023.12.10->-r requirements_unix.txt (line 11)) (4.7.1)\n",
            "Requirement already satisfied: azure-storage-blob in /usr/local/lib/python3.10/dist-packages (from dadk==2023.12.10->-r requirements_unix.txt (line 11)) (12.20.0)\n",
            "Requirement already satisfied: bqplot in /usr/local/lib/python3.10/dist-packages (from dadk==2023.12.10->-r requirements_unix.txt (line 11)) (0.12.43)\n",
            "Requirement already satisfied: colorama in /usr/local/lib/python3.10/dist-packages (from dadk==2023.12.10->-r requirements_unix.txt (line 11)) (0.4.6)\n",
            "Requirement already satisfied: future in /usr/local/lib/python3.10/dist-packages (from dadk==2023.12.10->-r requirements_unix.txt (line 11)) (0.18.3)\n",
            "Requirement already satisfied: h5py in /usr/local/lib/python3.10/dist-packages (from dadk==2023.12.10->-r requirements_unix.txt (line 11)) (3.9.0)\n",
            "Requirement already satisfied: htmlentities in /usr/local/lib/python3.10/dist-packages (from dadk==2023.12.10->-r requirements_unix.txt (line 11)) (0.3.0)\n",
            "Requirement already satisfied: imageio in /usr/local/lib/python3.10/dist-packages (from dadk==2023.12.10->-r requirements_unix.txt (line 11)) (2.31.6)\n",
            "Requirement already satisfied: ipyevents in /usr/local/lib/python3.10/dist-packages (from dadk==2023.12.10->-r requirements_unix.txt (line 11)) (2.0.2)\n",
            "Requirement already satisfied: ipympl in /usr/local/lib/python3.10/dist-packages (from dadk==2023.12.10->-r requirements_unix.txt (line 11)) (0.9.4)\n",
            "Requirement already satisfied: ipytree in /usr/local/lib/python3.10/dist-packages (from dadk==2023.12.10->-r requirements_unix.txt (line 11)) (0.2.2)\n",
            "Requirement already satisfied: ipywidgets in /usr/local/lib/python3.10/dist-packages (from dadk==2023.12.10->-r requirements_unix.txt (line 11)) (7.7.1)\n",
            "Requirement already satisfied: JSON_minify in /usr/local/lib/python3.10/dist-packages (from dadk==2023.12.10->-r requirements_unix.txt (line 11)) (0.3.0)\n",
            "Requirement already satisfied: k3d in /usr/local/lib/python3.10/dist-packages (from dadk==2023.12.10->-r requirements_unix.txt (line 11)) (2.16.1)\n",
            "Requirement already satisfied: keyboard in /usr/local/lib/python3.10/dist-packages (from dadk==2023.12.10->-r requirements_unix.txt (line 11)) (0.13.5)\n",
            "Requirement already satisfied: lark-parser in /usr/local/lib/python3.10/dist-packages (from dadk==2023.12.10->-r requirements_unix.txt (line 11)) (0.12.0)\n",
            "Requirement already satisfied: multiprocess in /usr/local/lib/python3.10/dist-packages (from dadk==2023.12.10->-r requirements_unix.txt (line 11)) (0.70.16)\n",
            "Requirement already satisfied: numba in /usr/local/lib/python3.10/dist-packages (from dadk==2023.12.10->-r requirements_unix.txt (line 11)) (0.58.1)\n",
            "Requirement already satisfied: optuna in /usr/local/lib/python3.10/dist-packages (from dadk==2023.12.10->-r requirements_unix.txt (line 11)) (3.6.1)\n",
            "Requirement already satisfied: pyjwt in /usr/local/lib/python3.10/dist-packages (from dadk==2023.12.10->-r requirements_unix.txt (line 11)) (2.8.0)\n",
            "Requirement already satisfied: pyyaml in /usr/local/lib/python3.10/dist-packages (from dadk==2023.12.10->-r requirements_unix.txt (line 11)) (6.0.1)\n",
            "Requirement already satisfied: requests in /usr/local/lib/python3.10/dist-packages (from dadk==2023.12.10->-r requirements_unix.txt (line 11)) (2.31.0)\n",
            "Requirement already satisfied: tabulate in /usr/local/lib/python3.10/dist-packages (from dadk==2023.12.10->-r requirements_unix.txt (line 11)) (0.9.0)\n",
            "Requirement already satisfied: termcolor in /usr/local/lib/python3.10/dist-packages (from dadk==2023.12.10->-r requirements_unix.txt (line 11)) (2.4.0)\n",
            "Requirement already satisfied: six>=1.5 in /usr/local/lib/python3.10/dist-packages (from python-dateutil>=2.7->matplotlib==3.8.2->-r requirements_unix.txt (line 3)) (1.16.0)\n",
            "Requirement already satisfied: aiohttp<4.0.0,>=3.8.5 in /usr/local/lib/python3.10/dist-packages (from auth0-python->dadk==2023.12.10->-r requirements_unix.txt (line 11)) (3.9.5)\n",
            "Requirement already satisfied: cryptography<43.0.0,>=42.0.4 in /usr/local/lib/python3.10/dist-packages (from auth0-python->dadk==2023.12.10->-r requirements_unix.txt (line 11)) (42.0.8)\n",
            "Requirement already satisfied: urllib3<3.0.0,>=2.0.7 in /usr/local/lib/python3.10/dist-packages (from auth0-python->dadk==2023.12.10->-r requirements_unix.txt (line 11)) (2.0.7)\n",
            "Requirement already satisfied: charset-normalizer<4,>=2 in /usr/local/lib/python3.10/dist-packages (from requests->dadk==2023.12.10->-r requirements_unix.txt (line 11)) (3.3.2)\n",
            "Requirement already satisfied: idna<4,>=2.5 in /usr/local/lib/python3.10/dist-packages (from requests->dadk==2023.12.10->-r requirements_unix.txt (line 11)) (3.7)\n",
            "Requirement already satisfied: certifi>=2017.4.17 in /usr/local/lib/python3.10/dist-packages (from requests->dadk==2023.12.10->-r requirements_unix.txt (line 11)) (2024.6.2)\n",
            "Requirement already satisfied: azure-core>=1.28.0 in /usr/local/lib/python3.10/dist-packages (from azure-storage-blob->dadk==2023.12.10->-r requirements_unix.txt (line 11)) (1.30.2)\n",
            "Requirement already satisfied: typing-extensions>=4.6.0 in /usr/local/lib/python3.10/dist-packages (from azure-storage-blob->dadk==2023.12.10->-r requirements_unix.txt (line 11)) (4.12.2)\n",
            "Requirement already satisfied: isodate>=0.6.1 in /usr/local/lib/python3.10/dist-packages (from azure-storage-blob->dadk==2023.12.10->-r requirements_unix.txt (line 11)) (0.6.1)\n",
            "Requirement already satisfied: traitlets>=4.3.0 in /usr/local/lib/python3.10/dist-packages (from bqplot->dadk==2023.12.10->-r requirements_unix.txt (line 11)) (5.7.1)\n",
            "Requirement already satisfied: traittypes>=0.0.6 in /usr/local/lib/python3.10/dist-packages (from bqplot->dadk==2023.12.10->-r requirements_unix.txt (line 11)) (0.2.1)\n",
            "Requirement already satisfied: ipykernel>=4.5.1 in /usr/local/lib/python3.10/dist-packages (from ipywidgets->dadk==2023.12.10->-r requirements_unix.txt (line 11)) (5.5.6)\n",
            "Requirement already satisfied: ipython-genutils~=0.2.0 in /usr/local/lib/python3.10/dist-packages (from ipywidgets->dadk==2023.12.10->-r requirements_unix.txt (line 11)) (0.2.0)\n",
            "Requirement already satisfied: widgetsnbextension~=3.6.0 in /usr/local/lib/python3.10/dist-packages (from ipywidgets->dadk==2023.12.10->-r requirements_unix.txt (line 11)) (3.6.6)\n",
            "Requirement already satisfied: ipython>=4.0.0 in /usr/local/lib/python3.10/dist-packages (from ipywidgets->dadk==2023.12.10->-r requirements_unix.txt (line 11)) (7.34.0)\n",
            "Requirement already satisfied: jupyterlab-widgets>=1.0.0 in /usr/local/lib/python3.10/dist-packages (from ipywidgets->dadk==2023.12.10->-r requirements_unix.txt (line 11)) (3.0.11)\n",
            "Requirement already satisfied: msgpack in /usr/local/lib/python3.10/dist-packages (from k3d->dadk==2023.12.10->-r requirements_unix.txt (line 11)) (1.0.8)\n",
            "Requirement already satisfied: dill>=0.3.8 in /usr/local/lib/python3.10/dist-packages (from multiprocess->dadk==2023.12.10->-r requirements_unix.txt (line 11)) (0.3.8)\n",
            "Requirement already satisfied: llvmlite<0.42,>=0.41.0dev0 in /usr/local/lib/python3.10/dist-packages (from numba->dadk==2023.12.10->-r requirements_unix.txt (line 11)) (0.41.1)\n",
            "Requirement already satisfied: alembic>=1.5.0 in /usr/local/lib/python3.10/dist-packages (from optuna->dadk==2023.12.10->-r requirements_unix.txt (line 11)) (1.13.1)\n",
            "Requirement already satisfied: colorlog in /usr/local/lib/python3.10/dist-packages (from optuna->dadk==2023.12.10->-r requirements_unix.txt (line 11)) (6.8.2)\n",
            "Requirement already satisfied: sqlalchemy>=1.3.0 in /usr/local/lib/python3.10/dist-packages (from optuna->dadk==2023.12.10->-r requirements_unix.txt (line 11)) (2.0.30)\n",
            "Requirement already satisfied: tqdm in /usr/local/lib/python3.10/dist-packages (from optuna->dadk==2023.12.10->-r requirements_unix.txt (line 11)) (4.66.4)\n",
            "Requirement already satisfied: aiosignal>=1.1.2 in /usr/local/lib/python3.10/dist-packages (from aiohttp<4.0.0,>=3.8.5->auth0-python->dadk==2023.12.10->-r requirements_unix.txt (line 11)) (1.3.1)\n",
            "Requirement already satisfied: attrs>=17.3.0 in /usr/local/lib/python3.10/dist-packages (from aiohttp<4.0.0,>=3.8.5->auth0-python->dadk==2023.12.10->-r requirements_unix.txt (line 11)) (23.2.0)\n",
            "Requirement already satisfied: frozenlist>=1.1.1 in /usr/local/lib/python3.10/dist-packages (from aiohttp<4.0.0,>=3.8.5->auth0-python->dadk==2023.12.10->-r requirements_unix.txt (line 11)) (1.4.1)\n",
            "Requirement already satisfied: multidict<7.0,>=4.5 in /usr/local/lib/python3.10/dist-packages (from aiohttp<4.0.0,>=3.8.5->auth0-python->dadk==2023.12.10->-r requirements_unix.txt (line 11)) (6.0.5)\n",
            "Requirement already satisfied: yarl<2.0,>=1.0 in /usr/local/lib/python3.10/dist-packages (from aiohttp<4.0.0,>=3.8.5->auth0-python->dadk==2023.12.10->-r requirements_unix.txt (line 11)) (1.9.4)\n",
            "Requirement already satisfied: async-timeout<5.0,>=4.0 in /usr/local/lib/python3.10/dist-packages (from aiohttp<4.0.0,>=3.8.5->auth0-python->dadk==2023.12.10->-r requirements_unix.txt (line 11)) (4.0.3)\n",
            "Requirement already satisfied: Mako in /usr/local/lib/python3.10/dist-packages (from alembic>=1.5.0->optuna->dadk==2023.12.10->-r requirements_unix.txt (line 11)) (1.3.5)\n",
            "Requirement already satisfied: cffi>=1.12 in /usr/local/lib/python3.10/dist-packages (from cryptography<43.0.0,>=42.0.4->auth0-python->dadk==2023.12.10->-r requirements_unix.txt (line 11)) (1.16.0)\n",
            "Requirement already satisfied: jupyter-client in /usr/local/lib/python3.10/dist-packages (from ipykernel>=4.5.1->ipywidgets->dadk==2023.12.10->-r requirements_unix.txt (line 11)) (6.1.12)\n",
            "Requirement already satisfied: tornado>=4.2 in /usr/local/lib/python3.10/dist-packages (from ipykernel>=4.5.1->ipywidgets->dadk==2023.12.10->-r requirements_unix.txt (line 11)) (6.3.3)\n",
            "Requirement already satisfied: setuptools>=18.5 in /usr/local/lib/python3.10/dist-packages (from ipython>=4.0.0->ipywidgets->dadk==2023.12.10->-r requirements_unix.txt (line 11)) (67.7.2)\n",
            "Requirement already satisfied: jedi>=0.16 in /usr/local/lib/python3.10/dist-packages (from ipython>=4.0.0->ipywidgets->dadk==2023.12.10->-r requirements_unix.txt (line 11)) (0.19.1)\n",
            "Requirement already satisfied: decorator in /usr/local/lib/python3.10/dist-packages (from ipython>=4.0.0->ipywidgets->dadk==2023.12.10->-r requirements_unix.txt (line 11)) (4.4.2)\n",
            "Requirement already satisfied: pickleshare in /usr/local/lib/python3.10/dist-packages (from ipython>=4.0.0->ipywidgets->dadk==2023.12.10->-r requirements_unix.txt (line 11)) (0.7.5)\n",
            "Requirement already satisfied: prompt-toolkit!=3.0.0,!=3.0.1,<3.1.0,>=2.0.0 in /usr/local/lib/python3.10/dist-packages (from ipython>=4.0.0->ipywidgets->dadk==2023.12.10->-r requirements_unix.txt (line 11)) (3.0.47)\n",
            "Requirement already satisfied: pygments in /usr/local/lib/python3.10/dist-packages (from ipython>=4.0.0->ipywidgets->dadk==2023.12.10->-r requirements_unix.txt (line 11)) (2.16.1)\n",
            "Requirement already satisfied: backcall in /usr/local/lib/python3.10/dist-packages (from ipython>=4.0.0->ipywidgets->dadk==2023.12.10->-r requirements_unix.txt (line 11)) (0.2.0)\n",
            "Requirement already satisfied: matplotlib-inline in /usr/local/lib/python3.10/dist-packages (from ipython>=4.0.0->ipywidgets->dadk==2023.12.10->-r requirements_unix.txt (line 11)) (0.1.7)\n",
            "Requirement already satisfied: pexpect>4.3 in /usr/local/lib/python3.10/dist-packages (from ipython>=4.0.0->ipywidgets->dadk==2023.12.10->-r requirements_unix.txt (line 11)) (4.9.0)\n",
            "Requirement already satisfied: greenlet!=0.4.17 in /usr/local/lib/python3.10/dist-packages (from sqlalchemy>=1.3.0->optuna->dadk==2023.12.10->-r requirements_unix.txt (line 11)) (3.0.3)\n",
            "Requirement already satisfied: notebook>=4.4.1 in /usr/local/lib/python3.10/dist-packages (from widgetsnbextension~=3.6.0->ipywidgets->dadk==2023.12.10->-r requirements_unix.txt (line 11)) (6.5.5)\n",
            "Requirement already satisfied: pycparser in /usr/local/lib/python3.10/dist-packages (from cffi>=1.12->cryptography<43.0.0,>=42.0.4->auth0-python->dadk==2023.12.10->-r requirements_unix.txt (line 11)) (2.22)\n",
            "Requirement already satisfied: parso<0.9.0,>=0.8.3 in /usr/local/lib/python3.10/dist-packages (from jedi>=0.16->ipython>=4.0.0->ipywidgets->dadk==2023.12.10->-r requirements_unix.txt (line 11)) (0.8.4)\n",
            "Requirement already satisfied: jinja2 in /usr/local/lib/python3.10/dist-packages (from notebook>=4.4.1->widgetsnbextension~=3.6.0->ipywidgets->dadk==2023.12.10->-r requirements_unix.txt (line 11)) (3.1.4)\n",
            "Requirement already satisfied: pyzmq<25,>=17 in /usr/local/lib/python3.10/dist-packages (from notebook>=4.4.1->widgetsnbextension~=3.6.0->ipywidgets->dadk==2023.12.10->-r requirements_unix.txt (line 11)) (24.0.1)\n",
            "Requirement already satisfied: argon2-cffi in /usr/local/lib/python3.10/dist-packages (from notebook>=4.4.1->widgetsnbextension~=3.6.0->ipywidgets->dadk==2023.12.10->-r requirements_unix.txt (line 11)) (23.1.0)\n",
            "Requirement already satisfied: jupyter-core>=4.6.1 in /usr/local/lib/python3.10/dist-packages (from notebook>=4.4.1->widgetsnbextension~=3.6.0->ipywidgets->dadk==2023.12.10->-r requirements_unix.txt (line 11)) (5.7.2)\n",
            "Requirement already satisfied: nbformat in /usr/local/lib/python3.10/dist-packages (from notebook>=4.4.1->widgetsnbextension~=3.6.0->ipywidgets->dadk==2023.12.10->-r requirements_unix.txt (line 11)) (5.10.4)\n",
            "Requirement already satisfied: nbconvert>=5 in /usr/local/lib/python3.10/dist-packages (from notebook>=4.4.1->widgetsnbextension~=3.6.0->ipywidgets->dadk==2023.12.10->-r requirements_unix.txt (line 11)) (6.5.4)\n",
            "Requirement already satisfied: nest-asyncio>=1.5 in /usr/local/lib/python3.10/dist-packages (from notebook>=4.4.1->widgetsnbextension~=3.6.0->ipywidgets->dadk==2023.12.10->-r requirements_unix.txt (line 11)) (1.6.0)\n",
            "Requirement already satisfied: Send2Trash>=1.8.0 in /usr/local/lib/python3.10/dist-packages (from notebook>=4.4.1->widgetsnbextension~=3.6.0->ipywidgets->dadk==2023.12.10->-r requirements_unix.txt (line 11)) (1.8.3)\n",
            "Requirement already satisfied: terminado>=0.8.3 in /usr/local/lib/python3.10/dist-packages (from notebook>=4.4.1->widgetsnbextension~=3.6.0->ipywidgets->dadk==2023.12.10->-r requirements_unix.txt (line 11)) (0.18.1)\n",
            "Requirement already satisfied: prometheus-client in /usr/local/lib/python3.10/dist-packages (from notebook>=4.4.1->widgetsnbextension~=3.6.0->ipywidgets->dadk==2023.12.10->-r requirements_unix.txt (line 11)) (0.20.0)\n",
            "Requirement already satisfied: nbclassic>=0.4.7 in /usr/local/lib/python3.10/dist-packages (from notebook>=4.4.1->widgetsnbextension~=3.6.0->ipywidgets->dadk==2023.12.10->-r requirements_unix.txt (line 11)) (1.1.0)\n",
            "Requirement already satisfied: ptyprocess>=0.5 in /usr/local/lib/python3.10/dist-packages (from pexpect>4.3->ipython>=4.0.0->ipywidgets->dadk==2023.12.10->-r requirements_unix.txt (line 11)) (0.7.0)\n",
            "Requirement already satisfied: wcwidth in /usr/local/lib/python3.10/dist-packages (from prompt-toolkit!=3.0.0,!=3.0.1,<3.1.0,>=2.0.0->ipython>=4.0.0->ipywidgets->dadk==2023.12.10->-r requirements_unix.txt (line 11)) (0.2.13)\n",
            "Requirement already satisfied: platformdirs>=2.5 in /usr/local/lib/python3.10/dist-packages (from jupyter-core>=4.6.1->notebook>=4.4.1->widgetsnbextension~=3.6.0->ipywidgets->dadk==2023.12.10->-r requirements_unix.txt (line 11)) (4.2.2)\n",
            "Requirement already satisfied: notebook-shim>=0.2.3 in /usr/local/lib/python3.10/dist-packages (from nbclassic>=0.4.7->notebook>=4.4.1->widgetsnbextension~=3.6.0->ipywidgets->dadk==2023.12.10->-r requirements_unix.txt (line 11)) (0.2.4)\n",
            "Requirement already satisfied: lxml in /usr/local/lib/python3.10/dist-packages (from nbconvert>=5->notebook>=4.4.1->widgetsnbextension~=3.6.0->ipywidgets->dadk==2023.12.10->-r requirements_unix.txt (line 11)) (4.9.4)\n",
            "Requirement already satisfied: beautifulsoup4 in /usr/local/lib/python3.10/dist-packages (from nbconvert>=5->notebook>=4.4.1->widgetsnbextension~=3.6.0->ipywidgets->dadk==2023.12.10->-r requirements_unix.txt (line 11)) (4.12.3)\n",
            "Requirement already satisfied: bleach in /usr/local/lib/python3.10/dist-packages (from nbconvert>=5->notebook>=4.4.1->widgetsnbextension~=3.6.0->ipywidgets->dadk==2023.12.10->-r requirements_unix.txt (line 11)) (6.1.0)\n",
            "Requirement already satisfied: defusedxml in /usr/local/lib/python3.10/dist-packages (from nbconvert>=5->notebook>=4.4.1->widgetsnbextension~=3.6.0->ipywidgets->dadk==2023.12.10->-r requirements_unix.txt (line 11)) (0.7.1)\n",
            "Requirement already satisfied: entrypoints>=0.2.2 in /usr/local/lib/python3.10/dist-packages (from nbconvert>=5->notebook>=4.4.1->widgetsnbextension~=3.6.0->ipywidgets->dadk==2023.12.10->-r requirements_unix.txt (line 11)) (0.4)\n",
            "Requirement already satisfied: jupyterlab-pygments in /usr/local/lib/python3.10/dist-packages (from nbconvert>=5->notebook>=4.4.1->widgetsnbextension~=3.6.0->ipywidgets->dadk==2023.12.10->-r requirements_unix.txt (line 11)) (0.3.0)\n",
            "Requirement already satisfied: mistune<2,>=0.8.1 in /usr/local/lib/python3.10/dist-packages (from nbconvert>=5->notebook>=4.4.1->widgetsnbextension~=3.6.0->ipywidgets->dadk==2023.12.10->-r requirements_unix.txt (line 11)) (0.8.4)\n",
            "Requirement already satisfied: nbclient>=0.5.0 in /usr/local/lib/python3.10/dist-packages (from nbconvert>=5->notebook>=4.4.1->widgetsnbextension~=3.6.0->ipywidgets->dadk==2023.12.10->-r requirements_unix.txt (line 11)) (0.10.0)\n",
            "Requirement already satisfied: pandocfilters>=1.4.1 in /usr/local/lib/python3.10/dist-packages (from nbconvert>=5->notebook>=4.4.1->widgetsnbextension~=3.6.0->ipywidgets->dadk==2023.12.10->-r requirements_unix.txt (line 11)) (1.5.1)\n",
            "Requirement already satisfied: tinycss2 in /usr/local/lib/python3.10/dist-packages (from nbconvert>=5->notebook>=4.4.1->widgetsnbextension~=3.6.0->ipywidgets->dadk==2023.12.10->-r requirements_unix.txt (line 11)) (1.3.0)\n",
            "Requirement already satisfied: fastjsonschema>=2.15 in /usr/local/lib/python3.10/dist-packages (from nbformat->notebook>=4.4.1->widgetsnbextension~=3.6.0->ipywidgets->dadk==2023.12.10->-r requirements_unix.txt (line 11)) (2.20.0)\n",
            "Requirement already satisfied: jsonschema>=2.6 in /usr/local/lib/python3.10/dist-packages (from nbformat->notebook>=4.4.1->widgetsnbextension~=3.6.0->ipywidgets->dadk==2023.12.10->-r requirements_unix.txt (line 11)) (4.19.2)\n",
            "Requirement already satisfied: argon2-cffi-bindings in /usr/local/lib/python3.10/dist-packages (from argon2-cffi->notebook>=4.4.1->widgetsnbextension~=3.6.0->ipywidgets->dadk==2023.12.10->-r requirements_unix.txt (line 11)) (21.2.0)\n",
            "Requirement already satisfied: jsonschema-specifications>=2023.03.6 in /usr/local/lib/python3.10/dist-packages (from jsonschema>=2.6->nbformat->notebook>=4.4.1->widgetsnbextension~=3.6.0->ipywidgets->dadk==2023.12.10->-r requirements_unix.txt (line 11)) (2023.12.1)\n",
            "Requirement already satisfied: referencing>=0.28.4 in /usr/local/lib/python3.10/dist-packages (from jsonschema>=2.6->nbformat->notebook>=4.4.1->widgetsnbextension~=3.6.0->ipywidgets->dadk==2023.12.10->-r requirements_unix.txt (line 11)) (0.35.1)\n",
            "Requirement already satisfied: rpds-py>=0.7.1 in /usr/local/lib/python3.10/dist-packages (from jsonschema>=2.6->nbformat->notebook>=4.4.1->widgetsnbextension~=3.6.0->ipywidgets->dadk==2023.12.10->-r requirements_unix.txt (line 11)) (0.18.1)\n",
            "Requirement already satisfied: jupyter-server<3,>=1.8 in /usr/local/lib/python3.10/dist-packages (from notebook-shim>=0.2.3->nbclassic>=0.4.7->notebook>=4.4.1->widgetsnbextension~=3.6.0->ipywidgets->dadk==2023.12.10->-r requirements_unix.txt (line 11)) (1.24.0)\n",
            "Requirement already satisfied: soupsieve>1.2 in /usr/local/lib/python3.10/dist-packages (from beautifulsoup4->nbconvert>=5->notebook>=4.4.1->widgetsnbextension~=3.6.0->ipywidgets->dadk==2023.12.10->-r requirements_unix.txt (line 11)) (2.5)\n",
            "Requirement already satisfied: webencodings in /usr/local/lib/python3.10/dist-packages (from bleach->nbconvert>=5->notebook>=4.4.1->widgetsnbextension~=3.6.0->ipywidgets->dadk==2023.12.10->-r requirements_unix.txt (line 11)) (0.5.1)\n",
            "Requirement already satisfied: anyio<4,>=3.1.0 in /usr/local/lib/python3.10/dist-packages (from jupyter-server<3,>=1.8->notebook-shim>=0.2.3->nbclassic>=0.4.7->notebook>=4.4.1->widgetsnbextension~=3.6.0->ipywidgets->dadk==2023.12.10->-r requirements_unix.txt (line 11)) (3.7.1)\n",
            "Requirement already satisfied: websocket-client in /usr/local/lib/python3.10/dist-packages (from jupyter-server<3,>=1.8->notebook-shim>=0.2.3->nbclassic>=0.4.7->notebook>=4.4.1->widgetsnbextension~=3.6.0->ipywidgets->dadk==2023.12.10->-r requirements_unix.txt (line 11)) (1.8.0)\n",
            "Requirement already satisfied: sniffio>=1.1 in /usr/local/lib/python3.10/dist-packages (from anyio<4,>=3.1.0->jupyter-server<3,>=1.8->notebook-shim>=0.2.3->nbclassic>=0.4.7->notebook>=4.4.1->widgetsnbextension~=3.6.0->ipywidgets->dadk==2023.12.10->-r requirements_unix.txt (line 11)) (1.3.1)\n",
            "Requirement already satisfied: exceptiongroup in /usr/local/lib/python3.10/dist-packages (from anyio<4,>=3.1.0->jupyter-server<3,>=1.8->notebook-shim>=0.2.3->nbclassic>=0.4.7->notebook>=4.4.1->widgetsnbextension~=3.6.0->ipywidgets->dadk==2023.12.10->-r requirements_unix.txt (line 11)) (1.2.1)\n",
            "Building wheels for collected packages: dadk\n",
            "  Building wheel for dadk (setup.py) ... \u001b[?25l\u001b[?25hdone\n",
            "  Created wheel for dadk: filename=dadk-2023.12.10-py3-none-any.whl size=4995459 sha256=7caeb9b97b0af4e56418e39d13e9c8e7a944faa243d4c58268e2b10c3ed0ce81\n",
            "  Stored in directory: /tmp/pip-ephem-wheel-cache-1957r5wo/wheels/78/36/68/08dcbec0b48f137a33fc3ac474d3838f74984d2dda7e3178dd\n",
            "Successfully built dadk\n",
            "Installing collected packages: dadk\n",
            "  Attempting uninstall: dadk\n",
            "    Found existing installation: dadk 2023.12.10\n",
            "    Uninstalling dadk-2023.12.10:\n",
            "      Successfully uninstalled dadk-2023.12.10\n",
            "Successfully installed dadk-2023.12.10\n"
          ]
        }
      ],
      "source": [
        "!pip install -r \"requirements_unix.txt\""
      ]
    },
    {
      "cell_type": "code",
      "source": [
        "!pip install dimod > /dev/null 2>&1\n",
        "!pip install pip-system-certs > /dev/null 2>&1\n",
        "!pip install dwave-neal > /dev/null 2>&1\n",
        "!pip install dwave-system > /dev/null 2>&1\n",
        "!pip install hybrid > /dev/null 2>&1\n"
      ],
      "metadata": {
        "id": "4lCk1GnxmLhy"
      },
      "execution_count": 22,
      "outputs": []
    },
    {
      "cell_type": "code",
      "source": [
        "%matplotlib widget\n",
        "from IPython.display import display, HTML\n",
        "display(HTML(\"<style>.container{width:100% !important;}</style>\"))\n",
        "import random\n",
        "from IPython.display import display, HTML\n",
        "from dadk.Optimizer import *\n",
        "from dadk.SolverFactory import *\n",
        "from dadk.Solution_SolutionList import *\n",
        "from dadk.BinPol import *\n",
        "from random import uniform\n",
        "from tabulate import tabulate\n",
        "from numpy import argmax\n",
        "import numpy as np\n",
        "from dadk.QUBOSolverCPU import *\n",
        "import pandas as pd\n",
        "import numpy as np\n",
        "from sklearn.preprocessing import StandardScaler\n",
        "import time"
      ],
      "metadata": {
        "colab": {
          "base_uri": "https://localhost:8080/",
          "height": 17
        },
        "id": "dL6DXxh6yTMH",
        "outputId": "0653fd61-b5c0-4045-a56f-8dc84ba70d3d"
      },
      "execution_count": 67,
      "outputs": [
        {
          "output_type": "display_data",
          "data": {
            "text/plain": [
              "<IPython.core.display.HTML object>"
            ],
            "text/html": [
              "<style>.container{width:100% !important;}</style>"
            ]
          },
          "metadata": {}
        }
      ]
    },
    {
      "cell_type": "markdown",
      "source": [
        "Para adaptar el código del problema al dataset mediano y mejorar la claridad y precisión de los cálculos, se han introducido varios cambios significativos:\n",
        "  -  Los retornos se calculan como la diferencia porcentual entre el precio de cierre de las acciones y el precio de apertura. Luego, esos retornos se agrupan según el nombre de la empresa para calcular la media diraria y la matriz de covarianza.\n",
        "  -  Los retornos esperados se obtienen directamente de los retornos medios calculados para cada empresa."
      ],
      "metadata": {
        "id": "TW1gfyqntcxP"
      }
    },
    {
      "cell_type": "markdown",
      "source": [
        "# Código Genérico"
      ],
      "metadata": {
        "id": "6CSuCSHBlEYK"
      }
    },
    {
      "cell_type": "code",
      "source": [
        "asset_names = []\n",
        "retornos_esperados = []\n",
        "cov_matrix = []\n",
        "solution = None\n",
        "constraint_penalty = None\n",
        "n_bits = 0\n",
        "\n",
        "# Función para cargar y procesar datos\n",
        "def cargar_datos(file_path):\n",
        "    global asset_names, retornos_esperados, cov_matrix\n",
        "    acciones = pd.read_csv(file_path)\n",
        "\n",
        "    acciones['retorno'] = (acciones['Cierre'] - acciones['Apertura']) / acciones['Apertura']\n",
        "    retornos = acciones.groupby('Nombre de la Empresa')['retorno'].mean().reset_index()\n",
        "\n",
        "    asset_names = retornos['Nombre de la Empresa'].tolist()\n",
        "\n",
        "    retornos_esperados = np.array(retornos['retorno'].values)\n",
        "    retornos_diarios = acciones.pivot(index='Fecha', columns='Nombre de la Empresa', values='retorno').dropna()\n",
        "\n",
        "    cov_matrix = retornos_diarios.cov().values\n",
        "\n",
        "    return asset_names, retornos_esperados, cov_matrix\n",
        "\n",
        "# Función para configurar y ejecutar el modelo QUBO\n",
        "def ejecutar_qubo(file_path, retorno_minimo=0.01, presupuesto_total=100, unidad_inversion=10, factor_penalty=1000, iterations=50000, runs=10):\n",
        "    global solution, constraint_penalty, n_bits\n",
        "\n",
        "    asset_names, retornos_esperados, cov_matrix = cargar_datos(file_path)\n",
        "    n_assets = len(asset_names)\n",
        "\n",
        "    max_unidades = 50 // unidad_inversion\n",
        "    n_bits = int(np.ceil(np.log2(max_unidades + 1)))\n",
        "\n",
        "    if not es_factible(retornos_esperados, retorno_minimo, n_assets):\n",
        "        print(f\"No se puede dar solución para el retorno mínimo introducido de {retorno_minimo}\")\n",
        "        return\n",
        "\n",
        "    QUBO, H_budget, H_slack = build_qubo(cov_matrix, n_assets, factor_penalty, retornos_esperados, retorno_minimo, presupuesto_total, unidad_inversion, n_bits)\n",
        "\n",
        "    solver = QUBOSolverCPU(\n",
        "        number_iterations=iterations,\n",
        "        number_runs=runs,\n",
        "        scaling_bit_precision=16,\n",
        "        auto_tuning=AutoTuning.AUTO_SCALING_AND_SAMPLING\n",
        "    )\n",
        "\n",
        "    start_time = time.time()  # Inicia el temporizador antes de ejecutar el QUBO\n",
        "    solution_list = solver.minimize(QUBO)\n",
        "    end_time = time.time()  # Finaliza el temporizador después de ejecutar el QUBO\n",
        "\n",
        "    constraint_penalty, solution = prep_result(solution_list, H_budget)\n",
        "    report(constraint_penalty, solution, asset_names, retorno_minimo, unidad_inversion, n_bits)\n",
        "\n",
        "    print(f\"Tiempo de ejecución: {end_time - start_time:.2f} segundos\")\n",
        "\n",
        "# Función para construir el modelo QUBO\n",
        "def build_qubo(cov_matrix, n_assets, factor_penalty, retornos, retorno_min_esperado, presupuesto, unidad_inversion, n_bits):\n",
        "    var_problema = BitArrayShape('x', (n_assets, n_bits))\n",
        "\n",
        "    slack_stop = presupuesto // unidad_inversion\n",
        "    my_var_slack = VarSlack(name='slack_variable', start=0, step=1, stop=slack_stop, slack_type=SlackType.binary)\n",
        "\n",
        "    var_shape_set = VarShapeSet(var_problema, my_var_slack)\n",
        "    BinPol.freeze_var_shape_set(var_shape_set)\n",
        "\n",
        "    H_cuad = BinPol()\n",
        "\n",
        "    for i in range(n_assets):\n",
        "        for j in range(n_assets):\n",
        "            for k in range(n_bits):\n",
        "                for l in range(n_bits):\n",
        "                    w_ij = cov_matrix[i, j] * (2**k) * (2**l) * (unidad_inversion**2)\n",
        "                    H_cuad.add_term(w_ij, ('x', i, k), ('x', j, l))\n",
        "\n",
        "    H_slack = BinPol()\n",
        "\n",
        "    for i in range(n_assets):\n",
        "        for k in range(n_bits):\n",
        "            H_slack.add_term(retornos[i] * (2**k) * unidad_inversion, ('x', i, k))\n",
        "\n",
        "    H_slack.add_slack_variable('slack_variable', factor=-1)\n",
        "    H_slack.add_term(-retorno_min_esperado, ())\n",
        "\n",
        "    H_budget = BinPol()\n",
        "\n",
        "    for i in range(n_assets):\n",
        "        for k in range(n_bits):\n",
        "            H_budget.add_term((2**k) * unidad_inversion, ('x', i, k))\n",
        "    H_budget.add_term(-presupuesto, ())\n",
        "    H_budget.power(2)\n",
        "\n",
        "    QUBO = H_cuad + (H_slack + H_budget) * factor_penalty\n",
        "\n",
        "    return QUBO, H_budget, H_slack\n",
        "\n",
        "# Función para preparar y presentar el resultado\n",
        "def prep_result(solution_list, H_budget, silent=False):\n",
        "    solution = solution_list.min_solution\n",
        "    constraint_penalty = H_budget.compute(solution.configuration)\n",
        "    if not silent:\n",
        "        print(f'Valor QUBO: {constraint_penalty}')\n",
        "        print(solution.configuration)\n",
        "    return constraint_penalty, solution\n",
        "\n",
        "# Función para reportar la solución\n",
        "def report(constraint_penalty, solution, asset_names, retorno_min_esperado, unidad_inversion, n_bits, silent=False):\n",
        "    if not silent:\n",
        "        if constraint_penalty == 0.0:\n",
        "            print('\\nPortfolio elegido:')\n",
        "            selected_assets = []\n",
        "            for i in range(len(asset_names)):\n",
        "                cantidad = sum(solution['x'][i, k] * (2**k) for k in range(n_bits))\n",
        "                if cantidad > 0:\n",
        "                    selected_assets.append((asset_names[i], cantidad * unidad_inversion))\n",
        "            print(selected_assets)\n",
        "            print()\n",
        "        else:\n",
        "            print(f\"No se puede dar solución para el retorno mínimo introducido de {retorno_min_esperado}\")\n",
        "\n",
        "# Función para verificar si el retorno mínimo es alcanzable\n",
        "def es_factible(retornos, retorno_min_esperado, n_assets):\n",
        "    retorno_posible_max = sum(sorted(retornos, reverse=True)[:n_assets])\n",
        "    return retorno_posible_max >= retorno_min_esperado\n"
      ],
      "metadata": {
        "id": "YdvVc1hd5k0m"
      },
      "execution_count": 73,
      "outputs": []
    },
    {
      "cell_type": "markdown",
      "source": [
        "## Dataset Sintético"
      ],
      "metadata": {
        "id": "wixUbKk2lIEt"
      }
    },
    {
      "cell_type": "code",
      "source": [
        "ejecutar_qubo('Dataset_Acciones_Mediano.csv')"
      ],
      "metadata": {
        "colab": {
          "base_uri": "https://localhost:8080/"
        },
        "id": "uGFmuagalNe6",
        "outputId": "202e3456-b33f-400d-99c3-01e6e1d1936e"
      },
      "execution_count": 74,
      "outputs": [
        {
          "output_type": "stream",
          "name": "stdout",
          "text": [
            "Attention: Downscaling!\n",
            "\n",
            "********************************************************************************\n",
            "Scaling qubo, temperature_start, temperature_end and offset_increase_rate\n",
            "  factor:                            0.00512\n",
            "********************************************************************************\n",
            "\n",
            "\n",
            "********************************************************************************\n",
            "Effective values (including scaling factor)\n",
            "  temperature_start:                1933.000\n",
            "  temperature_end:                   100.500\n",
            "  offset_increase_rate:              344.600\n",
            "  duration:                            0.004 sec\n",
            "********************************************************************************\n",
            "\n",
            "Valor QUBO: 0\n",
            "[0, 0, 0, 0, 0, 0, 0, 0, 0, 0, 0, 0, 0, 1, 0, 1, 1, 1, 1, 0, 0, 1, 1, 1, 1]\n",
            "\n",
            "Portfolio elegido:\n",
            "[('Empresa E', 20), ('Empresa F', 70), ('Empresa G', 10)]\n",
            "\n",
            "Tiempo de ejecución: 0.72 segundos\n"
          ]
        }
      ]
    },
    {
      "cell_type": "markdown",
      "source": [
        "### Métricas"
      ],
      "metadata": {
        "id": "bdyPAnMBl3G4"
      }
    },
    {
      "cell_type": "code",
      "source": [
        "# Cálculo de las métricas del portfolio\n",
        "def metricas_portfolio(weights, retornos_esperados, cov_matrix, tasa_libre_riesgo=0.01, retorno_benchmark=0.05):\n",
        "    retorno_portfolio = np.dot(weights, retornos_esperados)\n",
        "    varianza_portfolio = np.dot(weights.T, np.dot(cov_matrix, weights))\n",
        "    std_portfolio = np.sqrt(varianza_portfolio) # Desviación estándar\n",
        "\n",
        "    # Cálculo ratio de Sharpe\n",
        "    sharpe_ratio = (retorno_portfolio - tasa_libre_riesgo) / std_portfolio\n",
        "\n",
        "    # Cálculo ratio de Sortino\n",
        "    #retornos_negativos = retornos_esperados[retornos_esperados < 0]\n",
        "    downside_risks = retornos_esperados.copy()  # Creamos una copia para modificarla\n",
        "    downside_risks[downside_risks > 0] = 0  # Establecemos los retornos positivos a cero\n",
        "    downside_deviation = np.sqrt(np.dot(weights.T, np.dot(np.diag(downside_risks**2), weights)))\n",
        "    sortino_ratio = (retorno_portfolio - tasa_libre_riesgo) / downside_deviation if downside_deviation != 0 else 0\n",
        "\n",
        "    # Cálculo ratio de información\n",
        "    exceso_retorno = retorno_portfolio - retorno_benchmark\n",
        "    std_exceso = std_portfolio\n",
        "    information_ratio = exceso_retorno / std_exceso\n",
        "\n",
        "    # Cálculo máxima caída\n",
        "    max_drawdown = -np.min(np.cumsum(retornos_esperados) - np.maximum.accumulate(np.cumsum(retornos_esperados))) / np.maximum.accumulate(np.cumsum(retornos_esperados))\n",
        "\n",
        "    # Calcular la diversificación\n",
        "    num_activos_invertidos = np.sum(weights > 0)\n",
        "    diversificacion = num_activos_invertidos / len(asset_names)\n",
        "\n",
        "    return retorno_portfolio, varianza_portfolio, sharpe_ratio, sortino_ratio, information_ratio, max_drawdown, diversificacion, num_activos_invertidos\n",
        "\n",
        "# Función de reporte de las métricas\n",
        "def report_metricas(constraint_penalty, solution, asset_names, retorno_min_esperado, unidad_inversion, n_bits, retorno_portfolio, varianza_portfolio, sharpe_ratio, sortino_ratio, information_ratio, max_drawdown, diversificacion, num_activos_invertidos):\n",
        "    print(\"Penalización por restricciones:\", constraint_penalty)\n",
        "    print(\"\\nSolución del portfolio:\")\n",
        "    for i, name in enumerate(asset_names):\n",
        "        cantidad = sum(solution['x'][i, k] * (2**k) for k in range(n_bits))  # Corrección aquí\n",
        "        print(f\" - {name}: {cantidad * unidad_inversion} unidades\")  # Muestra unidades correctamente\n",
        "    print(\"\\nRetorno del Portfolio:\", retorno_portfolio)\n",
        "    print(\"\\nVarianza del Portfolio:\", varianza_portfolio)\n",
        "    print(\"\\nRatio de Sharpe:\", sharpe_ratio)\n",
        "    print(\"\\nRatio de Sortino:\", sortino_ratio)\n",
        "    print(\"\\nRatio de Información:\", information_ratio)\n",
        "    print(\"\\nMáxima Caída:\", max_drawdown)\n",
        "    print(f\"\\nDiversificación del Portfolio: {diversificacion:.2f} (activos seleccionados: {num_activos_invertidos} de {len(asset_names)})\")\n",
        "\n",
        "weights = np.array([np.sum([(2**k) * solution['x'][i, k] for k in range(n_bits)]) for i in range(len(asset_names))], dtype=float)\n",
        "weights /= np.sum(weights)\n",
        "\n",
        "retorno_portfolio, varianza_portfolio, sharpe_ratio, sortino_ratio, information_ratio, max_drawdown, diversificacion, num_activos_invertidos = metricas_portfolio(weights, retornos_esperados, cov_matrix)\n",
        "\n",
        "report_metricas(constraint_penalty, solution, asset_names, 0.02, 10, n_bits, retorno_portfolio, varianza_portfolio, sharpe_ratio, sortino_ratio, information_ratio, max_drawdown, diversificacion, num_activos_invertidos)\n"
      ],
      "metadata": {
        "colab": {
          "base_uri": "https://localhost:8080/"
        },
        "id": "C2Pdqdr7pk7n",
        "outputId": "383e9376-039d-4d39-fb46-37fc1615aafd"
      },
      "execution_count": 76,
      "outputs": [
        {
          "output_type": "stream",
          "name": "stdout",
          "text": [
            "Penalización por restricciones: 0\n",
            "\n",
            "Solución del portfolio:\n",
            " - Empresa A: 0 unidades\n",
            " - Empresa B: 0 unidades\n",
            " - Empresa C: 0 unidades\n",
            " - Empresa D: 0 unidades\n",
            " - Empresa E: 20 unidades\n",
            " - Empresa F: 70 unidades\n",
            " - Empresa G: 10 unidades\n",
            "\n",
            "Retorno del Portfolio: 0.09466420820500103\n",
            "\n",
            "Varianza del Portfolio: 0.5663252648377641\n",
            "\n",
            "Ratio de Sharpe: 0.11250371996698597\n",
            "\n",
            "Ratio de Sortino: 1.1435622242131682\n",
            "\n",
            "Ratio de Información: 0.05935081280481138\n",
            "\n",
            "Máxima Caída: [0.02132409 0.01464865 0.00816856 0.00677353 0.00654943 0.00654943\n",
            " 0.00634791]\n",
            "\n",
            "Diversificación del Portfolio: 0.43 (activos seleccionados: 3 de 7)\n"
          ]
        }
      ]
    },
    {
      "cell_type": "markdown",
      "source": [
        "### Ejecución en D-Wave"
      ],
      "metadata": {
        "id": "lxak4CpKl4uh"
      }
    },
    {
      "cell_type": "code",
      "source": [
        "# experimental:start\n",
        "def as_bqm(self) -> 'dimod.BinaryQuadraticModel':\n",
        "    \"\"\"\n",
        "    The polynomial is returned as a :class:`dimod.BinaryQuadraticModel` object.\n",
        "\n",
        "    :return: qubo as dimod.BinaryQuadraticModel object\n",
        "    :rtype: dimod.BinaryQuadraticModel\n",
        "    \"\"\"\n",
        "\n",
        "    try:\n",
        "        import dimod\n",
        "    except Exception as oops:\n",
        "        print('\\n\\n' + (100 * '#'))\n",
        "        print('pip install dwave-ocean-sdk')\n",
        "        print((100 * '#') + '\\n\\n')\n",
        "        raise oops\n",
        "\n",
        "    return dimod.BinaryQuadraticModel(\n",
        "        {i0: self._p1[i0] for i0 in self._p1},\n",
        "        {(i0, i1): self._p2[i0][i1] for i0 in self._p2 for i1 in self._p2[i0]},\n",
        "        self._p0,\n",
        "        dimod.BINARY)\n"
      ],
      "metadata": {
        "id": "DnHg2hxZnatG"
      },
      "execution_count": 77,
      "outputs": []
    },
    {
      "cell_type": "code",
      "source": [
        "bqm_problem=QUBO.as_bqm()"
      ],
      "metadata": {
        "id": "Q34yFp5AngRJ"
      },
      "execution_count": 78,
      "outputs": []
    },
    {
      "cell_type": "code",
      "source": [
        "os.environ['DWAVE_API_TOKEN']='DEV-8118e94d4ee0db7e32f9198eb7e865c8a30acfa5'"
      ],
      "metadata": {
        "id": "KFF8Udi5nkKU"
      },
      "execution_count": 79,
      "outputs": []
    },
    {
      "cell_type": "markdown",
      "source": [
        "#### Solver Híbrido"
      ],
      "metadata": {
        "id": "IpsUGTtgnz61"
      }
    },
    {
      "cell_type": "code",
      "source": [
        "# Configuración del sampler de D-Wave\n",
        "import os\n",
        "from dwave.system import LeapHybridSampler\n",
        "\n",
        "# Mide el tiempo de muestreo\n",
        "sample_time = time.time()\n",
        "\n",
        "sampler = LeapHybridSampler()\n",
        "\n",
        "# Muestreo del problema BQM\n",
        "answer = sampler.sample(bqm_problem)\n",
        "\n",
        "# Calcula el tiempo de muestreo\n",
        "sample_time = time.time() - sample_time\n",
        "\n",
        "# Análisis de la solución\n",
        "for datum in answer.data(['sample', 'energy']):\n",
        "    print(\"Configuración de solución: \", datum.sample)\n",
        "    print(\"Energía: \", datum.energy)\n",
        "\n",
        "print(\"Tiempo de muestreo:\", sample_time)"
      ],
      "metadata": {
        "colab": {
          "base_uri": "https://localhost:8080/"
        },
        "id": "m1s2i7q3n5Fv",
        "outputId": "c1ba5fe4-947d-4ec8-ddf3-097003a66a29"
      },
      "execution_count": 81,
      "outputs": [
        {
          "output_type": "stream",
          "name": "stdout",
          "text": [
            "Configuración de solución:  {0: 0, 1: 0, 2: 0, 3: 0, 4: 0, 5: 0, 6: 0, 7: 0, 8: 0, 9: 0, 10: 0, 11: 0, 12: 0, 13: 0, 14: 0, 15: 0, 16: 0, 17: 0, 18: 0, 19: 0, 20: 0, 21: 1, 22: 1, 23: 0, 24: 1, 25: 1, 26: 1, 27: 0, 28: 0, 29: 0, 30: 1, 31: 1, 32: 1, 33: 1}\n",
            "Energía:  -13059.2715970336\n",
            "Tiempo de muestreo: 7.003152132034302\n"
          ]
        }
      ]
    },
    {
      "cell_type": "markdown",
      "source": [
        "#### Solver Cuántico"
      ],
      "metadata": {
        "id": "kOMnq1VHca4p"
      }
    },
    {
      "cell_type": "code",
      "source": [
        "from dwave.system.composites import EmbeddingComposite\n",
        "from dwave.system.samplers import DWaveSampler\n",
        "\n",
        "# Mide el tiempo de muestreo\n",
        "sample_time = time.time()\n",
        "\n",
        "# Configuración del sampler de D-Wave QPU\n",
        "sampler = EmbeddingComposite(DWaveSampler())\n",
        "\n",
        "# Número de lecturas\n",
        "num_reads = 2000\n",
        "\n",
        "# Muestreo del problema BQM\n",
        "sampleset = sampler.sample(bqm_problem, num_reads=num_reads, label='Purely Quantum Exec')\n",
        "\n",
        "# Calcula el tiempo de muestreo\n",
        "sample_time = time.time() - sample_time\n",
        "\n",
        "# Análisis de la solución\n",
        "for datum in sampleset.lowest().data(['sample', 'energy']):\n",
        "    print(\"Configuración de solución: \", datum.sample)\n",
        "    print(\"Energía: \", datum.energy)\n",
        "\n",
        "print(\"Tiempo de muestreo:\", sample_time)"
      ],
      "metadata": {
        "colab": {
          "base_uri": "https://localhost:8080/"
        },
        "id": "MIpQ8mGOceD2",
        "outputId": "19e5a7a3-9bbc-48b9-c652-4f1aa799a656"
      },
      "execution_count": 82,
      "outputs": [
        {
          "output_type": "stream",
          "name": "stdout",
          "text": [
            "Configuración de solución:  {0: 1, 1: 1, 2: 0, 3: 1, 4: 0, 5: 1, 6: 0, 7: 0, 8: 0, 9: 1, 10: 0, 11: 0, 12: 0, 13: 1, 14: 0, 15: 0, 16: 0, 17: 0, 18: 0, 19: 0, 20: 0, 21: 0, 22: 0, 23: 0, 24: 0, 25: 0, 26: 0, 27: 0, 28: 0, 29: 0, 30: 1, 31: 1, 32: 1, 33: 1}\n",
            "Energía:  91454.43180472392\n",
            "Tiempo de muestreo: 7.469683647155762\n"
          ]
        }
      ]
    },
    {
      "cell_type": "markdown",
      "source": [
        "## Dataset Real"
      ],
      "metadata": {
        "id": "4YJEDF84lOJF"
      }
    },
    {
      "cell_type": "code",
      "source": [
        "ejecutar_qubo('Dataset_Acciones_Empresas.csv')"
      ],
      "metadata": {
        "colab": {
          "base_uri": "https://localhost:8080/"
        },
        "id": "jEpshSBCZDoK",
        "outputId": "65789596-8064-4a86-be51-eb9479cbf06c"
      },
      "execution_count": 83,
      "outputs": [
        {
          "output_type": "stream",
          "name": "stdout",
          "text": [
            "Attention: Downscaling!\n",
            "\n",
            "********************************************************************************\n",
            "Scaling qubo, temperature_start, temperature_end and offset_increase_rate\n",
            "  factor:                            0.00512\n",
            "********************************************************************************\n",
            "\n",
            "\n",
            "********************************************************************************\n",
            "Effective values (including scaling factor)\n",
            "  temperature_start:                1530.000\n",
            "  temperature_end:                    98.870\n",
            "  offset_increase_rate:              316.100\n",
            "  duration:                            0.002 sec\n",
            "********************************************************************************\n",
            "\n",
            "Valor QUBO: 0\n",
            "[1, 0, 0, 1, 1, 0, 1, 0, 0, 0, 0, 0, 0, 0, 0, 0, 1, 0, 0, 0, 0, 0, 0, 0, 1, 1, 0, 0, 0, 0, 1, 1, 1, 1]\n",
            "\n",
            "Portfolio elegido:\n",
            "[('Empresa A', 10), ('Empresa B', 30), ('Empresa C', 10), ('Empresa F', 20), ('Empresa I', 30)]\n",
            "\n",
            "Tiempo de ejecución: 0.60 segundos\n"
          ]
        }
      ]
    },
    {
      "cell_type": "markdown",
      "source": [
        "### Métricas"
      ],
      "metadata": {
        "id": "-YMbe4UUl7I1"
      }
    },
    {
      "cell_type": "code",
      "source": [
        "# Calculations for the portfolio metrics\n",
        "def metricas_portfolio(weights, retornos_esperados, cov_matrix, tasa_libre_riesgo=0.01, retorno_benchmark=0.05):\n",
        "    # Asegurar que 'weights' y 'retornos_esperados' tienen la misma longitud\n",
        "    n_activos = min(len(weights), len(retornos_esperados))\n",
        "    weights = weights[:n_activos]\n",
        "    retornos_esperados = retornos_esperados[:n_activos]\n",
        "    cov_matrix = cov_matrix[:n_activos, :n_activos] # Ajustar cov_matrix también\n",
        "\n",
        "    retorno_portfolio = np.dot(weights, retornos_esperados) * (-1)\n",
        "    varianza_portfolio = np.dot(weights.T, np.dot(cov_matrix, weights))\n",
        "    std_portfolio = np.sqrt(varianza_portfolio) # Desviación estándar\n",
        "\n",
        "    # Cálculo ratio de Sharpe\n",
        "    sharpe_ratio = (retorno_portfolio - tasa_libre_riesgo) / std_portfolio\n",
        "\n",
        "    # Cálculo ratio de Sortino\n",
        "    #retornos_negativos = retornos_esperados[retornos_esperados < 0]\n",
        "    downside_risks = retornos_esperados.copy()  # Creamos una copia para modificarla\n",
        "    downside_risks[downside_risks > 0] = 0  # Establecemos los retornos positivos a cero\n",
        "    downside_deviation = np.sqrt(np.dot(weights.T, np.dot(np.diag(downside_risks**2), weights)))\n",
        "    sortino_ratio = (retorno_portfolio - tasa_libre_riesgo) / downside_deviation if downside_deviation != 0 else 0\n",
        "\n",
        "    # Cálculo ratio de información\n",
        "    exceso_retorno = retorno_portfolio - retorno_benchmark\n",
        "    std_exceso = std_portfolio\n",
        "    information_ratio = exceso_retorno / std_exceso\n",
        "\n",
        "    # Cálculo máxima caída\n",
        "    max_drawdown = -np.min(np.cumsum(retornos_esperados) - np.maximum.accumulate(np.cumsum(retornos_esperados))) / np.maximum.accumulate(np.cumsum(retornos_esperados))\n",
        "\n",
        "    return retorno_portfolio, varianza_portfolio, sharpe_ratio, sortino_ratio, information_ratio, max_drawdown\n",
        "\n",
        "# Función para reportar las métricas del portafolio ajustada para mostrar correctamente las unidades de cada empresa\n",
        "def report_metricas(constraint_penalty, solution, asset_names, retorno_min_esperado, unidad_inversion, n_bits, retorno_portfolio, varianza_portfolio, sharpe_ratio, sortino_ratio, information_ratio, max_drawdown):\n",
        "    print(\"Penalización por restricciones:\", constraint_penalty)\n",
        "    print(\"\\nSolución del portfolio:\")\n",
        "    for i, name in enumerate(asset_names):\n",
        "        cantidad = sum(solution['x'][i, k] * (2**k) for k in range(n_bits))  # Corrección aquí\n",
        "        print(f\" - {name}: {cantidad * unidad_inversion} unidades\")  # Muestra unidades correctamente\n",
        "    print(\"\\nRetorno del Portfolio:\", retorno_portfolio)\n",
        "    print(\"\\nVarianza del Portfolio:\", varianza_portfolio)\n",
        "    print(\"\\nRatio de Sharpe:\", sharpe_ratio)\n",
        "    print(\"\\nRatio de Sortino:\", sortino_ratio)\n",
        "    print(\"\\nRatio de Información:\", information_ratio)\n",
        "    print(\"\\nMáxima Caída:\", max_drawdown)\n",
        "\n",
        "\n",
        "n_activos = solution['x'].shape[0]  # Número real de activos según los datos en 'solution['x']'\n",
        "n_bits = solution['x'].shape[1]\n",
        "\n",
        "# Reducir 'asset_names' a los nombres correspondientes a los activos en 'solution['x']'\n",
        "asset_names = asset_names[:n_activos]  # Asume que los primeros n_activos nombres son los correctos\n",
        "\n",
        "# Código para calcular los pesos y reportar métricas se mantiene igual\n",
        "weights = np.array([np.sum([(2**k) * solution['x'][i, k] for k in range(n_bits)]) for i in range(n_activos)], dtype=float)\n",
        "weights /= np.sum(weights)  # Normalizar los pesos para que sumen 1\n",
        "\n",
        "retorno_portfolio, varianza_portfolio, sharpe_ratio, sortino_ratio, information_ratio, max_drawdown = metricas_portfolio(weights, retornos_esperados, cov_matrix)\n",
        "\n",
        "report_metricas(constraint_penalty, solution, asset_names, 0.02, 10, n_bits, retorno_portfolio, varianza_portfolio, sharpe_ratio, sortino_ratio, information_ratio, max_drawdown)"
      ],
      "metadata": {
        "colab": {
          "base_uri": "https://localhost:8080/"
        },
        "id": "X3VG710v1zAv",
        "outputId": "2f33c8d5-709c-4985-8b25-6b428f03ff04"
      },
      "execution_count": 84,
      "outputs": [
        {
          "output_type": "stream",
          "name": "stdout",
          "text": [
            "Penalización por restricciones: 0\n",
            "\n",
            "Solución del portfolio:\n",
            " - Empresa A: 10 unidades\n",
            " - Empresa B: 30 unidades\n",
            " - Empresa C: 10 unidades\n",
            " - Empresa D: 0 unidades\n",
            " - Empresa E: 0 unidades\n",
            " - Empresa F: 20 unidades\n",
            " - Empresa G: 0 unidades\n",
            " - Empresa H: 0 unidades\n",
            " - Empresa I: 30 unidades\n",
            " - Empresa J: 0 unidades\n",
            "\n",
            "Retorno del Portfolio: 0.020501570696119843\n",
            "\n",
            "Varianza del Portfolio: 8.556959148339259e-05\n",
            "\n",
            "Ratio de Sharpe: 1.1352578955880703\n",
            "\n",
            "Ratio de Sortino: 1.0182488417660194\n",
            "\n",
            "Ratio de Información: -3.1888872382728275\n",
            "\n",
            "Máxima Caída: [-3.4084842  -3.4084842  -3.4084842  -3.4084842  -3.69206304 -3.69206304\n",
            " -3.69206304  9.84194931  9.84194931  1.16586814]\n"
          ]
        }
      ]
    },
    {
      "cell_type": "markdown",
      "source": [
        "### Ejecución en D-Wave"
      ],
      "metadata": {
        "id": "ITNGXA3Kl8xq"
      }
    },
    {
      "cell_type": "code",
      "source": [
        "# experimental:start\n",
        "def as_bqm(self) -> 'dimod.BinaryQuadraticModel':\n",
        "    \"\"\"\n",
        "    The polynomial is returned as a :class:`dimod.BinaryQuadraticModel` object.\n",
        "\n",
        "    :return: qubo as dimod.BinaryQuadraticModel object\n",
        "    :rtype: dimod.BinaryQuadraticModel\n",
        "    \"\"\"\n",
        "\n",
        "    try:\n",
        "        import dimod\n",
        "    except Exception as oops:\n",
        "        print('\\n\\n' + (100 * '#'))\n",
        "        print('pip install dwave-ocean-sdk')\n",
        "        print((100 * '#') + '\\n\\n')\n",
        "        raise oops\n",
        "\n",
        "    return dimod.BinaryQuadraticModel(\n",
        "        {i0: self._p1[i0] for i0 in self._p1},\n",
        "        {(i0, i1): self._p2[i0][i1] for i0 in self._p2 for i1 in self._p2[i0]},\n",
        "        self._p0,\n",
        "        dimod.BINARY)\n"
      ],
      "metadata": {
        "id": "u1DSWs6Vndkz"
      },
      "execution_count": 85,
      "outputs": []
    },
    {
      "cell_type": "code",
      "source": [
        "bqm_problem=QUBO.as_bqm()"
      ],
      "metadata": {
        "id": "ajmDHx1dnhJ2"
      },
      "execution_count": 86,
      "outputs": []
    },
    {
      "cell_type": "markdown",
      "source": [
        "#### Solver Híbrido"
      ],
      "metadata": {
        "id": "JEEQ5JijdlJ4"
      }
    },
    {
      "cell_type": "code",
      "source": [
        "# Mide el tiempo de muestreo\n",
        "sample_time = time.time()\n",
        "\n",
        "sampler = LeapHybridSampler()\n",
        "\n",
        "# Muestreo del problema BQM\n",
        "answer = sampler.sample(bqm_problem)\n",
        "\n",
        "# Calcula el tiempo de muestreo\n",
        "sample_time = time.time() - sample_time\n",
        "\n",
        "# Análisis de la solución\n",
        "for datum in answer.data(['sample', 'energy']):\n",
        "    print(\"Configuración de solución: \", datum.sample)\n",
        "    print(\"Energía: \", datum.energy)\n",
        "\n",
        "print(\"Tiempo de muestreo:\", sample_time)"
      ],
      "metadata": {
        "colab": {
          "base_uri": "https://localhost:8080/"
        },
        "id": "3P77xc2zdnIg",
        "outputId": "166e7600-a8f3-44bd-c009-c135210621c6"
      },
      "execution_count": 87,
      "outputs": [
        {
          "output_type": "stream",
          "name": "stdout",
          "text": [
            "Configuración de solución:  {0: 0, 1: 0, 2: 0, 3: 0, 4: 0, 5: 0, 6: 0, 7: 0, 8: 0, 9: 0, 10: 0, 11: 0, 12: 0, 13: 0, 14: 0, 15: 0, 16: 0, 17: 0, 18: 0, 19: 0, 20: 0, 21: 1, 22: 1, 23: 0, 24: 1, 25: 1, 26: 1, 27: 0, 28: 0, 29: 0, 30: 1, 31: 1, 32: 1, 33: 1}\n",
            "Energía:  -13059.2715970336\n",
            "Tiempo de muestreo: 7.820231914520264\n"
          ]
        }
      ]
    },
    {
      "cell_type": "markdown",
      "source": [
        "#### Solver Cuántico"
      ],
      "metadata": {
        "id": "PIYoECg-djC0"
      }
    },
    {
      "cell_type": "code",
      "source": [
        "# Mide el tiempo de muestreo\n",
        "sample_time = time.time()\n",
        "\n",
        "# Configuración del sampler de D-Wave QPU\n",
        "sampler = EmbeddingComposite(DWaveSampler())\n",
        "\n",
        "# Número de lecturas\n",
        "num_reads = 2000\n",
        "\n",
        "# Muestreo del problema BQM\n",
        "sampleset = sampler.sample(bqm_problem, num_reads=num_reads, label='Purely Quantum Exec')\n",
        "\n",
        "# Calcula el tiempo de muestreo\n",
        "sample_time = time.time() - sample_time\n",
        "\n",
        "# Análisis de la solución\n",
        "for datum in sampleset.lowest().data(['sample', 'energy']):\n",
        "    print(\"Configuración de solución: \", datum.sample)\n",
        "    print(\"Energía: \", datum.energy)\n",
        "\n",
        "print(\"Tiempo de muestreo:\", sample_time)"
      ],
      "metadata": {
        "colab": {
          "base_uri": "https://localhost:8080/"
        },
        "id": "o_PdovjtdiNP",
        "outputId": "f82cc7ba-b153-4955-eadc-4073a2c56467"
      },
      "execution_count": 88,
      "outputs": [
        {
          "output_type": "stream",
          "name": "stdout",
          "text": [
            "Configuración de solución:  {0: 0, 1: 0, 2: 0, 3: 1, 4: 1, 5: 0, 6: 1, 7: 0, 8: 0, 9: 0, 10: 0, 11: 0, 12: 0, 13: 0, 14: 0, 15: 1, 16: 0, 17: 1, 18: 0, 19: 0, 20: 0, 21: 1, 22: 0, 23: 0, 24: 0, 25: 0, 26: 0, 27: 0, 28: 0, 29: 0, 30: 1, 31: 1, 32: 1, 33: 1}\n",
            "Energía:  -9334.76098974375\n",
            "Tiempo de muestreo: 8.507609844207764\n"
          ]
        }
      ]
    }
  ]
}