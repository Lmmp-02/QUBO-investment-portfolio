{
  "nbformat": 4,
  "nbformat_minor": 0,
  "metadata": {
    "colab": {
      "provenance": [],
      "gpuType": "T4"
    },
    "kernelspec": {
      "name": "python3",
      "display_name": "Python 3"
    },
    "language_info": {
      "name": "python"
    },
    "accelerator": "GPU"
  },
  "cells": [
    {
      "cell_type": "markdown",
      "source": [
        "# Implementación del Problema de Optimización de Carteras con Computador Cuántico Adiabático\n",
        "\n",
        "Este cuaderno describe la implementación de un problema de optimización de carteras de inversiones utilizando un computador cuántico adiabático. El enfoque adoptado es el del \"Minimum Volatility Portfolio\", utilizando variables binarias para la selección de activos. El objetivo principal es minimizar el riesgo total de la cartera, modelado por la fórmula:\n",
        "\n",
        "$$\\min \\sum_{i,j} x_i \\cdot w_{ij} \\cdot x_j$$\n",
        "\n",
        "donde $x_i$ representa la inclusión (1) o no (0) del activo $i$ en la cartera, y $w_{ij}$ es el término de covarianza entre los activos $i$ y $j$.\n",
        "\n",
        "Además, se establece una restricción sobre el retorno esperado de la cartera, asegurando que sea al menos igual a un umbral predefinido. Esto se modela con una variable slack y se expresa como:\n",
        "\n",
        "$$R \\leq \\sum_{i} x_i \\cdot r_i$$\n",
        "\n",
        "donde $r_i$ es el retorno esperado del activo $i$.\n",
        "\n",
        "Finalmente, como condición adicional, se determina que solo se quiere invertir en la mitad de las empresas disponibles. Esto se traduce en la restricción:\n",
        "\n",
        "$$\\sum_{i} x_i = \\frac{N}{2}$$\n",
        "\n",
        "donde $N$ es el número total de activos disponibles.\n",
        "\n"
      ],
      "metadata": {
        "id": "BQICE2tvsb64"
      }
    },
    {
      "cell_type": "code",
      "source": [
        "!pip install -r \"requirements_unix.txt\""
      ],
      "metadata": {
        "id": "-T6hjtCtsWWK",
        "colab": {
          "base_uri": "https://localhost:8080/"
        },
        "outputId": "d088febe-57c9-4d8f-d078-c48aa6c4d177"
      },
      "execution_count": 1,
      "outputs": [
        {
          "output_type": "stream",
          "name": "stdout",
          "text": [
            "Processing ./dadk_light_3.10.tar.bz2\n",
            "  Preparing metadata (setup.py) ... \u001b[?25l\u001b[?25hdone\n",
            "Requirement already satisfied: matplotlib==3.8.2 in /usr/local/lib/python3.10/dist-packages (from -r requirements_unix.txt (line 3)) (3.8.2)\n",
            "Requirement already satisfied: networkx==3.2.1 in /usr/local/lib/python3.10/dist-packages (from -r requirements_unix.txt (line 4)) (3.2.1)\n",
            "Requirement already satisfied: openpyxl==3.1.2 in /usr/local/lib/python3.10/dist-packages (from -r requirements_unix.txt (line 5)) (3.1.2)\n",
            "Requirement already satisfied: pandas==2.1.4 in /usr/local/lib/python3.10/dist-packages (from -r requirements_unix.txt (line 6)) (2.1.4)\n",
            "Requirement already satisfied: plotly==5.18.0 in /usr/local/lib/python3.10/dist-packages (from -r requirements_unix.txt (line 7)) (5.18.0)\n",
            "Requirement already satisfied: scikit-learn==1.3.2 in /usr/local/lib/python3.10/dist-packages (from -r requirements_unix.txt (line 8)) (1.3.2)\n",
            "Requirement already satisfied: scipy==1.11.4 in /usr/local/lib/python3.10/dist-packages (from -r requirements_unix.txt (line 9)) (1.11.4)\n",
            "Requirement already satisfied: seaborn==0.13.0 in /usr/local/lib/python3.10/dist-packages (from -r requirements_unix.txt (line 10)) (0.13.0)\n",
            "Requirement already satisfied: contourpy>=1.0.1 in /usr/local/lib/python3.10/dist-packages (from matplotlib==3.8.2->-r requirements_unix.txt (line 3)) (1.2.1)\n",
            "Requirement already satisfied: cycler>=0.10 in /usr/local/lib/python3.10/dist-packages (from matplotlib==3.8.2->-r requirements_unix.txt (line 3)) (0.12.1)\n",
            "Requirement already satisfied: fonttools>=4.22.0 in /usr/local/lib/python3.10/dist-packages (from matplotlib==3.8.2->-r requirements_unix.txt (line 3)) (4.53.0)\n",
            "Requirement already satisfied: kiwisolver>=1.3.1 in /usr/local/lib/python3.10/dist-packages (from matplotlib==3.8.2->-r requirements_unix.txt (line 3)) (1.4.5)\n",
            "Requirement already satisfied: numpy<2,>=1.21 in /usr/local/lib/python3.10/dist-packages (from matplotlib==3.8.2->-r requirements_unix.txt (line 3)) (1.25.2)\n",
            "Requirement already satisfied: packaging>=20.0 in /usr/local/lib/python3.10/dist-packages (from matplotlib==3.8.2->-r requirements_unix.txt (line 3)) (24.1)\n",
            "Requirement already satisfied: pillow>=8 in /usr/local/lib/python3.10/dist-packages (from matplotlib==3.8.2->-r requirements_unix.txt (line 3)) (9.4.0)\n",
            "Requirement already satisfied: pyparsing>=2.3.1 in /usr/local/lib/python3.10/dist-packages (from matplotlib==3.8.2->-r requirements_unix.txt (line 3)) (3.1.2)\n",
            "Requirement already satisfied: python-dateutil>=2.7 in /usr/local/lib/python3.10/dist-packages (from matplotlib==3.8.2->-r requirements_unix.txt (line 3)) (2.8.2)\n",
            "Requirement already satisfied: et-xmlfile in /usr/local/lib/python3.10/dist-packages (from openpyxl==3.1.2->-r requirements_unix.txt (line 5)) (1.1.0)\n",
            "Requirement already satisfied: pytz>=2020.1 in /usr/local/lib/python3.10/dist-packages (from pandas==2.1.4->-r requirements_unix.txt (line 6)) (2023.4)\n",
            "Requirement already satisfied: tzdata>=2022.1 in /usr/local/lib/python3.10/dist-packages (from pandas==2.1.4->-r requirements_unix.txt (line 6)) (2024.1)\n",
            "Requirement already satisfied: tenacity>=6.2.0 in /usr/local/lib/python3.10/dist-packages (from plotly==5.18.0->-r requirements_unix.txt (line 7)) (8.4.1)\n",
            "Requirement already satisfied: joblib>=1.1.1 in /usr/local/lib/python3.10/dist-packages (from scikit-learn==1.3.2->-r requirements_unix.txt (line 8)) (1.4.2)\n",
            "Requirement already satisfied: threadpoolctl>=2.0.0 in /usr/local/lib/python3.10/dist-packages (from scikit-learn==1.3.2->-r requirements_unix.txt (line 8)) (3.5.0)\n",
            "Requirement already satisfied: MarkupSafe in /usr/local/lib/python3.10/dist-packages (from dadk==2023.12.10->-r requirements_unix.txt (line 11)) (2.1.5)\n",
            "Requirement already satisfied: XlsxWriter in /usr/local/lib/python3.10/dist-packages (from dadk==2023.12.10->-r requirements_unix.txt (line 11)) (3.2.0)\n",
            "Requirement already satisfied: auth0-python in /usr/local/lib/python3.10/dist-packages (from dadk==2023.12.10->-r requirements_unix.txt (line 11)) (4.7.1)\n",
            "Requirement already satisfied: azure-storage-blob in /usr/local/lib/python3.10/dist-packages (from dadk==2023.12.10->-r requirements_unix.txt (line 11)) (12.20.0)\n",
            "Requirement already satisfied: bqplot in /usr/local/lib/python3.10/dist-packages (from dadk==2023.12.10->-r requirements_unix.txt (line 11)) (0.12.43)\n",
            "Requirement already satisfied: colorama in /usr/local/lib/python3.10/dist-packages (from dadk==2023.12.10->-r requirements_unix.txt (line 11)) (0.4.6)\n",
            "Requirement already satisfied: future in /usr/local/lib/python3.10/dist-packages (from dadk==2023.12.10->-r requirements_unix.txt (line 11)) (0.18.3)\n",
            "Requirement already satisfied: h5py in /usr/local/lib/python3.10/dist-packages (from dadk==2023.12.10->-r requirements_unix.txt (line 11)) (3.9.0)\n",
            "Requirement already satisfied: htmlentities in /usr/local/lib/python3.10/dist-packages (from dadk==2023.12.10->-r requirements_unix.txt (line 11)) (0.3.0)\n",
            "Requirement already satisfied: imageio in /usr/local/lib/python3.10/dist-packages (from dadk==2023.12.10->-r requirements_unix.txt (line 11)) (2.31.6)\n",
            "Requirement already satisfied: ipyevents in /usr/local/lib/python3.10/dist-packages (from dadk==2023.12.10->-r requirements_unix.txt (line 11)) (2.0.2)\n",
            "Requirement already satisfied: ipympl in /usr/local/lib/python3.10/dist-packages (from dadk==2023.12.10->-r requirements_unix.txt (line 11)) (0.9.4)\n",
            "Requirement already satisfied: ipytree in /usr/local/lib/python3.10/dist-packages (from dadk==2023.12.10->-r requirements_unix.txt (line 11)) (0.2.2)\n",
            "Requirement already satisfied: ipywidgets in /usr/local/lib/python3.10/dist-packages (from dadk==2023.12.10->-r requirements_unix.txt (line 11)) (7.7.1)\n",
            "Requirement already satisfied: JSON_minify in /usr/local/lib/python3.10/dist-packages (from dadk==2023.12.10->-r requirements_unix.txt (line 11)) (0.3.0)\n",
            "Requirement already satisfied: k3d in /usr/local/lib/python3.10/dist-packages (from dadk==2023.12.10->-r requirements_unix.txt (line 11)) (2.16.1)\n",
            "Requirement already satisfied: keyboard in /usr/local/lib/python3.10/dist-packages (from dadk==2023.12.10->-r requirements_unix.txt (line 11)) (0.13.5)\n",
            "Requirement already satisfied: lark-parser in /usr/local/lib/python3.10/dist-packages (from dadk==2023.12.10->-r requirements_unix.txt (line 11)) (0.12.0)\n",
            "Requirement already satisfied: multiprocess in /usr/local/lib/python3.10/dist-packages (from dadk==2023.12.10->-r requirements_unix.txt (line 11)) (0.70.16)\n",
            "Requirement already satisfied: numba in /usr/local/lib/python3.10/dist-packages (from dadk==2023.12.10->-r requirements_unix.txt (line 11)) (0.58.1)\n",
            "Requirement already satisfied: optuna in /usr/local/lib/python3.10/dist-packages (from dadk==2023.12.10->-r requirements_unix.txt (line 11)) (3.6.1)\n",
            "Requirement already satisfied: pyjwt in /usr/local/lib/python3.10/dist-packages (from dadk==2023.12.10->-r requirements_unix.txt (line 11)) (2.8.0)\n",
            "Requirement already satisfied: pyyaml in /usr/local/lib/python3.10/dist-packages (from dadk==2023.12.10->-r requirements_unix.txt (line 11)) (6.0.1)\n",
            "Requirement already satisfied: requests in /usr/local/lib/python3.10/dist-packages (from dadk==2023.12.10->-r requirements_unix.txt (line 11)) (2.31.0)\n",
            "Requirement already satisfied: tabulate in /usr/local/lib/python3.10/dist-packages (from dadk==2023.12.10->-r requirements_unix.txt (line 11)) (0.9.0)\n",
            "Requirement already satisfied: termcolor in /usr/local/lib/python3.10/dist-packages (from dadk==2023.12.10->-r requirements_unix.txt (line 11)) (2.4.0)\n",
            "Requirement already satisfied: six>=1.5 in /usr/local/lib/python3.10/dist-packages (from python-dateutil>=2.7->matplotlib==3.8.2->-r requirements_unix.txt (line 3)) (1.16.0)\n",
            "Requirement already satisfied: aiohttp<4.0.0,>=3.8.5 in /usr/local/lib/python3.10/dist-packages (from auth0-python->dadk==2023.12.10->-r requirements_unix.txt (line 11)) (3.9.5)\n",
            "Requirement already satisfied: cryptography<43.0.0,>=42.0.4 in /usr/local/lib/python3.10/dist-packages (from auth0-python->dadk==2023.12.10->-r requirements_unix.txt (line 11)) (42.0.8)\n",
            "Requirement already satisfied: urllib3<3.0.0,>=2.0.7 in /usr/local/lib/python3.10/dist-packages (from auth0-python->dadk==2023.12.10->-r requirements_unix.txt (line 11)) (2.0.7)\n",
            "Requirement already satisfied: charset-normalizer<4,>=2 in /usr/local/lib/python3.10/dist-packages (from requests->dadk==2023.12.10->-r requirements_unix.txt (line 11)) (3.3.2)\n",
            "Requirement already satisfied: idna<4,>=2.5 in /usr/local/lib/python3.10/dist-packages (from requests->dadk==2023.12.10->-r requirements_unix.txt (line 11)) (3.7)\n",
            "Requirement already satisfied: certifi>=2017.4.17 in /usr/local/lib/python3.10/dist-packages (from requests->dadk==2023.12.10->-r requirements_unix.txt (line 11)) (2024.6.2)\n",
            "Requirement already satisfied: azure-core>=1.28.0 in /usr/local/lib/python3.10/dist-packages (from azure-storage-blob->dadk==2023.12.10->-r requirements_unix.txt (line 11)) (1.30.2)\n",
            "Requirement already satisfied: typing-extensions>=4.6.0 in /usr/local/lib/python3.10/dist-packages (from azure-storage-blob->dadk==2023.12.10->-r requirements_unix.txt (line 11)) (4.12.2)\n",
            "Requirement already satisfied: isodate>=0.6.1 in /usr/local/lib/python3.10/dist-packages (from azure-storage-blob->dadk==2023.12.10->-r requirements_unix.txt (line 11)) (0.6.1)\n",
            "Requirement already satisfied: traitlets>=4.3.0 in /usr/local/lib/python3.10/dist-packages (from bqplot->dadk==2023.12.10->-r requirements_unix.txt (line 11)) (5.7.1)\n",
            "Requirement already satisfied: traittypes>=0.0.6 in /usr/local/lib/python3.10/dist-packages (from bqplot->dadk==2023.12.10->-r requirements_unix.txt (line 11)) (0.2.1)\n",
            "Requirement already satisfied: ipykernel>=4.5.1 in /usr/local/lib/python3.10/dist-packages (from ipywidgets->dadk==2023.12.10->-r requirements_unix.txt (line 11)) (5.5.6)\n",
            "Requirement already satisfied: ipython-genutils~=0.2.0 in /usr/local/lib/python3.10/dist-packages (from ipywidgets->dadk==2023.12.10->-r requirements_unix.txt (line 11)) (0.2.0)\n",
            "Requirement already satisfied: widgetsnbextension~=3.6.0 in /usr/local/lib/python3.10/dist-packages (from ipywidgets->dadk==2023.12.10->-r requirements_unix.txt (line 11)) (3.6.6)\n",
            "Requirement already satisfied: ipython>=4.0.0 in /usr/local/lib/python3.10/dist-packages (from ipywidgets->dadk==2023.12.10->-r requirements_unix.txt (line 11)) (7.34.0)\n",
            "Requirement already satisfied: jupyterlab-widgets>=1.0.0 in /usr/local/lib/python3.10/dist-packages (from ipywidgets->dadk==2023.12.10->-r requirements_unix.txt (line 11)) (3.0.11)\n",
            "Requirement already satisfied: msgpack in /usr/local/lib/python3.10/dist-packages (from k3d->dadk==2023.12.10->-r requirements_unix.txt (line 11)) (1.0.8)\n",
            "Requirement already satisfied: dill>=0.3.8 in /usr/local/lib/python3.10/dist-packages (from multiprocess->dadk==2023.12.10->-r requirements_unix.txt (line 11)) (0.3.8)\n",
            "Requirement already satisfied: llvmlite<0.42,>=0.41.0dev0 in /usr/local/lib/python3.10/dist-packages (from numba->dadk==2023.12.10->-r requirements_unix.txt (line 11)) (0.41.1)\n",
            "Requirement already satisfied: alembic>=1.5.0 in /usr/local/lib/python3.10/dist-packages (from optuna->dadk==2023.12.10->-r requirements_unix.txt (line 11)) (1.13.1)\n",
            "Requirement already satisfied: colorlog in /usr/local/lib/python3.10/dist-packages (from optuna->dadk==2023.12.10->-r requirements_unix.txt (line 11)) (6.8.2)\n",
            "Requirement already satisfied: sqlalchemy>=1.3.0 in /usr/local/lib/python3.10/dist-packages (from optuna->dadk==2023.12.10->-r requirements_unix.txt (line 11)) (2.0.30)\n",
            "Requirement already satisfied: tqdm in /usr/local/lib/python3.10/dist-packages (from optuna->dadk==2023.12.10->-r requirements_unix.txt (line 11)) (4.66.4)\n",
            "Requirement already satisfied: aiosignal>=1.1.2 in /usr/local/lib/python3.10/dist-packages (from aiohttp<4.0.0,>=3.8.5->auth0-python->dadk==2023.12.10->-r requirements_unix.txt (line 11)) (1.3.1)\n",
            "Requirement already satisfied: attrs>=17.3.0 in /usr/local/lib/python3.10/dist-packages (from aiohttp<4.0.0,>=3.8.5->auth0-python->dadk==2023.12.10->-r requirements_unix.txt (line 11)) (23.2.0)\n",
            "Requirement already satisfied: frozenlist>=1.1.1 in /usr/local/lib/python3.10/dist-packages (from aiohttp<4.0.0,>=3.8.5->auth0-python->dadk==2023.12.10->-r requirements_unix.txt (line 11)) (1.4.1)\n",
            "Requirement already satisfied: multidict<7.0,>=4.5 in /usr/local/lib/python3.10/dist-packages (from aiohttp<4.0.0,>=3.8.5->auth0-python->dadk==2023.12.10->-r requirements_unix.txt (line 11)) (6.0.5)\n",
            "Requirement already satisfied: yarl<2.0,>=1.0 in /usr/local/lib/python3.10/dist-packages (from aiohttp<4.0.0,>=3.8.5->auth0-python->dadk==2023.12.10->-r requirements_unix.txt (line 11)) (1.9.4)\n",
            "Requirement already satisfied: async-timeout<5.0,>=4.0 in /usr/local/lib/python3.10/dist-packages (from aiohttp<4.0.0,>=3.8.5->auth0-python->dadk==2023.12.10->-r requirements_unix.txt (line 11)) (4.0.3)\n",
            "Requirement already satisfied: Mako in /usr/local/lib/python3.10/dist-packages (from alembic>=1.5.0->optuna->dadk==2023.12.10->-r requirements_unix.txt (line 11)) (1.3.5)\n",
            "Requirement already satisfied: cffi>=1.12 in /usr/local/lib/python3.10/dist-packages (from cryptography<43.0.0,>=42.0.4->auth0-python->dadk==2023.12.10->-r requirements_unix.txt (line 11)) (1.16.0)\n",
            "Requirement already satisfied: jupyter-client in /usr/local/lib/python3.10/dist-packages (from ipykernel>=4.5.1->ipywidgets->dadk==2023.12.10->-r requirements_unix.txt (line 11)) (6.1.12)\n",
            "Requirement already satisfied: tornado>=4.2 in /usr/local/lib/python3.10/dist-packages (from ipykernel>=4.5.1->ipywidgets->dadk==2023.12.10->-r requirements_unix.txt (line 11)) (6.3.3)\n",
            "Requirement already satisfied: setuptools>=18.5 in /usr/local/lib/python3.10/dist-packages (from ipython>=4.0.0->ipywidgets->dadk==2023.12.10->-r requirements_unix.txt (line 11)) (67.7.2)\n",
            "Requirement already satisfied: jedi>=0.16 in /usr/local/lib/python3.10/dist-packages (from ipython>=4.0.0->ipywidgets->dadk==2023.12.10->-r requirements_unix.txt (line 11)) (0.19.1)\n",
            "Requirement already satisfied: decorator in /usr/local/lib/python3.10/dist-packages (from ipython>=4.0.0->ipywidgets->dadk==2023.12.10->-r requirements_unix.txt (line 11)) (4.4.2)\n",
            "Requirement already satisfied: pickleshare in /usr/local/lib/python3.10/dist-packages (from ipython>=4.0.0->ipywidgets->dadk==2023.12.10->-r requirements_unix.txt (line 11)) (0.7.5)\n",
            "Requirement already satisfied: prompt-toolkit!=3.0.0,!=3.0.1,<3.1.0,>=2.0.0 in /usr/local/lib/python3.10/dist-packages (from ipython>=4.0.0->ipywidgets->dadk==2023.12.10->-r requirements_unix.txt (line 11)) (3.0.47)\n",
            "Requirement already satisfied: pygments in /usr/local/lib/python3.10/dist-packages (from ipython>=4.0.0->ipywidgets->dadk==2023.12.10->-r requirements_unix.txt (line 11)) (2.16.1)\n",
            "Requirement already satisfied: backcall in /usr/local/lib/python3.10/dist-packages (from ipython>=4.0.0->ipywidgets->dadk==2023.12.10->-r requirements_unix.txt (line 11)) (0.2.0)\n",
            "Requirement already satisfied: matplotlib-inline in /usr/local/lib/python3.10/dist-packages (from ipython>=4.0.0->ipywidgets->dadk==2023.12.10->-r requirements_unix.txt (line 11)) (0.1.7)\n",
            "Requirement already satisfied: pexpect>4.3 in /usr/local/lib/python3.10/dist-packages (from ipython>=4.0.0->ipywidgets->dadk==2023.12.10->-r requirements_unix.txt (line 11)) (4.9.0)\n",
            "Requirement already satisfied: greenlet!=0.4.17 in /usr/local/lib/python3.10/dist-packages (from sqlalchemy>=1.3.0->optuna->dadk==2023.12.10->-r requirements_unix.txt (line 11)) (3.0.3)\n",
            "Requirement already satisfied: notebook>=4.4.1 in /usr/local/lib/python3.10/dist-packages (from widgetsnbextension~=3.6.0->ipywidgets->dadk==2023.12.10->-r requirements_unix.txt (line 11)) (6.5.5)\n",
            "Requirement already satisfied: pycparser in /usr/local/lib/python3.10/dist-packages (from cffi>=1.12->cryptography<43.0.0,>=42.0.4->auth0-python->dadk==2023.12.10->-r requirements_unix.txt (line 11)) (2.22)\n",
            "Requirement already satisfied: parso<0.9.0,>=0.8.3 in /usr/local/lib/python3.10/dist-packages (from jedi>=0.16->ipython>=4.0.0->ipywidgets->dadk==2023.12.10->-r requirements_unix.txt (line 11)) (0.8.4)\n",
            "Requirement already satisfied: jinja2 in /usr/local/lib/python3.10/dist-packages (from notebook>=4.4.1->widgetsnbextension~=3.6.0->ipywidgets->dadk==2023.12.10->-r requirements_unix.txt (line 11)) (3.1.4)\n",
            "Requirement already satisfied: pyzmq<25,>=17 in /usr/local/lib/python3.10/dist-packages (from notebook>=4.4.1->widgetsnbextension~=3.6.0->ipywidgets->dadk==2023.12.10->-r requirements_unix.txt (line 11)) (24.0.1)\n",
            "Requirement already satisfied: argon2-cffi in /usr/local/lib/python3.10/dist-packages (from notebook>=4.4.1->widgetsnbextension~=3.6.0->ipywidgets->dadk==2023.12.10->-r requirements_unix.txt (line 11)) (23.1.0)\n",
            "Requirement already satisfied: jupyter-core>=4.6.1 in /usr/local/lib/python3.10/dist-packages (from notebook>=4.4.1->widgetsnbextension~=3.6.0->ipywidgets->dadk==2023.12.10->-r requirements_unix.txt (line 11)) (5.7.2)\n",
            "Requirement already satisfied: nbformat in /usr/local/lib/python3.10/dist-packages (from notebook>=4.4.1->widgetsnbextension~=3.6.0->ipywidgets->dadk==2023.12.10->-r requirements_unix.txt (line 11)) (5.10.4)\n",
            "Requirement already satisfied: nbconvert>=5 in /usr/local/lib/python3.10/dist-packages (from notebook>=4.4.1->widgetsnbextension~=3.6.0->ipywidgets->dadk==2023.12.10->-r requirements_unix.txt (line 11)) (6.5.4)\n",
            "Requirement already satisfied: nest-asyncio>=1.5 in /usr/local/lib/python3.10/dist-packages (from notebook>=4.4.1->widgetsnbextension~=3.6.0->ipywidgets->dadk==2023.12.10->-r requirements_unix.txt (line 11)) (1.6.0)\n",
            "Requirement already satisfied: Send2Trash>=1.8.0 in /usr/local/lib/python3.10/dist-packages (from notebook>=4.4.1->widgetsnbextension~=3.6.0->ipywidgets->dadk==2023.12.10->-r requirements_unix.txt (line 11)) (1.8.3)\n",
            "Requirement already satisfied: terminado>=0.8.3 in /usr/local/lib/python3.10/dist-packages (from notebook>=4.4.1->widgetsnbextension~=3.6.0->ipywidgets->dadk==2023.12.10->-r requirements_unix.txt (line 11)) (0.18.1)\n",
            "Requirement already satisfied: prometheus-client in /usr/local/lib/python3.10/dist-packages (from notebook>=4.4.1->widgetsnbextension~=3.6.0->ipywidgets->dadk==2023.12.10->-r requirements_unix.txt (line 11)) (0.20.0)\n",
            "Requirement already satisfied: nbclassic>=0.4.7 in /usr/local/lib/python3.10/dist-packages (from notebook>=4.4.1->widgetsnbextension~=3.6.0->ipywidgets->dadk==2023.12.10->-r requirements_unix.txt (line 11)) (1.1.0)\n",
            "Requirement already satisfied: ptyprocess>=0.5 in /usr/local/lib/python3.10/dist-packages (from pexpect>4.3->ipython>=4.0.0->ipywidgets->dadk==2023.12.10->-r requirements_unix.txt (line 11)) (0.7.0)\n",
            "Requirement already satisfied: wcwidth in /usr/local/lib/python3.10/dist-packages (from prompt-toolkit!=3.0.0,!=3.0.1,<3.1.0,>=2.0.0->ipython>=4.0.0->ipywidgets->dadk==2023.12.10->-r requirements_unix.txt (line 11)) (0.2.13)\n",
            "Requirement already satisfied: platformdirs>=2.5 in /usr/local/lib/python3.10/dist-packages (from jupyter-core>=4.6.1->notebook>=4.4.1->widgetsnbextension~=3.6.0->ipywidgets->dadk==2023.12.10->-r requirements_unix.txt (line 11)) (4.2.2)\n",
            "Requirement already satisfied: notebook-shim>=0.2.3 in /usr/local/lib/python3.10/dist-packages (from nbclassic>=0.4.7->notebook>=4.4.1->widgetsnbextension~=3.6.0->ipywidgets->dadk==2023.12.10->-r requirements_unix.txt (line 11)) (0.2.4)\n",
            "Requirement already satisfied: lxml in /usr/local/lib/python3.10/dist-packages (from nbconvert>=5->notebook>=4.4.1->widgetsnbextension~=3.6.0->ipywidgets->dadk==2023.12.10->-r requirements_unix.txt (line 11)) (4.9.4)\n",
            "Requirement already satisfied: beautifulsoup4 in /usr/local/lib/python3.10/dist-packages (from nbconvert>=5->notebook>=4.4.1->widgetsnbextension~=3.6.0->ipywidgets->dadk==2023.12.10->-r requirements_unix.txt (line 11)) (4.12.3)\n",
            "Requirement already satisfied: bleach in /usr/local/lib/python3.10/dist-packages (from nbconvert>=5->notebook>=4.4.1->widgetsnbextension~=3.6.0->ipywidgets->dadk==2023.12.10->-r requirements_unix.txt (line 11)) (6.1.0)\n",
            "Requirement already satisfied: defusedxml in /usr/local/lib/python3.10/dist-packages (from nbconvert>=5->notebook>=4.4.1->widgetsnbextension~=3.6.0->ipywidgets->dadk==2023.12.10->-r requirements_unix.txt (line 11)) (0.7.1)\n",
            "Requirement already satisfied: entrypoints>=0.2.2 in /usr/local/lib/python3.10/dist-packages (from nbconvert>=5->notebook>=4.4.1->widgetsnbextension~=3.6.0->ipywidgets->dadk==2023.12.10->-r requirements_unix.txt (line 11)) (0.4)\n",
            "Requirement already satisfied: jupyterlab-pygments in /usr/local/lib/python3.10/dist-packages (from nbconvert>=5->notebook>=4.4.1->widgetsnbextension~=3.6.0->ipywidgets->dadk==2023.12.10->-r requirements_unix.txt (line 11)) (0.3.0)\n",
            "Requirement already satisfied: mistune<2,>=0.8.1 in /usr/local/lib/python3.10/dist-packages (from nbconvert>=5->notebook>=4.4.1->widgetsnbextension~=3.6.0->ipywidgets->dadk==2023.12.10->-r requirements_unix.txt (line 11)) (0.8.4)\n",
            "Requirement already satisfied: nbclient>=0.5.0 in /usr/local/lib/python3.10/dist-packages (from nbconvert>=5->notebook>=4.4.1->widgetsnbextension~=3.6.0->ipywidgets->dadk==2023.12.10->-r requirements_unix.txt (line 11)) (0.10.0)\n",
            "Requirement already satisfied: pandocfilters>=1.4.1 in /usr/local/lib/python3.10/dist-packages (from nbconvert>=5->notebook>=4.4.1->widgetsnbextension~=3.6.0->ipywidgets->dadk==2023.12.10->-r requirements_unix.txt (line 11)) (1.5.1)\n",
            "Requirement already satisfied: tinycss2 in /usr/local/lib/python3.10/dist-packages (from nbconvert>=5->notebook>=4.4.1->widgetsnbextension~=3.6.0->ipywidgets->dadk==2023.12.10->-r requirements_unix.txt (line 11)) (1.3.0)\n",
            "Requirement already satisfied: fastjsonschema>=2.15 in /usr/local/lib/python3.10/dist-packages (from nbformat->notebook>=4.4.1->widgetsnbextension~=3.6.0->ipywidgets->dadk==2023.12.10->-r requirements_unix.txt (line 11)) (2.20.0)\n",
            "Requirement already satisfied: jsonschema>=2.6 in /usr/local/lib/python3.10/dist-packages (from nbformat->notebook>=4.4.1->widgetsnbextension~=3.6.0->ipywidgets->dadk==2023.12.10->-r requirements_unix.txt (line 11)) (4.19.2)\n",
            "Requirement already satisfied: argon2-cffi-bindings in /usr/local/lib/python3.10/dist-packages (from argon2-cffi->notebook>=4.4.1->widgetsnbextension~=3.6.0->ipywidgets->dadk==2023.12.10->-r requirements_unix.txt (line 11)) (21.2.0)\n",
            "Requirement already satisfied: jsonschema-specifications>=2023.03.6 in /usr/local/lib/python3.10/dist-packages (from jsonschema>=2.6->nbformat->notebook>=4.4.1->widgetsnbextension~=3.6.0->ipywidgets->dadk==2023.12.10->-r requirements_unix.txt (line 11)) (2023.12.1)\n",
            "Requirement already satisfied: referencing>=0.28.4 in /usr/local/lib/python3.10/dist-packages (from jsonschema>=2.6->nbformat->notebook>=4.4.1->widgetsnbextension~=3.6.0->ipywidgets->dadk==2023.12.10->-r requirements_unix.txt (line 11)) (0.35.1)\n",
            "Requirement already satisfied: rpds-py>=0.7.1 in /usr/local/lib/python3.10/dist-packages (from jsonschema>=2.6->nbformat->notebook>=4.4.1->widgetsnbextension~=3.6.0->ipywidgets->dadk==2023.12.10->-r requirements_unix.txt (line 11)) (0.18.1)\n",
            "Requirement already satisfied: jupyter-server<3,>=1.8 in /usr/local/lib/python3.10/dist-packages (from notebook-shim>=0.2.3->nbclassic>=0.4.7->notebook>=4.4.1->widgetsnbextension~=3.6.0->ipywidgets->dadk==2023.12.10->-r requirements_unix.txt (line 11)) (1.24.0)\n",
            "Requirement already satisfied: soupsieve>1.2 in /usr/local/lib/python3.10/dist-packages (from beautifulsoup4->nbconvert>=5->notebook>=4.4.1->widgetsnbextension~=3.6.0->ipywidgets->dadk==2023.12.10->-r requirements_unix.txt (line 11)) (2.5)\n",
            "Requirement already satisfied: webencodings in /usr/local/lib/python3.10/dist-packages (from bleach->nbconvert>=5->notebook>=4.4.1->widgetsnbextension~=3.6.0->ipywidgets->dadk==2023.12.10->-r requirements_unix.txt (line 11)) (0.5.1)\n",
            "Requirement already satisfied: anyio<4,>=3.1.0 in /usr/local/lib/python3.10/dist-packages (from jupyter-server<3,>=1.8->notebook-shim>=0.2.3->nbclassic>=0.4.7->notebook>=4.4.1->widgetsnbextension~=3.6.0->ipywidgets->dadk==2023.12.10->-r requirements_unix.txt (line 11)) (3.7.1)\n",
            "Requirement already satisfied: websocket-client in /usr/local/lib/python3.10/dist-packages (from jupyter-server<3,>=1.8->notebook-shim>=0.2.3->nbclassic>=0.4.7->notebook>=4.4.1->widgetsnbextension~=3.6.0->ipywidgets->dadk==2023.12.10->-r requirements_unix.txt (line 11)) (1.8.0)\n",
            "Requirement already satisfied: sniffio>=1.1 in /usr/local/lib/python3.10/dist-packages (from anyio<4,>=3.1.0->jupyter-server<3,>=1.8->notebook-shim>=0.2.3->nbclassic>=0.4.7->notebook>=4.4.1->widgetsnbextension~=3.6.0->ipywidgets->dadk==2023.12.10->-r requirements_unix.txt (line 11)) (1.3.1)\n",
            "Requirement already satisfied: exceptiongroup in /usr/local/lib/python3.10/dist-packages (from anyio<4,>=3.1.0->jupyter-server<3,>=1.8->notebook-shim>=0.2.3->nbclassic>=0.4.7->notebook>=4.4.1->widgetsnbextension~=3.6.0->ipywidgets->dadk==2023.12.10->-r requirements_unix.txt (line 11)) (1.2.1)\n",
            "Building wheels for collected packages: dadk\n",
            "  Building wheel for dadk (setup.py) ... \u001b[?25l\u001b[?25hdone\n",
            "  Created wheel for dadk: filename=dadk-2023.12.10-py3-none-any.whl size=4995459 sha256=2c2a417721a622cd4e64fc7fa85dfda9c21f51c387683de343b0898aa97546fc\n",
            "  Stored in directory: /tmp/pip-ephem-wheel-cache-7btzx8pk/wheels/78/36/68/08dcbec0b48f137a33fc3ac474d3838f74984d2dda7e3178dd\n",
            "Successfully built dadk\n",
            "Installing collected packages: dadk\n",
            "  Attempting uninstall: dadk\n",
            "    Found existing installation: dadk 2023.12.10\n",
            "    Uninstalling dadk-2023.12.10:\n",
            "      Successfully uninstalled dadk-2023.12.10\n",
            "Successfully installed dadk-2023.12.10\n"
          ]
        }
      ]
    },
    {
      "cell_type": "code",
      "source": [
        "%matplotlib widget\n",
        "from IPython.display import display, HTML\n",
        "display(HTML(\"<style>.container{width:100% !important;}</style>\"))\n",
        "import random\n",
        "from IPython.display import display, HTML\n",
        "from dadk.Optimizer import *\n",
        "from dadk.SolverFactory import *\n",
        "from dadk.Solution_SolutionList import *\n",
        "from dadk.BinPol import *\n",
        "from random import uniform\n",
        "from tabulate import tabulate\n",
        "from numpy import argmax\n",
        "import numpy as np\n",
        "from dadk.QUBOSolverCPU import *\n",
        "import pandas as pd\n",
        "import numpy as np"
      ],
      "metadata": {
        "colab": {
          "base_uri": "https://localhost:8080/",
          "height": 17
        },
        "id": "vJmFwAT-pJSa",
        "outputId": "8dc9fd5c-ab8f-4c1a-8d5c-b435ff873dd5"
      },
      "execution_count": 2,
      "outputs": [
        {
          "output_type": "display_data",
          "data": {
            "text/plain": [
              "<IPython.core.display.HTML object>"
            ],
            "text/html": [
              "<style>.container{width:100% !important;}</style>"
            ]
          },
          "metadata": {}
        }
      ]
    },
    {
      "cell_type": "code",
      "source": [
        "# Cargar los datos del dataset\n",
        "acciones = pd.read_csv('Dataset_Acciones_Pequenio.csv')\n",
        "\n",
        "# Calcular los retornos diarios y la matriz de covarianza\n",
        "# La función pct_change() calcula el cambio porcentual entre filas consecutivas, días en este caso\n",
        "retornos = acciones.pct_change().dropna()\n",
        "cov_matrix = retornos.cov().values\n",
        "\n",
        "# Calcular los retornos esperados como la media de los retornos diarios (para la variable slack)\n",
        "retornos_esperados = retornos.mean().values\n",
        "\n",
        "# Obtener cantidad de activos N basado en las columnas seleccionadas\n",
        "n_assets = len(acciones.columns)\n",
        "asset_names = acciones.columns.tolist()\n",
        "\n",
        "# Establecer un umbral de retorno esperado mínimo para la cartera (para la variable slack)\n",
        "retorno_minimo = 0.02  # 2%\n",
        "\n",
        "# Función para calcular el valor de stop para la variable slack\n",
        "def calculate_slack_stop(retornos, retorno_min_esperado):\n",
        "    # Calcular la suma máxima de los retornos\n",
        "    max_returns_sum = sum(sorted(retornos, reverse=True)[:len(retornos) // 2])\n",
        "    # Calcular el valor de stop para S\n",
        "    slack_stop = max_returns_sum - retorno_min_esperado\n",
        "    return slack_stop\n",
        "\n",
        "# Función para construir el modelo QUBO\n",
        "def build_qubo(cov_matrix, n_assets, factor_penalty, retornos, retorno_min_esperado):\n",
        "    var_problema = BitArrayShape('x', (n_assets,))\n",
        "\n",
        "    # Calcular el valor de stop para la variable slack\n",
        "    slack_stop = calculate_slack_stop(retornos, retorno_min_esperado)\n",
        "\n",
        "    # Crear la variable slack\n",
        "    my_var_slack = VarSlack(name='slack_variable',start=0,step=1,stop=slack_stop, slack_type=SlackType.binary)\n",
        "\n",
        "    var_shape_set = VarShapeSet(var_problema, my_var_slack)\n",
        "    BinPol.freeze_var_shape_set(var_shape_set)\n",
        "\n",
        "    H_cuad = BinPol()\n",
        "\n",
        "    # Construir H_cuad utilizando la matriz de covarianza\n",
        "    for i in range(n_assets):\n",
        "        for j in range(n_assets):\n",
        "            w_ij = cov_matrix[i, j]\n",
        "            H_cuad.add_term(w_ij, ('x', i), ('x', j))\n",
        "\n",
        "    # Construir H_slack para representar la restricción del retorno mínimo esperado\n",
        "    H_slack = BinPol()\n",
        "\n",
        "    for i in range(n_assets):\n",
        "        H_slack.add_term(retornos_esperados[i], ('x', i)) # ANTES PONÍA SOLO RETORNOS\n",
        "\n",
        "    H_slack.add_slack_variable('slack_variable', factor=-1)\n",
        "    H_slack.add_term(-retorno_minimo, ()) # ANTES PONIA EPSERADO\n",
        "\n",
        "  # Construir H_half para representar la restricción de invertir en la mitad de empresas\n",
        "    H_half = BinPol()\n",
        "\n",
        "    for i in range(n_assets):\n",
        "        H_half.add_term(1, ('x', i))\n",
        "    H_half.add_term(-n_assets // 2, ())\n",
        "    H_half.power(2)\n",
        "\n",
        "    # Combinar los términos para formar el QUBO\n",
        "    QUBO = H_cuad + (H_half + H_slack) * factor_penalty\n",
        "\n",
        "    return QUBO, H_half\n",
        "\n",
        "\n",
        "# Coeficiente de penalización para la restricción H_half\n",
        "factor_penalty = 100\n",
        "QUBO, H_half = build_qubo(cov_matrix, n_assets, factor_penalty, retornos_esperados, retorno_minimo)\n",
        "\n",
        "# Configurar y ejecutar el solucionador QUBO\n",
        "solver = QUBOSolverCPU(\n",
        "    number_iterations=50000,\n",
        "    number_runs=10, # Número de ejecuciones en paralelo\n",
        "    scaling_bit_precision=16,\n",
        "    auto_tuning=AutoTuning.AUTO_SCALING_AND_SAMPLING\n",
        ")\n",
        "\n",
        "solution_list = solver.minimize(QUBO)\n",
        "print(solution_list.min_solution.configuration)\n",
        "print()\n",
        "print(solution_list.solver_times)"
      ],
      "metadata": {
        "id": "67VwUL3rmYdY",
        "colab": {
          "base_uri": "https://localhost:8080/"
        },
        "outputId": "f9cc0d29-98d4-4140-c6f9-b773ea29b0a5"
      },
      "execution_count": 48,
      "outputs": [
        {
          "output_type": "stream",
          "name": "stdout",
          "text": [
            "\n",
            "********************************************************************************\n",
            "Scaling qubo, temperature_start, temperature_end and offset_increase_rate\n",
            "  factor:                          108.00000\n",
            "********************************************************************************\n",
            "\n",
            "\n",
            "********************************************************************************\n",
            "Effective values (including scaling factor)\n",
            "  temperature_start:               28430.000\n",
            "  temperature_end:                   114.600\n",
            "  offset_increase_rate:             1081.000\n",
            "  duration:                            0.001 sec\n",
            "********************************************************************************\n",
            "\n",
            "[1, 0, 0, 1]\n",
            "\n",
            "+--------------+----------------------------+----------------------------+----------------+\n",
            "| time         | from                       | to                         | duration       |\n",
            "|--------------+----------------------------+----------------------------+----------------|\n",
            "| anneal       | 2024-06-22 15:57:57.147024 | 2024-06-22 15:57:57.202286 | 0:00:00.055262 |\n",
            "| cpu          | 2024-06-22 15:57:57.146072 | 2024-06-22 15:57:57.146990 | 0:00:00.000918 |\n",
            "| elapsed      | 2024-06-22 15:57:57.144316 | 2024-06-22 15:57:57.202378 | 0:00:00.058062 |\n",
            "| execution    | 2024-06-22 15:57:57.146052 | 2024-06-22 15:57:57.202329 | 0:00:00.056277 |\n",
            "| prepare_qubo | 2024-06-22 15:57:57.145865 | 2024-06-22 15:57:57.146022 | 0:00:00.000157 |\n",
            "| solve        | 2024-06-22 15:57:57.146061 | 2024-06-22 15:57:57.202315 | 0:00:00.056254 |\n",
            "| tuning       | 2024-06-22 15:57:57.144330 | 2024-06-22 15:57:57.145828 | 0:00:00.001498 |\n",
            "+--------------+----------------------------+----------------------------+----------------+\n"
          ]
        }
      ]
    },
    {
      "cell_type": "code",
      "source": [
        "# Función para preparar y presentar el resultado\n",
        "def prep_result(solution_list, H_half, silent=False):\n",
        "    solution = solution_list.min_solution # La mejor solución\n",
        "    constraint_penalty = H_half.compute(solution.configuration)\n",
        "    if not silent:\n",
        "        print(f'Valor QUBO: {constraint_penalty}')\n",
        "        print(solution.configuration)\n",
        "    return constraint_penalty, solution\n",
        "\n",
        "# Función para reportar la solución\n",
        "def report(constraint_penalty, solution, asset_names, retorno_min_esperado, silent=False):\n",
        "    if not silent:\n",
        "        if constraint_penalty == 0.0: # Es cero en las soluciones válidas\n",
        "            print('Portfolio elegido:')\n",
        "            # Asegurar que los índices no estén fuera del rango de asset_names\n",
        "            selected_assets = [asset_names[i] for i, bit in enumerate(solution.configuration[:len(asset_names)]) if bit > 0.5]\n",
        "            print(selected_assets)\n",
        "        else:\n",
        "            print(f\"No se puede dar solución para el retorno mínimo introducido de {retorno_min_esperado}\")\n",
        "\n",
        "# Función para verificar si el retorno mínimo es alcanzable\n",
        "def es_factible(retornos, retorno_min_esperado):\n",
        "    retorno_posible_max = sum(sorted(retornos, reverse=True)[:len(retornos) // 2])\n",
        "    return retorno_posible_max >= retorno_min_esperado\n",
        "\n",
        "# Verificar si el retorno mínimo es alcanzable antes de continuar\n",
        "if not es_factible(retornos_esperados, retorno_minimo):\n",
        "    print(f\"No se puede dar solución para el retorno mínimo introducido de {retorno_minimo}\")\n",
        "else:\n",
        "    # Utilizar las funciones de resultado y reporte\n",
        "    constraint_penalty, solution = prep_result(solution_list, H_half)\n",
        "    report(constraint_penalty, solution, asset_names, retorno_minimo)"
      ],
      "metadata": {
        "id": "g4Tkvzi0IfKm",
        "colab": {
          "base_uri": "https://localhost:8080/"
        },
        "outputId": "fff03db7-fa24-4dec-eae1-79aae1940022"
      },
      "execution_count": 50,
      "outputs": [
        {
          "output_type": "stream",
          "name": "stdout",
          "text": [
            "Valor QUBO: 0\n",
            "[1, 0, 0, 1]\n",
            "Portfolio elegido:\n",
            "['EmpresaA', 'EmpresaD']\n"
          ]
        }
      ]
    },
    {
      "cell_type": "code",
      "source": [
        "# Función para calcular la media y la desviación estándar de cada empresa\n",
        "def calcular_metricas(df):\n",
        "    metricas = pd.DataFrame(index=df.columns, columns=['Media', '  Desviación Estándar'])\n",
        "    for column in df.columns:\n",
        "        metricas.loc[column, 'Media'] = df[column].mean()\n",
        "        metricas.loc[column, '  Desviación Estándar'] = df[column].std()\n",
        "    return metricas\n",
        "\n",
        "# Mostrar estadísticas de cada empresa\n",
        "estadisticas = calcular_metricas(acciones)\n",
        "print(estadisticas)"
      ],
      "metadata": {
        "id": "_d6j_kYK7Rxs",
        "colab": {
          "base_uri": "https://localhost:8080/"
        },
        "outputId": "a2062cb9-eb9a-40f7-f78a-ed37091f4244"
      },
      "execution_count": 51,
      "outputs": [
        {
          "output_type": "stream",
          "name": "stdout",
          "text": [
            "          Media   Desviación Estándar\n",
            "EmpresaA   95.9             13.963842\n",
            "EmpresaB   73.9             12.077987\n",
            "EmpresaC   32.9              7.489993\n",
            "EmpresaD  122.1             12.031902\n"
          ]
        }
      ]
    },
    {
      "cell_type": "markdown",
      "source": [
        "Tras analizar el rendimiento de las distintas empresas así como la volatilidad de los precios de sus acciones, representados por la media y la desviación estándar respectivamente, se obtiene que las mejores empresas para invertir son la EmpresaD y la EmpresaA puesto que presentan un equilibrio favorable entre el potencial de rendimiento y el nivel de riesgo asociado.\n",
        "\n",
        "La EmpresaD, con una media de 122.1 y una desviación estándar de 12.03, ofrece el mayor rendimiento de todas las opciones evaluadas, lo que indica una fuerte capacidad de generación de valor, manteniendo al mismo tiempo una volatilidad moderada que mitiga el riesgo de inversión.\n",
        "\n",
        "Por su parte, la EmpresaA, aunque exhibe una desviación estándar ligeramente mayor de 13.96, también muestra un rendimiento robusto con una media de 95.9. Esta combinación sugiere que, a pesar de una mayor variabilidad en el precio de sus acciones, la EmpresaA sigue siendo una opción atractiva debido a su alta capacidad de retorno. Por lo tanto, seleccionar estas dos empresas para la inversión proporciona una diversificación estratégica que busca maximizar los beneficios ajustados por riesgo, aprovechando tanto la estabilidad relativa como el alto potencial de crecimiento."
      ],
      "metadata": {
        "id": "Ht_3Oq7-UIxr"
      }
    },
    {
      "cell_type": "code",
      "source": [
        "import numpy as np\n",
        "import pandas as pd\n",
        "\n",
        "def evaluate_portfolio(solution, asset_names, retornos, cov_matrix, annual_risk_free_rate=0.01, retorno_del_mercado=0.10):\n",
        "    pesos = np.array(solution.configuration, dtype=float)\n",
        "\n",
        "    optimal_portfolio = solution_list.min_solution.configuration\n",
        "    # Calcular el retorno y la varianza del portfolio\n",
        "    retorno = sum(retorno * x for retorno, x in zip(retornos_esperados, optimal_portfolio)) * 252 *0.01\n",
        "    #retorno = np.dot(pesos, retornos.mean())\n",
        "    varianza = np.dot(pesos.T, np.dot(cov_matrix, pesos))\n",
        "\n",
        "    # Convertir la tasa libre de riesgo anual a diaria\n",
        "    daily_risk_free_rate = (1 + annual_risk_free_rate)**(1/252) - 1\n",
        "\n",
        "    # Convertir los pesos de la solución a tipo flotante y normalizarlos\n",
        "    pesos /= pesos.sum()\n",
        "\n",
        "    # Calcular el retorno y la varianza del portfolio\n",
        "    retorno_portfolio = np.dot(pesos, retornos.mean())\n",
        "    varianza_portfolio = np.dot(pesos.T, np.dot(cov_matrix, pesos))\n",
        "    desviacion_portfolio = np.sqrt(varianza_portfolio)\n",
        "\n",
        "    # Calcular el ratio de Sharpe\n",
        "    ratio_sharpe = (retorno_portfolio - daily_risk_free_rate) / desviacion_portfolio if desviacion_portfolio > 0 else 0\n",
        "\n",
        "    # Identificar retornos negativos y calcular el Ratio de Sortino\n",
        "    media_retornos = retornos.mean()\n",
        "    retornos_negativos = media_retornos < daily_risk_free_rate\n",
        "    indices_negativos = np.where(retornos_negativos)[0]\n",
        "    if len(indices_negativos) > 0:\n",
        "        pesos_negativos = pesos[indices_negativos]\n",
        "        covarianza_negativa = cov_matrix[np.ix_(indices_negativos, indices_negativos)]\n",
        "        varianza_negativa = np.dot(pesos_negativos.T, np.dot(covarianza_negativa, pesos_negativos))\n",
        "        desviacion_estandar_negativos = np.sqrt(varianza_negativa)\n",
        "        ratio_sortino = (retorno_portfolio - daily_risk_free_rate) / desviacion_estandar_negativos if desviacion_estandar_negativos > 0 else 0\n",
        "    else:\n",
        "        ratio_sortino = float('inf')  # Infinito si no hay retornos negativos\n",
        "\n",
        "    # Calcular el ratio de Información\n",
        "    exceso_retornos = retorno_portfolio - retorno_del_mercado\n",
        "    desviacion_estandar_exceso = desviacion_portfolio\n",
        "    ratio_informacion = exceso_retornos / desviacion_estandar_exceso if desviacion_estandar_exceso > 0 else 0\n",
        "\n",
        "    # Calcular la máxima caída\n",
        "    precios_portfolio = np.cumprod(1 + retornos.mean())\n",
        "    wealth_index = 1000 * precios_portfolio\n",
        "    previous_peaks = np.maximum.accumulate(wealth_index)\n",
        "    drawdowns = (wealth_index - previous_peaks) / previous_peaks\n",
        "    max_drawdown = drawdowns.min()\n",
        "\n",
        "    # Imprimir las métricas\n",
        "    print(f\"Retorno del Portfolio: {retorno}\")\n",
        "    print(f\"Varianza del Portfolio: {varianza}\")\n",
        "    print(f\"Ratio de Sharpe: {ratio_sharpe}\")\n",
        "    print(f\"Ratio de Sortino: {ratio_sortino}\")\n",
        "    print(f\"Ratio de Información: {ratio_informacion}\")\n",
        "    print(f\"Máxima Caída: {max_drawdown}\")\n",
        "\n",
        "# Llamar a la función de evaluación después de obtener la solución\n",
        "if solution_list.min_solution:\n",
        "    evaluate_portfolio(solution_list.min_solution, asset_names, retornos, cov_matrix)\n"
      ],
      "metadata": {
        "id": "3iBNUY1EeObR",
        "colab": {
          "base_uri": "https://localhost:8080/"
        },
        "outputId": "a315a6fc-5c73-4537-c981-13e8cef154f9"
      },
      "execution_count": 52,
      "outputs": [
        {
          "output_type": "stream",
          "name": "stdout",
          "text": [
            "Retorno del Portfolio: 0.02119485042884988\n",
            "Varianza del Portfolio: 0.049128903525671064\n",
            "Ratio de Sharpe: 0.03758929457817526\n",
            "Ratio de Sortino: 0.0664725431289585\n",
            "Ratio de Información: -0.8643762332153453\n",
            "Máxima Caída: -0.016377457564061806\n"
          ]
        }
      ]
    },
    {
      "cell_type": "markdown",
      "source": [
        "**Retorno del Portfolio**\n",
        "-  0.02119 (2.119%): Este es un retorno positivo, lo que indica que el portafolio ha generado ganancias sobre el periodo de tiempo considerado. Es superior al retorno mínimo establecido del 2%. En términos generales, este es un buen signo, aunque la evaluación de si es un buen retorno también depende del contexto del mercado y del nivel de riesgo asociado.\n",
        "\n",
        "**Varianza del Portfolio**\n",
        "-  0.04913 (4.913%): La varianza del portafolio indica la dispersión de los retornos alrededor de su media. Una varianza más alta sugiere un mayor nivel de riesgo. En este caso, una varianza de aproximadamente 0.049 puede considerarse moderadamente alta, dependiendo de la tolerancia al riesgo del inversor y de las comparaciones con benchmarks relevantes.\n",
        "\n",
        "**Ratio de Sharpe**\n",
        "-  0.03759 (3.759%): El Ratio de Sharpe es positivo, lo que es favorable ya que indica que el portafolio está generando un exceso de retorno sobre la tasa libre de riesgo, ajustado por volatilidad. Sin embargo, este valor es relativamente bajo, lo que sugiere que el exceso de retorno ajustado por el riesgo es modesto. Un Ratio de Sharpe superior a 1 es generalmente considerado muy bueno, entre 0.5 y 1 es aceptable, y menos de 0.5 puede considerarse bajo dependiendo del contexto.\n",
        "\n",
        "**Ratio de Sortino**\n",
        "-  0.06647: Este valor es superior al Ratio de Sharpe, lo cual es esperado ya que el Ratio de Sortino solo considera la volatilidad negativa. Un valor mayor aquí indica que el portafolio maneja bien las caídas, proporcionando un mejor retorno ajustado al riesgo a la baja. Esto es particularmente importante para los inversores que son sensibles a las pérdidas.\n",
        "\n",
        "**Ratio de Información**\n",
        "-  -0.86438: Este ratio es negativo y considerablemente bajo, lo que indica que el portafolio está sub-rendimiento en comparación con el benchmark (mercado). Este es un punto de preocupación, ya que sugiere que la gestión del portafolio no está agregando valor en términos de exceso de retorno sobre el mercado, ajustado por el riesgo del exceso de retorno.\n",
        "\n",
        "**Máxima Caída**\n",
        "-  -0.01638: La máxima caída es una medida de la pérdida máxima que se habría experimentado si se hubiera comprado en el pico más alto y vendido en el valle más bajo antes de una nueva recuperación. Una caída máxima de aproximadamente -1.64% es relativamente baja, lo que sugiere que el portafolio tiene un buen control del riesgo a la baja, en línea con el Ratio de Sortino observado."
      ],
      "metadata": {
        "id": "Tg3WlrDl60JM"
      }
    },
    {
      "cell_type": "markdown",
      "source": [
        "## Paso de variables binarias a enteras"
      ],
      "metadata": {
        "id": "KUn2gsrU4Gb-"
      }
    },
    {
      "cell_type": "markdown",
      "source": [
        "A continuación se han introducirdo una serie de cambios en el código para manejar de forma más precisa la gestión de una cartera de inversiones:\n",
        "\n",
        "1.  **Presupuesto y unidades de inversión** :\n",
        "\n",
        "  -  *Presupuesto y Unidades de Inversión* : Se introducen variables para el presupuesto global. Se calcula el número de unidades invertibles dividiendo el presupuesto total entre la unidad de inversión y se determina el número de bits necesarios utilizando representación binaria.\n",
        "\n",
        "  -  *Representación de variables con múltiples bits* : Para representar la cantidad invertida en cada activo se utilizan ahora múltiples bits en lugar de una única variable binaria. La varible del problema pasa ahora a definirse como una matriz de bits con dimensiones (n_assets, n_bits), donde cada fila representa un activo y cada columna un bit de la cantidad invertida.\n",
        "\n",
        "  -  *Construcción del modelo QUBO* : Se construyen los términos H_cuad, H_slack y H_budget considerando los múltiplos de inversión y las combinaciones de bits.\n",
        "\n",
        "  -  *Preparación y Reporte de Resultados* : Las funciones de preparación y reporte de resultados se adaptan para mostrar las cantidades invertidas por activo y evaluar la validez de las soluciones obtenidas.\n",
        "\n",
        "  -  *Verificación de Factibilidad* : Se verifica si el retorno mínimo es alcanzable antes de proceder con la construcción del QUBO y la ejecución del solver."
      ],
      "metadata": {
        "id": "FTMvw9zZRpdy"
      }
    },
    {
      "cell_type": "code",
      "source": [
        "# Calcular los retornos diarios y la matriz de covarianza\n",
        "retornos = acciones.pct_change().dropna()\n",
        "cov_matrix = retornos.cov().values\n",
        "\n",
        "# Calcular los retornos esperados como la media de los retornos diarios\n",
        "retornos_esperados = retornos.mean().values\n",
        "\n",
        "# Obtener cantidad de activos N basado en las columnas seleccionadas\n",
        "n_assets = len(acciones.columns)\n",
        "asset_names = acciones.columns.tolist()\n",
        "\n",
        "# Ajustar dinámicamente el umbral de retorno mínimo\n",
        "retorno_minimo = 0.02\n",
        "\n",
        "# Presupuesto total disponible para inversión\n",
        "presupuesto_total = 100\n",
        "unidad_inversion = 10  # Múltiplo de la inversión\n",
        "max_unidades = 50 // unidad_inversion  # Máximo número de unidades invertibles por activo\n",
        "n_bits = int(np.ceil(np.log2(max_unidades + 1)))  # Número de bits necesarios para representar hasta max_unidades\n",
        "\n",
        "# Función para construir el modelo QUBO\n",
        "def build_qubo(cov_matrix, n_assets, factor_penalty, retornos, retorno_min_esperado, presupuesto, unidad_inversion, n_bits):\n",
        "    var_problema = BitArrayShape('x', (n_assets, n_bits))\n",
        "\n",
        "    # Crear la variable slack\n",
        "    slack_stop = presupuesto // unidad_inversion\n",
        "    my_var_slack = VarSlack(name='slack_variable', start=0, step=1, stop=slack_stop, slack_type=SlackType.binary)\n",
        "\n",
        "    var_shape_set = VarShapeSet(var_problema, my_var_slack)\n",
        "    BinPol.freeze_var_shape_set(var_shape_set)\n",
        "\n",
        "    H_cuad = BinPol()\n",
        "\n",
        "    # Construir H_cuad utilizando la matriz de covarianza\n",
        "    for i in range(n_assets):\n",
        "        for j in range(n_assets):\n",
        "            for k in range(n_bits):\n",
        "                for l in range(n_bits):\n",
        "                    w_ij = cov_matrix[i, j] * (2**k) * (2**l) * (unidad_inversion ** 2) # Como los términos (2**k) * (2**l) representan las contribuciones de las diferentes\n",
        "                    H_cuad.add_term(w_ij, ('x', i, k), ('x', j, l))                     # escalas, por eso se eleva al cuadrado la unidad de inversión, de este modo se mantiene\n",
        "                                                                                        # la coherencia dimensional con la covarianza\n",
        "    # Construir H_slack para representar la restricción del retorno mínimo esperado\n",
        "    H_slack = BinPol()\n",
        "\n",
        "    for i in range(n_assets):\n",
        "        for k in range(n_bits):\n",
        "            H_slack.add_term(retornos_esperados[i] * (2**k) * unidad_inversion, ('x', i, k))\n",
        "\n",
        "    H_slack.add_slack_variable('slack_variable', factor=-1)\n",
        "    H_slack.add_term(-retorno_minimo, ())\n",
        "\n",
        "    # Construir H_budget para representar la restricción del presupuesto\n",
        "    H_budget = BinPol()\n",
        "\n",
        "    for i in range(n_assets):\n",
        "        for k in range(n_bits):\n",
        "            H_budget.add_term((2**k) * unidad_inversion, ('x', i, k))\n",
        "    H_budget.add_term(-presupuesto, ())\n",
        "    H_budget.power(2)\n",
        "\n",
        "    # Combinar los términos para formar el QUBO\n",
        "    QUBO = H_cuad + (H_slack + H_budget) * factor_penalty\n",
        "\n",
        "    return QUBO, H_cuad, H_slack, H_budget\n",
        "\n",
        "# Coeficiente de penalización para las restricciones\n",
        "factor_penalty = 1000\n",
        "QUBO, H_cuad, H_slack, H_budget = build_qubo(cov_matrix, n_assets, factor_penalty, retornos_esperados, retorno_minimo, presupuesto_total, unidad_inversion, n_bits)\n",
        "\n",
        "# Configurar y ejecutar el solucionador QUBO\n",
        "solver = QUBOSolverCPU(\n",
        "    number_iterations=50000,\n",
        "    number_runs=16,  # Número de ejecuciones en paralelo\n",
        "    scaling_bit_precision=16,\n",
        "    auto_tuning=AutoTuning.AUTO_SCALING_AND_SAMPLING\n",
        ")\n",
        "\n",
        "solution_list = solver.minimize(QUBO)\n",
        "print(solution_list.min_solution.configuration)\n",
        "print()\n",
        "print(solution_list.solver_times)\n",
        "\n",
        "# Función para preparar y presentar el resultado\n",
        "def prep_result(solution_list, H_budget, silent=False):\n",
        "    solution = solution_list.min_solution  # La mejor solución\n",
        "    constraint_penalty = H_budget.compute(solution.configuration)\n",
        "    if not silent:\n",
        "        print(f'Valor QUBO: {constraint_penalty}')\n",
        "        print(solution.configuration)\n",
        "    return constraint_penalty, solution\n",
        "\n",
        "# Función para reportar la solución\n",
        "def report(constraint_penalty, solution, asset_names, retorno_min_esperado, unidad_inversion, n_bits, silent=False):\n",
        "    if not silent:\n",
        "        if constraint_penalty == 0.0:  # Es cero en las soluciones válidas\n",
        "            print('Portfolio elegido:')\n",
        "            selected_assets = []\n",
        "            for i in range(len(asset_names)):\n",
        "                cantidad = sum(solution.configuration[i * n_bits + k] * (2**k) for k in range(n_bits))\n",
        "                if cantidad > 0:\n",
        "                    selected_assets.append((asset_names[i], cantidad * unidad_inversion))\n",
        "            print(selected_assets)\n",
        "        else:\n",
        "            print(f\"No se puede dar solución para el retorno mínimo introducido de {retorno_min_esperado}\")\n",
        "\n",
        "# Función para verificar si el retorno mínimo es alcanzable\n",
        "def es_factible(retornos, retorno_min_esperado, n_assets):\n",
        "    retorno_posible_max = sum(sorted(retornos, reverse=True)[:n_assets])\n",
        "    return retorno_posible_max >= retorno_min_esperado\n",
        "\n",
        "# Verificar si el retorno mínimo es alcanzable antes de proceder\n",
        "if not es_factible(retornos_esperados, retorno_minimo, n_assets):\n",
        "    print(f\"No se puede dar solución para el retorno mínimo introducido de {retorno_minimo}\")\n",
        "else:\n",
        "    # Utilizar las funciones de resultado y reporte\n",
        "    constraint_penalty, solution = prep_result(solution_list, H_budget)\n",
        "    report(constraint_penalty, solution, asset_names, retorno_minimo, unidad_inversion, n_bits)\n"
      ],
      "metadata": {
        "id": "br1xQYUffsBo",
        "colab": {
          "base_uri": "https://localhost:8080/"
        },
        "outputId": "4767c587-4885-4fba-f279-fcde79b92c5e"
      },
      "execution_count": 76,
      "outputs": [
        {
          "output_type": "stream",
          "name": "stdout",
          "text": [
            "Attention: Downscaling!\n",
            "\n",
            "********************************************************************************\n",
            "Scaling qubo, temperature_start, temperature_end and offset_increase_rate\n",
            "  factor:                            0.00512\n",
            "********************************************************************************\n",
            "\n",
            "\n",
            "********************************************************************************\n",
            "Effective values (including scaling factor)\n",
            "  temperature_start:                1941.000\n",
            "  temperature_end:                    68.590\n",
            "  offset_increase_rate:              269.000\n",
            "  duration:                            0.002 sec\n",
            "********************************************************************************\n",
            "\n",
            "[0, 0, 1, 0, 0, 0, 0, 0, 0, 0, 1, 1, 1, 1, 1, 1]\n",
            "\n",
            "+--------------+----------------------------+----------------------------+----------------+\n",
            "| time         | from                       | to                         | duration       |\n",
            "|--------------+----------------------------+----------------------------+----------------|\n",
            "| anneal       | 2024-06-22 16:02:00.834375 | 2024-06-22 16:02:01.460926 | 0:00:00.626551 |\n",
            "| cpu          | 2024-06-22 16:02:00.832965 | 2024-06-22 16:02:00.834343 | 0:00:00.001378 |\n",
            "| elapsed      | 2024-06-22 16:02:00.830314 | 2024-06-22 16:02:01.461088 | 0:00:00.630774 |\n",
            "| execution    | 2024-06-22 16:02:00.832947 | 2024-06-22 16:02:01.461002 | 0:00:00.628055 |\n",
            "| prepare_qubo | 2024-06-22 16:02:00.832595 | 2024-06-22 16:02:00.832912 | 0:00:00.000317 |\n",
            "| solve        | 2024-06-22 16:02:00.832954 | 2024-06-22 16:02:01.460981 | 0:00:00.628027 |\n",
            "| tuning       | 2024-06-22 16:02:00.830332 | 2024-06-22 16:02:00.832562 | 0:00:00.002230 |\n",
            "+--------------+----------------------------+----------------------------+----------------+\n",
            "Valor QUBO: 0\n",
            "[0, 0, 1, 0, 0, 0, 0, 0, 0, 0, 1, 1, 1, 1, 1, 1]\n",
            "Portfolio elegido:\n",
            "[('EmpresaA', 40), ('EmpresaD', 60)]\n"
          ]
        }
      ]
    },
    {
      "cell_type": "code",
      "source": [
        "import numpy as np\n",
        "import pandas as pd\n",
        "\n",
        "def evaluate_portfolio(solution, asset_names, retornos, cov_matrix, annual_risk_free_rate=0.01, retorno_del_mercado=0.10):\n",
        "    # Asumimos que la solución es una lista de pesos, directamente proporcional a las unidades invertidas\n",
        "    pesos = np.array([sum(solution[i * n_bits + k] * (2**k) for k in range(n_bits)) * unidad_inversion for i in range(n_assets)])\n",
        "\n",
        "    # Normalizar los pesos, convirtiendo a float para permitir la división\n",
        "    pesos = pesos.astype(float) / pesos.sum() # Change the datatype to float to allow division\n",
        "\n",
        "    # Calcular el retorno y la varianza del portfolio\n",
        "    retorno_portfolio = np.dot(pesos, retornos.mean()) * 252\n",
        "    varianza_portfolio = np.dot(pesos.T, np.dot(cov_matrix, pesos))\n",
        "\n",
        "    # Convertir la tasa libre de riesgo anual a diaria\n",
        "    daily_risk_free_rate = (1 + annual_risk_free_rate)**(1/252) - 1\n",
        "\n",
        "    # Calcular la desviación estándar del portfolio\n",
        "    desviacion_portfolio = np.sqrt(varianza_portfolio)\n",
        "\n",
        "    # Calcular el ratio de Sharpe\n",
        "    ratio_sharpe = (retorno_portfolio - daily_risk_free_rate) / desviacion_portfolio if desviacion_portfolio > 0 else 0\n",
        "\n",
        "    # Identificar retornos negativos y calcular el Ratio de Sortino\n",
        "    retornos_negativos = retornos[retornos < daily_risk_free_rate]\n",
        "    varianza_negativa = retornos_negativos.var()\n",
        "    desviacion_estandar_negativos = np.sqrt(varianza_negativa)\n",
        "    # Handle the case when 'desviacion_estandar_negativos' is not a scalar\n",
        "    if desviacion_estandar_negativos.size == 1:\n",
        "        ratio_sortino = (retorno_portfolio - daily_risk_free_rate) / desviacion_estandar_negativos.item() if desviacion_estandar_negativos.item() > 0 else float('inf')\n",
        "    else:\n",
        "        # You may need to adjust this part based on how you want to handle multiple negative returns\n",
        "        ratio_sortino = (retorno_portfolio - daily_risk_free_rate) / np.sqrt(np.mean(desviacion_estandar_negativos**2)) if np.mean(desviacion_estandar_negativos**2) > 0 else float('inf')\n",
        "\n",
        "    # Calcular el ratio de Información\n",
        "    exceso_retornos = retorno_portfolio - retorno_del_mercado\n",
        "    ratio_informacion = exceso_retornos / desviacion_portfolio if desviacion_portfolio > 0 else 0\n",
        "\n",
        "    # Calcular la máxima caída\n",
        "    precios_portfolio = (1 + retornos).cumprod()\n",
        "    wealth_index = 1000 * precios_portfolio\n",
        "    previous_peaks = np.maximum.accumulate(wealth_index)\n",
        "    drawdowns = (wealth_index - previous_peaks) / previous_peaks\n",
        "    # Extract the minimum drawdown value directly\n",
        "    max_drawdown = drawdowns.min().min()  # Extract the scalar value directly\n",
        "\n",
        "    # Imprimir las métricas\n",
        "    print(f\"Retorno del Portfolio: {retorno_portfolio:.4f}\")\n",
        "    print(f\"Varianza del Portfolio: {varianza_portfolio:.4f}\")\n",
        "    print(f\"Ratio de Sharpe: {ratio_sharpe:.4f}\")\n",
        "    print(f\"Ratio de Sortino: {ratio_sortino:.4f}\")\n",
        "    print(f\"Ratio de Información: {ratio_informacion:.4f}\")\n",
        "    print(f\"Máxima Caída (Drawdown): {max_drawdown:.4f}\")\n",
        "\n",
        "if solution_list.min_solution:\n",
        "    evaluate_portfolio(solution_list.min_solution.configuration, asset_names, retornos, cov_matrix)"
      ],
      "metadata": {
        "colab": {
          "base_uri": "https://localhost:8080/"
        },
        "id": "BycvhgTpmhOj",
        "outputId": "e543e624-92e7-4975-8fcb-91e32c008f0a"
      },
      "execution_count": 77,
      "outputs": [
        {
          "output_type": "stream",
          "name": "stdout",
          "text": [
            "Retorno del Portfolio: 0.0224\n",
            "Varianza del Portfolio: 0.0105\n",
            "Ratio de Sharpe: 0.2184\n",
            "Ratio de Sortino: 0.2221\n",
            "Ratio de Información: -0.7593\n",
            "Máxima Caída (Drawdown): -0.5000\n"
          ]
        }
      ]
    },
    {
      "cell_type": "markdown",
      "source": [
        "# Ejecución en D-Wave"
      ],
      "metadata": {
        "id": "kM09PG8dF8uq"
      }
    },
    {
      "cell_type": "code",
      "source": [
        "!pip install dimod\n",
        "!pip install pip-system-certs\n",
        "!pip install dwave-neal\n",
        "!pip install dwave-system\n",
        "!pip install hybrid"
      ],
      "metadata": {
        "id": "Kviegn3iF_wa",
        "colab": {
          "base_uri": "https://localhost:8080/"
        },
        "outputId": "2f90b1ad-34b5-4379-c593-f08dcdb1ea22"
      },
      "execution_count": 55,
      "outputs": [
        {
          "output_type": "stream",
          "name": "stdout",
          "text": [
            "Requirement already satisfied: dimod in /usr/local/lib/python3.10/dist-packages (0.12.15)\n",
            "Requirement already satisfied: numpy<2.0.0,>=1.17.3 in /usr/local/lib/python3.10/dist-packages (from dimod) (1.25.2)\n",
            "Requirement already satisfied: pip-system-certs in /usr/local/lib/python3.10/dist-packages (4.0)\n",
            "Requirement already satisfied: wrapt>=1.10.4 in /usr/local/lib/python3.10/dist-packages (from pip-system-certs) (1.14.1)\n",
            "Requirement already satisfied: dwave-neal in /usr/local/lib/python3.10/dist-packages (0.6.0)\n",
            "Requirement already satisfied: dwave-samplers<2.0.0,>=1.0.0 in /usr/local/lib/python3.10/dist-packages (from dwave-neal) (1.2.0)\n",
            "Requirement already satisfied: numpy<2.0.0,>=1.19.0 in /usr/local/lib/python3.10/dist-packages (from dwave-samplers<2.0.0,>=1.0.0->dwave-neal) (1.25.2)\n",
            "Requirement already satisfied: dimod<0.13.0,>=0.12.0 in /usr/local/lib/python3.10/dist-packages (from dwave-samplers<2.0.0,>=1.0.0->dwave-neal) (0.12.15)\n",
            "Requirement already satisfied: networkx>=2.4.0 in /usr/local/lib/python3.10/dist-packages (from dwave-samplers<2.0.0,>=1.0.0->dwave-neal) (3.2.1)\n",
            "Requirement already satisfied: dwave-system in /usr/local/lib/python3.10/dist-packages (1.25.0)\n",
            "Requirement already satisfied: dimod<0.14.0,>=0.12.7 in /usr/local/lib/python3.10/dist-packages (from dwave-system) (0.12.15)\n",
            "Requirement already satisfied: dwave-optimization<0.3,>=0.1.0 in /usr/local/lib/python3.10/dist-packages (from dwave-system) (0.1.0)\n",
            "Requirement already satisfied: dwave-cloud-client<0.13.0,>=0.12.0 in /usr/local/lib/python3.10/dist-packages (from dwave-system) (0.12.0)\n",
            "Requirement already satisfied: dwave-networkx>=0.8.10 in /usr/local/lib/python3.10/dist-packages (from dwave-system) (0.8.15)\n",
            "Requirement already satisfied: dwave-preprocessing>=0.5.0 in /usr/local/lib/python3.10/dist-packages (from dwave-system) (0.6.5)\n",
            "Requirement already satisfied: homebase<2.0.0,>=1.0.0 in /usr/local/lib/python3.10/dist-packages (from dwave-system) (1.0.1)\n",
            "Requirement already satisfied: minorminer<0.3.0,>=0.2.8 in /usr/local/lib/python3.10/dist-packages (from dwave-system) (0.2.14)\n",
            "Requirement already satisfied: numpy>=1.21.6 in /usr/local/lib/python3.10/dist-packages (from dwave-system) (1.25.2)\n",
            "Requirement already satisfied: dwave-samplers>=1.0.0 in /usr/local/lib/python3.10/dist-packages (from dwave-system) (1.2.0)\n",
            "Requirement already satisfied: scipy>=1.7.3 in /usr/local/lib/python3.10/dist-packages (from dwave-system) (1.11.4)\n",
            "Requirement already satisfied: requests[socks]<3,>=2.25 in /usr/local/lib/python3.10/dist-packages (from dwave-cloud-client<0.13.0,>=0.12.0->dwave-system) (2.31.0)\n",
            "Requirement already satisfied: urllib3<3,>=1.26 in /usr/local/lib/python3.10/dist-packages (from dwave-cloud-client<0.13.0,>=0.12.0->dwave-system) (2.0.7)\n",
            "Requirement already satisfied: pydantic<3,>=2 in /usr/local/lib/python3.10/dist-packages (from dwave-cloud-client<0.13.0,>=0.12.0->dwave-system) (2.7.4)\n",
            "Requirement already satisfied: click<9,>=7.0 in /usr/local/lib/python3.10/dist-packages (from dwave-cloud-client<0.13.0,>=0.12.0->dwave-system) (8.1.7)\n",
            "Requirement already satisfied: python-dateutil<3,>=2.7 in /usr/local/lib/python3.10/dist-packages (from dwave-cloud-client<0.13.0,>=0.12.0->dwave-system) (2.8.2)\n",
            "Requirement already satisfied: plucky<0.5,>=0.4.3 in /usr/local/lib/python3.10/dist-packages (from dwave-cloud-client<0.13.0,>=0.12.0->dwave-system) (0.4.3)\n",
            "Requirement already satisfied: diskcache<6,>=5.2.1 in /usr/local/lib/python3.10/dist-packages (from dwave-cloud-client<0.13.0,>=0.12.0->dwave-system) (5.6.3)\n",
            "Requirement already satisfied: packaging>=19 in /usr/local/lib/python3.10/dist-packages (from dwave-cloud-client<0.13.0,>=0.12.0->dwave-system) (24.1)\n",
            "Requirement already satisfied: werkzeug<4,>=2.2 in /usr/local/lib/python3.10/dist-packages (from dwave-cloud-client<0.13.0,>=0.12.0->dwave-system) (3.0.3)\n",
            "Requirement already satisfied: typing-extensions<5,>=4.5.0 in /usr/local/lib/python3.10/dist-packages (from dwave-cloud-client<0.13.0,>=0.12.0->dwave-system) (4.12.2)\n",
            "Requirement already satisfied: authlib<2,>=1.2 in /usr/local/lib/python3.10/dist-packages (from dwave-cloud-client<0.13.0,>=0.12.0->dwave-system) (1.3.1)\n",
            "Requirement already satisfied: importlib-metadata>=5.0.0 in /usr/local/lib/python3.10/dist-packages (from dwave-cloud-client<0.13.0,>=0.12.0->dwave-system) (7.1.0)\n",
            "Requirement already satisfied: networkx>=2.4 in /usr/local/lib/python3.10/dist-packages (from dwave-networkx>=0.8.10->dwave-system) (3.2.1)\n",
            "Requirement already satisfied: fasteners>=0.15 in /usr/local/lib/python3.10/dist-packages (from minorminer<0.3.0,>=0.2.8->dwave-system) (0.19)\n",
            "Requirement already satisfied: cryptography in /usr/local/lib/python3.10/dist-packages (from authlib<2,>=1.2->dwave-cloud-client<0.13.0,>=0.12.0->dwave-system) (42.0.8)\n",
            "Requirement already satisfied: zipp>=0.5 in /usr/local/lib/python3.10/dist-packages (from importlib-metadata>=5.0.0->dwave-cloud-client<0.13.0,>=0.12.0->dwave-system) (3.19.2)\n",
            "Requirement already satisfied: annotated-types>=0.4.0 in /usr/local/lib/python3.10/dist-packages (from pydantic<3,>=2->dwave-cloud-client<0.13.0,>=0.12.0->dwave-system) (0.7.0)\n",
            "Requirement already satisfied: pydantic-core==2.18.4 in /usr/local/lib/python3.10/dist-packages (from pydantic<3,>=2->dwave-cloud-client<0.13.0,>=0.12.0->dwave-system) (2.18.4)\n",
            "Requirement already satisfied: six>=1.5 in /usr/local/lib/python3.10/dist-packages (from python-dateutil<3,>=2.7->dwave-cloud-client<0.13.0,>=0.12.0->dwave-system) (1.16.0)\n",
            "Requirement already satisfied: charset-normalizer<4,>=2 in /usr/local/lib/python3.10/dist-packages (from requests[socks]<3,>=2.25->dwave-cloud-client<0.13.0,>=0.12.0->dwave-system) (3.3.2)\n",
            "Requirement already satisfied: idna<4,>=2.5 in /usr/local/lib/python3.10/dist-packages (from requests[socks]<3,>=2.25->dwave-cloud-client<0.13.0,>=0.12.0->dwave-system) (3.7)\n",
            "Requirement already satisfied: certifi>=2017.4.17 in /usr/local/lib/python3.10/dist-packages (from requests[socks]<3,>=2.25->dwave-cloud-client<0.13.0,>=0.12.0->dwave-system) (2024.6.2)\n",
            "Requirement already satisfied: PySocks!=1.5.7,>=1.5.6 in /usr/local/lib/python3.10/dist-packages (from requests[socks]<3,>=2.25->dwave-cloud-client<0.13.0,>=0.12.0->dwave-system) (1.7.1)\n",
            "Requirement already satisfied: MarkupSafe>=2.1.1 in /usr/local/lib/python3.10/dist-packages (from werkzeug<4,>=2.2->dwave-cloud-client<0.13.0,>=0.12.0->dwave-system) (2.1.5)\n",
            "Requirement already satisfied: cffi>=1.12 in /usr/local/lib/python3.10/dist-packages (from cryptography->authlib<2,>=1.2->dwave-cloud-client<0.13.0,>=0.12.0->dwave-system) (1.16.0)\n",
            "Requirement already satisfied: pycparser in /usr/local/lib/python3.10/dist-packages (from cffi>=1.12->cryptography->authlib<2,>=1.2->dwave-cloud-client<0.13.0,>=0.12.0->dwave-system) (2.22)\n",
            "Requirement already satisfied: hybrid in /usr/local/lib/python3.10/dist-packages (1.2.3)\n",
            "Requirement already satisfied: tornado>=3.1.1 in /usr/local/lib/python3.10/dist-packages (from hybrid) (6.3.3)\n",
            "Requirement already satisfied: flask in /usr/local/lib/python3.10/dist-packages (from hybrid) (2.2.5)\n",
            "Requirement already satisfied: DBUtils in /usr/local/lib/python3.10/dist-packages (from hybrid) (3.1.0)\n",
            "Requirement already satisfied: Werkzeug>=2.2.2 in /usr/local/lib/python3.10/dist-packages (from flask->hybrid) (3.0.3)\n",
            "Requirement already satisfied: Jinja2>=3.0 in /usr/local/lib/python3.10/dist-packages (from flask->hybrid) (3.1.4)\n",
            "Requirement already satisfied: itsdangerous>=2.0 in /usr/local/lib/python3.10/dist-packages (from flask->hybrid) (2.2.0)\n",
            "Requirement already satisfied: click>=8.0 in /usr/local/lib/python3.10/dist-packages (from flask->hybrid) (8.1.7)\n",
            "Requirement already satisfied: MarkupSafe>=2.0 in /usr/local/lib/python3.10/dist-packages (from Jinja2>=3.0->flask->hybrid) (2.1.5)\n"
          ]
        }
      ]
    },
    {
      "cell_type": "code",
      "source": [
        "# experimental:start\n",
        "def as_bqm(self) -> 'dimod.BinaryQuadraticModel':\n",
        "    \"\"\"\n",
        "    The polynomial is returned as a :class:`dimod.BinaryQuadraticModel` object.\n",
        "\n",
        "    :return: qubo as dimod.BinaryQuadraticModel object\n",
        "    :rtype: dimod.BinaryQuadraticModel\n",
        "    \"\"\"\n",
        "\n",
        "    try:\n",
        "        import dimod\n",
        "    except Exception as oops:\n",
        "        print('\\n\\n' + (100 * '#'))\n",
        "        print('pip install dwave-ocean-sdk')\n",
        "        print((100 * '#') + '\\n\\n')\n",
        "        raise oops\n",
        "\n",
        "    return dimod.BinaryQuadraticModel(\n",
        "        {i0: self._p1[i0] for i0 in self._p1},\n",
        "        {(i0, i1): self._p2[i0][i1] for i0 in self._p2 for i1 in self._p2[i0]},\n",
        "        self._p0,\n",
        "        dimod.BINARY)\n"
      ],
      "metadata": {
        "id": "yyYngcvFGA62"
      },
      "execution_count": 56,
      "outputs": []
    },
    {
      "cell_type": "code",
      "source": [
        "bqm_problem=QUBO.as_bqm()"
      ],
      "metadata": {
        "id": "Qc6SOuC8N4Tu"
      },
      "execution_count": 57,
      "outputs": []
    },
    {
      "cell_type": "code",
      "source": [
        "os.environ['DWAVE_API_TOKEN']='DEV-8118e94d4ee0db7e32f9198eb7e865c8a30acfa5'"
      ],
      "metadata": {
        "id": "IjhwbnRVOB6Y"
      },
      "execution_count": 58,
      "outputs": []
    },
    {
      "cell_type": "markdown",
      "source": [
        "## Solver Híbrido"
      ],
      "metadata": {
        "id": "-fSFkbHfRBZt"
      }
    },
    {
      "cell_type": "code",
      "source": [
        "from dimod.generators import and_gate\n",
        "from dwave.system import LeapHybridSampler\n",
        "\n",
        "sampler = LeapHybridSampler()\n",
        "answer = sampler.sample(bqm_problem)\n",
        "print(answer)"
      ],
      "metadata": {
        "id": "RmDqh4-POOPx",
        "colab": {
          "base_uri": "https://localhost:8080/"
        },
        "outputId": "d8b401e0-a13a-450c-d79e-a08b2dd131b6"
      },
      "execution_count": 59,
      "outputs": [
        {
          "output_type": "stream",
          "name": "stdout",
          "text": [
            "   0  1  2  3  4  5  6  7  8  9 10 11 12 13 14 15       energy num_oc.\n",
            "0  1  1  0  0  0  0  0  0  0  1  1  1  1  1  1  1 -9323.986529       1\n",
            "['BINARY', 1 rows, 1 samples, 16 variables]\n"
          ]
        }
      ]
    },
    {
      "cell_type": "code",
      "source": [
        "for datum in answer.data(['sample', 'energy']):\n",
        "   print(datum.sample, datum.energy)"
      ],
      "metadata": {
        "id": "bOZ4fwPpOQ3Q",
        "colab": {
          "base_uri": "https://localhost:8080/"
        },
        "outputId": "2309354f-5b27-4532-c599-953b9f9aca22"
      },
      "execution_count": 60,
      "outputs": [
        {
          "output_type": "stream",
          "name": "stdout",
          "text": [
            "{0: 1, 1: 1, 2: 0, 3: 0, 4: 0, 5: 0, 6: 0, 7: 0, 8: 0, 9: 1, 10: 1, 11: 1, 12: 1, 13: 1, 14: 1, 15: 1} -9323.986529313726\n"
          ]
        }
      ]
    },
    {
      "cell_type": "code",
      "source": [
        "solution_dwave=list(datum.sample.values())"
      ],
      "metadata": {
        "id": "mU0MlY7XOTip"
      },
      "execution_count": 61,
      "outputs": []
    },
    {
      "cell_type": "code",
      "source": [
        "print( \"QUBO     = %10.6f\" % (QUBO.compute(solution_dwave)) )\n",
        "print( \"H_cuad   = %10.6f\" % (H_cuad.compute(solution_dwave)) )\n",
        "print( \"H_slack  = %10.6f\" % (H_slack.compute(solution_dwave)) )\n",
        "print( \"H_budget = %10.6f\" % (H_budget.compute(solution_dwave)) )"
      ],
      "metadata": {
        "id": "7lKZI4EGOU5x",
        "colab": {
          "base_uri": "https://localhost:8080/"
        },
        "outputId": "18be80d4-445d-464b-aaa0-3ce80c7a73a2"
      },
      "execution_count": 62,
      "outputs": [
        {
          "output_type": "stream",
          "name": "stdout",
          "text": [
            "QUBO     = -9323.986529\n",
            "H_cuad   =  98.792125\n",
            "H_slack  =  -9.422779\n",
            "H_budget =   0.000000\n"
          ]
        }
      ]
    },
    {
      "cell_type": "code",
      "source": [
        "def as_bqm(self) -> 'dimod.BinaryQuadraticModel':\n",
        "    \"\"\"\n",
        "    Convertir el polinomio a un objeto dimod.BinaryQuadraticModel.\n",
        "    \"\"\"\n",
        "    try:\n",
        "        import dimod\n",
        "    except ImportError as error:\n",
        "        print('\\n\\n' + (100 * '#'))\n",
        "        print('Please install dwave-ocean-sdk')\n",
        "        print((100 * '#') + '\\n\\n')\n",
        "        raise error\n",
        "\n",
        "    return dimod.BinaryQuadraticModel(\n",
        "        {i0: self._p1[i0] for i0 in self._p1},\n",
        "        {(i0, i1): self._p2[i0][i1] for i0 in self._p2 for i1 in self._p2[i0]},\n",
        "        self._p0,\n",
        "        dimod.BINARY)\n",
        "\n",
        "# Convierte el QUBO a un modelo BQM\n",
        "bqm_problem = QUBO.as_bqm()\n",
        "\n",
        "# Configuración del sampler de D-Wave\n",
        "import os\n",
        "from dwave.system import LeapHybridSampler\n",
        "\n",
        "os.environ['DWAVE_API_TOKEN'] = 'DEV-8118e94d4ee0db7e32f9198eb7e865c8a30acfa5'\n",
        "sampler = LeapHybridSampler()\n",
        "\n",
        "# Muestreo del problema BQM\n",
        "answer = sampler.sample(bqm_problem)\n",
        "\n",
        "# Análisis de la solución\n",
        "for datum in answer.data(['sample', 'energy']):\n",
        "    print(\"Configuración de solución: \", datum.sample)\n",
        "    print(\"Energía: \", datum.energy)\n",
        "\n"
      ],
      "metadata": {
        "colab": {
          "base_uri": "https://localhost:8080/"
        },
        "id": "4RQDBuMkpnlR",
        "outputId": "64ccf378-c7bc-4063-abaf-0e6430278ebc"
      },
      "execution_count": 81,
      "outputs": [
        {
          "output_type": "stream",
          "name": "stdout",
          "text": [
            "Configuración de solución:  {0: 1, 1: 1, 2: 0, 3: 0, 4: 0, 5: 0, 6: 0, 7: 0, 8: 0, 9: 1, 10: 1, 11: 1, 12: 1, 13: 1, 14: 1, 15: 1}\n",
            "Energía:  -9323.986529313726\n"
          ]
        }
      ]
    },
    {
      "cell_type": "markdown",
      "source": [
        "## Solver Cuántico"
      ],
      "metadata": {
        "id": "DnGkWzCkRDm4"
      }
    },
    {
      "cell_type": "code",
      "source": [
        "import time\n",
        "from dwave.system.composites import EmbeddingComposite\n",
        "from dwave.system.samplers import DWaveSampler\n",
        "\n",
        "# Mide el tiempo de muestreo\n",
        "sample_time = time.time()\n",
        "\n",
        "# Establece un sampler QPU con incrustación\n",
        "sampler = EmbeddingComposite(DWaveSampler())\n",
        "\n",
        "# Número de lecturas\n",
        "num_reads = 2000\n",
        "\n",
        "# Muestrea el problema BQM\n",
        "sampleset = sampler.sample(bqm_problem,\n",
        "                           num_reads=num_reads,\n",
        "                           label='Purely Quantum Exec')\n",
        "\n",
        "# Analiza la solución con la menor energía\n",
        "for datum in sampleset.lowest().data(['sample', 'energy']):\n",
        "    print(\"Configuración de solución: \", datum.sample)\n",
        "    print(\"Energía: \", datum.energy)\n",
        "\n",
        "# No se realizan cálculos locales de QUBO, H_cuad, H_slack, o H_budget\n"
      ],
      "metadata": {
        "colab": {
          "base_uri": "https://localhost:8080/"
        },
        "id": "dYXSABU825NK",
        "outputId": "f6537c69-a225-4dec-f917-2b193e3a39aa"
      },
      "execution_count": 84,
      "outputs": [
        {
          "output_type": "stream",
          "name": "stdout",
          "text": [
            "Configuración de solución:  {0: 0, 1: 1, 2: 0, 3: 0, 4: 0, 5: 0, 6: 1, 7: 0, 8: 0, 9: 1, 10: 1, 11: 1, 12: 1, 13: 1, 14: 1, 15: 1}\n",
            "Energía:  -9043.523469923297\n"
          ]
        }
      ]
    }
  ]
}